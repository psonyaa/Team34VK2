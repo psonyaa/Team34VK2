{
 "cells": [
  {
   "cell_type": "markdown",
   "metadata": {},
   "source": [
    "# VK CUP\n"
   ]
  },
  {
   "cell_type": "markdown",
   "metadata": {},
   "source": [
    "### Описание задачи -- Vk Ads Auction Forecasting Challenge\n",
    "\n",
    "Реклама ВКонтакте работает по тем же принципам, что и большинство рекламных систем – на основе аукциона (тут можно ссылку на мой доклад из VK Tech). Чем больше рекламодатель готов заплатить за показ рекламы пользователю – тем больше людей увидят его рекламу.   \n",
    "\n",
    "Ваша задача – предсказать, какое количество людей увидят конкретное рекламное объявление в будущем."
   ]
  },
  {
   "cell_type": "markdown",
   "metadata": {},
   "source": [
    "#### Метрика оценки задачи\n",
    "\n",
    "Задача оценивается по метрике, которая считается значениям из всех трех колонок –`at_least_one`, `at_least_two` и `at_least_three`.\n",
    "\n",
    "Метрика – Smoothed Mean Log Accuracy Ratio, переведенная в проценты.\n",
    "\n",
    "$$ 100\\% \\cdot \\left( \\exp \\left( \\frac{1}{n} \\sum_{i=1}^{n}\\left|\\log\\left(\\frac{ Predicted_i + \\epsilon}{Actual_i + \\epsilon}\\right)\\right| \\right) - 1 \\right) $$\n",
    "\n",
    "EPS = 0.005\n",
    "\n",
    "Метрика интерпретируется следующим образом: это среднее значение относительного расхождения эталона и предсказанного значения в процентах. \n",
    "\n",
    "Например, значение 30% значит, что в среднем модель ошибается на 30% от реальности. Чем ближе метрика к 0 – тем лучше.\n",
    "\n",
    "Сглаживание в метрике нужно, чтобы уменьшить влияние относительной ошибки там, где эталон близок к нулю. \n",
    "\n",
    "Логарифм в метрике берется для того, чтобы overpredict и underpredict расчитывались симметрично.\n"
   ]
  },
  {
   "cell_type": "markdown",
   "metadata": {},
   "source": [
    "####  Важные условия работы аукциона и условности задачи:\n",
    "- Если ставка объявления `cpm` больше всех ставок всех остальных участников: со 100% вероятность выигрывает объявление со ставкой `cpm`\n",
    "- Если ставка объявления `cpm` равна максимальной ставке среди всех остальных участников: объявление со ставкой `cpm` выигрывает с вероятностью в 50%. В реальном аукционе объявление может выигрывать по совершенно другим правилам и вероятностям, это упрощение для моделирования конкретно в данном датасете. \n",
    "- Система запоминает все объявления, который видел пользователь в течении сессии и не показывает их, даже если это самые дорогие объявления в аукционе.  Новая сессия начинается после отсутсвия показов рекламы пользователю в течении 6 часов.\n"
   ]
  },
  {
   "cell_type": "markdown",
   "metadata": {},
   "source": [
    "Ваш алгоритм будет тестироваться на следующем месяце, после доступной вам истории показов. То есть, hour_start и hour_end в тестовых заданиях не будут пересекаться с hour из доступной вам `history.tsv`.\n",
    "\n",
    "Пользователи в тестовых заданиях будут выбраны из `users.tsv`, который вам доступен.\n",
    "\n",
    "Задания выглядят идентично заданиям из `validate.tsv`, вывод (TARGET) ожидается ровно в таком же формате, что и `validate_answers.tsv`."
   ]
  },
  {
   "cell_type": "code",
   "execution_count": 2,
   "metadata": {},
   "outputs": [],
   "source": [
    "import pandas as pd\n",
    "import numpy as np\n",
    "import matplotlib.pyplot as plt"
   ]
  },
  {
   "cell_type": "code",
   "execution_count": 3,
   "metadata": {},
   "outputs": [],
   "source": [
    "df_users = pd.read_csv('users.tsv', sep='\\t', header=0)\n",
    "df_hist = pd.read_csv('history.tsv', sep='\\t', header=0)\n",
    "df_val = pd.read_csv('validate.tsv', sep='\\t', header=0)\n",
    "df_val_ans = pd.read_csv('validate_answers.tsv', sep='\\t', header=0)"
   ]
  },
  {
   "cell_type": "code",
   "execution_count": 4,
   "metadata": {},
   "outputs": [
    {
     "name": "stdout",
     "output_type": "stream",
     "text": [
      "Количество дублей в df_users: 0\n",
      "Количество пропусков в df_users: \n",
      "user_id    0\n",
      "sex        0\n",
      "age        0\n",
      "city_id    0\n",
      "dtype: int64\n",
      "\n",
      "Количество дублей в df_hist: 22190\n",
      "Количество пропусков в df_hist: \n",
      "hour         0\n",
      "cpm          0\n",
      "publisher    0\n",
      "user_id      0\n",
      "dtype: int64\n",
      "\n",
      "Количество дублей в df_val: 0\n",
      "Количество пропусков в df_val: \n",
      "cpm              0\n",
      "hour_start       0\n",
      "hour_end         0\n",
      "publishers       0\n",
      "audience_size    0\n",
      "user_ids         0\n",
      "dtype: int64\n",
      "\n",
      "Количество дублей в df_val_ans: 130\n",
      "Количество пропусков в df_val_ans: \n",
      "at_least_one      0\n",
      "at_least_two      0\n",
      "at_least_three    0\n",
      "dtype: int64\n",
      "\n"
     ]
    }
   ],
   "source": [
    "print(f'Количество дублей в df_users: {df_users.duplicated().sum()}')\n",
    "print(f'Количество пропусков в df_users: \\n{df_users.isnull().sum()}', end='\\n\\n')\n",
    "\n",
    "print(f'Количество дублей в df_hist: {df_hist.duplicated().sum()}')\n",
    "print(f'Количество пропусков в df_hist: \\n{df_hist.isnull().sum()}', end='\\n\\n')\n",
    "\n",
    "print(f'Количество дублей в df_val: {df_val.duplicated().sum()}')\n",
    "print(f'Количество пропусков в df_val: \\n{df_val.isnull().sum()}', end='\\n\\n')\n",
    "\n",
    "print(f'Количество дублей в df_val_ans: {df_val_ans.duplicated().sum()}')\n",
    "print(f'Количество пропусков в df_val_ans: \\n{df_val_ans.isnull().sum()}', end='\\n\\n')"
   ]
  },
  {
   "cell_type": "markdown",
   "metadata": {},
   "source": [
    "Удалим дубликаты в количестве 22 190 в датасете `df_hist`. Из датасета с таргетами `val_answers` удалять не будем, чтобы не нарушить соответствие строк с датасетом `validate`"
   ]
  },
  {
   "cell_type": "code",
   "execution_count": 5,
   "metadata": {},
   "outputs": [
    {
     "name": "stdout",
     "output_type": "stream",
     "text": [
      "<class 'pandas.core.frame.DataFrame'>\n",
      "Index: 1125667 entries, 0 to 1147856\n",
      "Data columns (total 4 columns):\n",
      " #   Column     Non-Null Count    Dtype  \n",
      "---  ------     --------------    -----  \n",
      " 0   hour       1125667 non-null  int64  \n",
      " 1   cpm        1125667 non-null  float64\n",
      " 2   publisher  1125667 non-null  int64  \n",
      " 3   user_id    1125667 non-null  int64  \n",
      "dtypes: float64(1), int64(3)\n",
      "memory usage: 42.9 MB\n"
     ]
    }
   ],
   "source": [
    "df_hist.drop_duplicates(inplace=True)\n",
    "df_hist.info()"
   ]
  },
  {
   "cell_type": "markdown",
   "metadata": {},
   "source": [
    "Пропуски данных отсутствуют."
   ]
  },
  {
   "cell_type": "markdown",
   "metadata": {},
   "source": [
    "#### `users.tsv` - датасет пользователей \n",
    "- `user_id` – уникальный идентификатор пользователя\n",
    "- `sex` – указанный пользователем пол в анкете\n",
    "- `age` – указанный пользователем в анкете возраст пользователя. 0 – не указан.\n",
    "- `city_id` - указанный пользователем в анкете город проживания. 0 – не указан."
   ]
  },
  {
   "cell_type": "code",
   "execution_count": 6,
   "metadata": {},
   "outputs": [
    {
     "data": {
      "text/html": [
       "<div>\n",
       "<style scoped>\n",
       "    .dataframe tbody tr th:only-of-type {\n",
       "        vertical-align: middle;\n",
       "    }\n",
       "\n",
       "    .dataframe tbody tr th {\n",
       "        vertical-align: top;\n",
       "    }\n",
       "\n",
       "    .dataframe thead th {\n",
       "        text-align: right;\n",
       "    }\n",
       "</style>\n",
       "<table border=\"1\" class=\"dataframe\">\n",
       "  <thead>\n",
       "    <tr style=\"text-align: right;\">\n",
       "      <th></th>\n",
       "      <th>user_id</th>\n",
       "      <th>sex</th>\n",
       "      <th>age</th>\n",
       "      <th>city_id</th>\n",
       "    </tr>\n",
       "  </thead>\n",
       "  <tbody>\n",
       "    <tr>\n",
       "      <th>0</th>\n",
       "      <td>0</td>\n",
       "      <td>2</td>\n",
       "      <td>19</td>\n",
       "      <td>0</td>\n",
       "    </tr>\n",
       "    <tr>\n",
       "      <th>1</th>\n",
       "      <td>1</td>\n",
       "      <td>1</td>\n",
       "      <td>0</td>\n",
       "      <td>1</td>\n",
       "    </tr>\n",
       "    <tr>\n",
       "      <th>2</th>\n",
       "      <td>2</td>\n",
       "      <td>2</td>\n",
       "      <td>24</td>\n",
       "      <td>2</td>\n",
       "    </tr>\n",
       "    <tr>\n",
       "      <th>3</th>\n",
       "      <td>3</td>\n",
       "      <td>1</td>\n",
       "      <td>20</td>\n",
       "      <td>3</td>\n",
       "    </tr>\n",
       "    <tr>\n",
       "      <th>4</th>\n",
       "      <td>4</td>\n",
       "      <td>2</td>\n",
       "      <td>29</td>\n",
       "      <td>4</td>\n",
       "    </tr>\n",
       "  </tbody>\n",
       "</table>\n",
       "</div>"
      ],
      "text/plain": [
       "   user_id  sex  age  city_id\n",
       "0        0    2   19        0\n",
       "1        1    1    0        1\n",
       "2        2    2   24        2\n",
       "3        3    1   20        3\n",
       "4        4    2   29        4"
      ]
     },
     "execution_count": 6,
     "metadata": {},
     "output_type": "execute_result"
    }
   ],
   "source": [
    "df_users.head()"
   ]
  },
  {
   "cell_type": "code",
   "execution_count": 7,
   "metadata": {},
   "outputs": [
    {
     "name": "stdout",
     "output_type": "stream",
     "text": [
      "<class 'pandas.core.frame.DataFrame'>\n",
      "RangeIndex: 27769 entries, 0 to 27768\n",
      "Data columns (total 4 columns):\n",
      " #   Column   Non-Null Count  Dtype\n",
      "---  ------   --------------  -----\n",
      " 0   user_id  27769 non-null  int64\n",
      " 1   sex      27769 non-null  int64\n",
      " 2   age      27769 non-null  int64\n",
      " 3   city_id  27769 non-null  int64\n",
      "dtypes: int64(4)\n",
      "memory usage: 867.9 KB\n"
     ]
    }
   ],
   "source": [
    "df_users.info()"
   ]
  },
  {
   "cell_type": "markdown",
   "metadata": {},
   "source": [
    "Пропуски данных отсутствуют."
   ]
  },
  {
   "cell_type": "markdown",
   "metadata": {},
   "source": [
    "27 769 клиентов без пропусков данных"
   ]
  },
  {
   "cell_type": "markdown",
   "metadata": {},
   "source": [
    "#### `history.tsv` - датасет показов рекламы пользователям за два последовательных месяца\n",
    "- `hour` – в какой час пользователь видел объявление\n",
    "- `cpm` - цена показанного рекламного объявления в рекламном аукционе. Это значит, что на данном аукционе это была максимальная ставка. \n",
    "- `publisher` - площадка, на который пользователь видел рекламу\n",
    "- `user_id` - уникальный идентификатор пользователя\n"
   ]
  },
  {
   "cell_type": "code",
   "execution_count": 8,
   "metadata": {},
   "outputs": [
    {
     "data": {
      "text/html": [
       "<div>\n",
       "<style scoped>\n",
       "    .dataframe tbody tr th:only-of-type {\n",
       "        vertical-align: middle;\n",
       "    }\n",
       "\n",
       "    .dataframe tbody tr th {\n",
       "        vertical-align: top;\n",
       "    }\n",
       "\n",
       "    .dataframe thead th {\n",
       "        text-align: right;\n",
       "    }\n",
       "</style>\n",
       "<table border=\"1\" class=\"dataframe\">\n",
       "  <thead>\n",
       "    <tr style=\"text-align: right;\">\n",
       "      <th></th>\n",
       "      <th>hour</th>\n",
       "      <th>cpm</th>\n",
       "      <th>publisher</th>\n",
       "      <th>user_id</th>\n",
       "    </tr>\n",
       "  </thead>\n",
       "  <tbody>\n",
       "    <tr>\n",
       "      <th>0</th>\n",
       "      <td>10</td>\n",
       "      <td>30.00</td>\n",
       "      <td>1</td>\n",
       "      <td>15661</td>\n",
       "    </tr>\n",
       "    <tr>\n",
       "      <th>1</th>\n",
       "      <td>8</td>\n",
       "      <td>41.26</td>\n",
       "      <td>1</td>\n",
       "      <td>8444</td>\n",
       "    </tr>\n",
       "    <tr>\n",
       "      <th>2</th>\n",
       "      <td>7</td>\n",
       "      <td>360.00</td>\n",
       "      <td>1</td>\n",
       "      <td>15821</td>\n",
       "    </tr>\n",
       "    <tr>\n",
       "      <th>3</th>\n",
       "      <td>18</td>\n",
       "      <td>370.00</td>\n",
       "      <td>1</td>\n",
       "      <td>21530</td>\n",
       "    </tr>\n",
       "    <tr>\n",
       "      <th>4</th>\n",
       "      <td>8</td>\n",
       "      <td>195.00</td>\n",
       "      <td>2</td>\n",
       "      <td>22148</td>\n",
       "    </tr>\n",
       "  </tbody>\n",
       "</table>\n",
       "</div>"
      ],
      "text/plain": [
       "   hour     cpm  publisher  user_id\n",
       "0    10   30.00          1    15661\n",
       "1     8   41.26          1     8444\n",
       "2     7  360.00          1    15821\n",
       "3    18  370.00          1    21530\n",
       "4     8  195.00          2    22148"
      ]
     },
     "execution_count": 8,
     "metadata": {},
     "output_type": "execute_result"
    }
   ],
   "source": [
    "df_hist.head()"
   ]
  },
  {
   "cell_type": "code",
   "execution_count": 9,
   "metadata": {},
   "outputs": [
    {
     "name": "stdout",
     "output_type": "stream",
     "text": [
      "<class 'pandas.core.frame.DataFrame'>\n",
      "Index: 1125667 entries, 0 to 1147856\n",
      "Data columns (total 4 columns):\n",
      " #   Column     Non-Null Count    Dtype  \n",
      "---  ------     --------------    -----  \n",
      " 0   hour       1125667 non-null  int64  \n",
      " 1   cpm        1125667 non-null  float64\n",
      " 2   publisher  1125667 non-null  int64  \n",
      " 3   user_id    1125667 non-null  int64  \n",
      "dtypes: float64(1), int64(3)\n",
      "memory usage: 42.9 MB\n"
     ]
    }
   ],
   "source": [
    "df_hist.info()"
   ]
  },
  {
   "cell_type": "markdown",
   "metadata": {},
   "source": [
    "Пропуски данных отсутствуют."
   ]
  },
  {
   "cell_type": "markdown",
   "metadata": {},
   "source": [
    "#### `validate.tsv` - датасет объявлений для валидации алгоритма\n",
    "- `cpm` - для какой цены объявления нужно сделать прогноз\n",
    "- `hour_start` - предположительное время запуска рекламного объявления\n",
    "- `hour_end` - предположительное время остановки рекламного объявления. По итогу прогноз делается для рекламного объявление, которое будет запущено в период времени `[hour_start, hour_end]`\n",
    "- `publishers` - на каких площадках объявление может быть показано\n",
    "- `audience_size` - размер аудитории объявления, количество идентификаторов в поле `user_ids`\n",
    "- `user_ids` – аудитория объявления – список пользователей, кому рекламодатель хочет показать объявление."
   ]
  },
  {
   "cell_type": "code",
   "execution_count": 10,
   "metadata": {},
   "outputs": [
    {
     "data": {
      "text/html": [
       "<div>\n",
       "<style scoped>\n",
       "    .dataframe tbody tr th:only-of-type {\n",
       "        vertical-align: middle;\n",
       "    }\n",
       "\n",
       "    .dataframe tbody tr th {\n",
       "        vertical-align: top;\n",
       "    }\n",
       "\n",
       "    .dataframe thead th {\n",
       "        text-align: right;\n",
       "    }\n",
       "</style>\n",
       "<table border=\"1\" class=\"dataframe\">\n",
       "  <thead>\n",
       "    <tr style=\"text-align: right;\">\n",
       "      <th></th>\n",
       "      <th>cpm</th>\n",
       "      <th>hour_start</th>\n",
       "      <th>hour_end</th>\n",
       "      <th>publishers</th>\n",
       "      <th>audience_size</th>\n",
       "      <th>user_ids</th>\n",
       "    </tr>\n",
       "  </thead>\n",
       "  <tbody>\n",
       "    <tr>\n",
       "      <th>0</th>\n",
       "      <td>220.0</td>\n",
       "      <td>1058</td>\n",
       "      <td>1153</td>\n",
       "      <td>7,17</td>\n",
       "      <td>1906</td>\n",
       "      <td>12,44,46,50,58,71,93,122,134,143,176,184,187,1...</td>\n",
       "    </tr>\n",
       "    <tr>\n",
       "      <th>1</th>\n",
       "      <td>312.0</td>\n",
       "      <td>1295</td>\n",
       "      <td>1301</td>\n",
       "      <td>3,18</td>\n",
       "      <td>1380</td>\n",
       "      <td>29,81,98,102,165,167,195,205,218,231,242,263,3...</td>\n",
       "    </tr>\n",
       "    <tr>\n",
       "      <th>2</th>\n",
       "      <td>70.0</td>\n",
       "      <td>1229</td>\n",
       "      <td>1249</td>\n",
       "      <td>1,2,3,9,15,21</td>\n",
       "      <td>888</td>\n",
       "      <td>12,23,25,29,45,85,92,124,156,190,272,334,456,5...</td>\n",
       "    </tr>\n",
       "    <tr>\n",
       "      <th>3</th>\n",
       "      <td>240.0</td>\n",
       "      <td>1295</td>\n",
       "      <td>1377</td>\n",
       "      <td>1,14</td>\n",
       "      <td>440</td>\n",
       "      <td>44,122,187,209,242,255,312,345,382,465,513,524...</td>\n",
       "    </tr>\n",
       "    <tr>\n",
       "      <th>4</th>\n",
       "      <td>262.0</td>\n",
       "      <td>752</td>\n",
       "      <td>990</td>\n",
       "      <td>1,3,7,8</td>\n",
       "      <td>1476</td>\n",
       "      <td>15,24,30,43,50,53,96,105,159,168,181,190,196,2...</td>\n",
       "    </tr>\n",
       "  </tbody>\n",
       "</table>\n",
       "</div>"
      ],
      "text/plain": [
       "     cpm  hour_start  hour_end     publishers  audience_size  \\\n",
       "0  220.0        1058      1153           7,17           1906   \n",
       "1  312.0        1295      1301           3,18           1380   \n",
       "2   70.0        1229      1249  1,2,3,9,15,21            888   \n",
       "3  240.0        1295      1377           1,14            440   \n",
       "4  262.0         752       990        1,3,7,8           1476   \n",
       "\n",
       "                                            user_ids  \n",
       "0  12,44,46,50,58,71,93,122,134,143,176,184,187,1...  \n",
       "1  29,81,98,102,165,167,195,205,218,231,242,263,3...  \n",
       "2  12,23,25,29,45,85,92,124,156,190,272,334,456,5...  \n",
       "3  44,122,187,209,242,255,312,345,382,465,513,524...  \n",
       "4  15,24,30,43,50,53,96,105,159,168,181,190,196,2...  "
      ]
     },
     "execution_count": 10,
     "metadata": {},
     "output_type": "execute_result"
    }
   ],
   "source": [
    "df_val.head()"
   ]
  },
  {
   "cell_type": "code",
   "execution_count": 11,
   "metadata": {},
   "outputs": [
    {
     "data": {
      "text/html": [
       "<div>\n",
       "<style scoped>\n",
       "    .dataframe tbody tr th:only-of-type {\n",
       "        vertical-align: middle;\n",
       "    }\n",
       "\n",
       "    .dataframe tbody tr th {\n",
       "        vertical-align: top;\n",
       "    }\n",
       "\n",
       "    .dataframe thead th {\n",
       "        text-align: right;\n",
       "    }\n",
       "</style>\n",
       "<table border=\"1\" class=\"dataframe\">\n",
       "  <thead>\n",
       "    <tr style=\"text-align: right;\">\n",
       "      <th></th>\n",
       "      <th>cpm</th>\n",
       "      <th>hour_start</th>\n",
       "      <th>hour_end</th>\n",
       "      <th>audience_size</th>\n",
       "    </tr>\n",
       "  </thead>\n",
       "  <tbody>\n",
       "    <tr>\n",
       "      <th>count</th>\n",
       "      <td>1008.000000</td>\n",
       "      <td>1008.000000</td>\n",
       "      <td>1008.000000</td>\n",
       "      <td>1008.000000</td>\n",
       "    </tr>\n",
       "    <tr>\n",
       "      <th>mean</th>\n",
       "      <td>162.425595</td>\n",
       "      <td>1065.046627</td>\n",
       "      <td>1166.225198</td>\n",
       "      <td>1090.087302</td>\n",
       "    </tr>\n",
       "    <tr>\n",
       "      <th>std</th>\n",
       "      <td>112.192984</td>\n",
       "      <td>192.984789</td>\n",
       "      <td>192.168496</td>\n",
       "      <td>613.557243</td>\n",
       "    </tr>\n",
       "    <tr>\n",
       "      <th>min</th>\n",
       "      <td>30.000000</td>\n",
       "      <td>747.000000</td>\n",
       "      <td>753.000000</td>\n",
       "      <td>300.000000</td>\n",
       "    </tr>\n",
       "    <tr>\n",
       "      <th>25%</th>\n",
       "      <td>79.000000</td>\n",
       "      <td>906.000000</td>\n",
       "      <td>1019.000000</td>\n",
       "      <td>575.000000</td>\n",
       "    </tr>\n",
       "    <tr>\n",
       "      <th>50%</th>\n",
       "      <td>130.000000</td>\n",
       "      <td>1048.000000</td>\n",
       "      <td>1184.000000</td>\n",
       "      <td>960.000000</td>\n",
       "    </tr>\n",
       "    <tr>\n",
       "      <th>75%</th>\n",
       "      <td>220.000000</td>\n",
       "      <td>1214.250000</td>\n",
       "      <td>1325.250000</td>\n",
       "      <td>1464.000000</td>\n",
       "    </tr>\n",
       "    <tr>\n",
       "      <th>max</th>\n",
       "      <td>475.000000</td>\n",
       "      <td>1485.000000</td>\n",
       "      <td>1488.000000</td>\n",
       "      <td>2500.000000</td>\n",
       "    </tr>\n",
       "  </tbody>\n",
       "</table>\n",
       "</div>"
      ],
      "text/plain": [
       "               cpm   hour_start     hour_end  audience_size\n",
       "count  1008.000000  1008.000000  1008.000000    1008.000000\n",
       "mean    162.425595  1065.046627  1166.225198    1090.087302\n",
       "std     112.192984   192.984789   192.168496     613.557243\n",
       "min      30.000000   747.000000   753.000000     300.000000\n",
       "25%      79.000000   906.000000  1019.000000     575.000000\n",
       "50%     130.000000  1048.000000  1184.000000     960.000000\n",
       "75%     220.000000  1214.250000  1325.250000    1464.000000\n",
       "max     475.000000  1485.000000  1488.000000    2500.000000"
      ]
     },
     "execution_count": 11,
     "metadata": {},
     "output_type": "execute_result"
    }
   ],
   "source": [
    "df_val.describe()"
   ]
  },
  {
   "cell_type": "code",
   "execution_count": 12,
   "metadata": {},
   "outputs": [
    {
     "name": "stdout",
     "output_type": "stream",
     "text": [
      "<class 'pandas.core.frame.DataFrame'>\n",
      "RangeIndex: 1008 entries, 0 to 1007\n",
      "Data columns (total 6 columns):\n",
      " #   Column         Non-Null Count  Dtype  \n",
      "---  ------         --------------  -----  \n",
      " 0   cpm            1008 non-null   float64\n",
      " 1   hour_start     1008 non-null   int64  \n",
      " 2   hour_end       1008 non-null   int64  \n",
      " 3   publishers     1008 non-null   object \n",
      " 4   audience_size  1008 non-null   int64  \n",
      " 5   user_ids       1008 non-null   object \n",
      "dtypes: float64(1), int64(3), object(2)\n",
      "memory usage: 47.4+ KB\n"
     ]
    }
   ],
   "source": [
    "df_val.info()"
   ]
  },
  {
   "cell_type": "markdown",
   "metadata": {},
   "source": [
    "Пропуски данных отсутствуют."
   ]
  },
  {
   "cell_type": "markdown",
   "metadata": {},
   "source": [
    "#### `validate_answers.tsv` - датасет эталонных ответов алгоритма для валидационного датасета\n",
    "- `at_least_one` - доля пользователей, которая увидит объявление хотя бы один раз\n",
    "- `at_least_two` - доля пользователей, которая увидит объявление хотя бы два раза\n",
    "- `at_least_three` - доля пользователей, которая увидит объявление хотя бы три раза"
   ]
  },
  {
   "cell_type": "markdown",
   "metadata": {},
   "source": [
    "##### target\n",
    "Вывод ожидается ровно в таком же формате, что и `validate_answers.tsv`."
   ]
  },
  {
   "cell_type": "code",
   "execution_count": 13,
   "metadata": {},
   "outputs": [
    {
     "data": {
      "text/html": [
       "<div>\n",
       "<style scoped>\n",
       "    .dataframe tbody tr th:only-of-type {\n",
       "        vertical-align: middle;\n",
       "    }\n",
       "\n",
       "    .dataframe tbody tr th {\n",
       "        vertical-align: top;\n",
       "    }\n",
       "\n",
       "    .dataframe thead th {\n",
       "        text-align: right;\n",
       "    }\n",
       "</style>\n",
       "<table border=\"1\" class=\"dataframe\">\n",
       "  <thead>\n",
       "    <tr style=\"text-align: right;\">\n",
       "      <th></th>\n",
       "      <th>at_least_one</th>\n",
       "      <th>at_least_two</th>\n",
       "      <th>at_least_three</th>\n",
       "    </tr>\n",
       "  </thead>\n",
       "  <tbody>\n",
       "    <tr>\n",
       "      <th>0</th>\n",
       "      <td>0.0430</td>\n",
       "      <td>0.0152</td>\n",
       "      <td>0.0073</td>\n",
       "    </tr>\n",
       "    <tr>\n",
       "      <th>1</th>\n",
       "      <td>0.0130</td>\n",
       "      <td>0.0000</td>\n",
       "      <td>0.0000</td>\n",
       "    </tr>\n",
       "    <tr>\n",
       "      <th>2</th>\n",
       "      <td>0.0878</td>\n",
       "      <td>0.0135</td>\n",
       "      <td>0.0000</td>\n",
       "    </tr>\n",
       "    <tr>\n",
       "      <th>3</th>\n",
       "      <td>0.2295</td>\n",
       "      <td>0.1295</td>\n",
       "      <td>0.0727</td>\n",
       "    </tr>\n",
       "    <tr>\n",
       "      <th>4</th>\n",
       "      <td>0.3963</td>\n",
       "      <td>0.2785</td>\n",
       "      <td>0.2270</td>\n",
       "    </tr>\n",
       "  </tbody>\n",
       "</table>\n",
       "</div>"
      ],
      "text/plain": [
       "   at_least_one  at_least_two  at_least_three\n",
       "0        0.0430        0.0152          0.0073\n",
       "1        0.0130        0.0000          0.0000\n",
       "2        0.0878        0.0135          0.0000\n",
       "3        0.2295        0.1295          0.0727\n",
       "4        0.3963        0.2785          0.2270"
      ]
     },
     "execution_count": 13,
     "metadata": {},
     "output_type": "execute_result"
    }
   ],
   "source": [
    "df_val_ans.head()"
   ]
  },
  {
   "cell_type": "code",
   "execution_count": 14,
   "metadata": {},
   "outputs": [
    {
     "name": "stdout",
     "output_type": "stream",
     "text": [
      "<class 'pandas.core.frame.DataFrame'>\n",
      "RangeIndex: 1008 entries, 0 to 1007\n",
      "Data columns (total 3 columns):\n",
      " #   Column          Non-Null Count  Dtype  \n",
      "---  ------          --------------  -----  \n",
      " 0   at_least_one    1008 non-null   float64\n",
      " 1   at_least_two    1008 non-null   float64\n",
      " 2   at_least_three  1008 non-null   float64\n",
      "dtypes: float64(3)\n",
      "memory usage: 23.8 KB\n"
     ]
    }
   ],
   "source": [
    "df_val_ans.info()"
   ]
  },
  {
   "cell_type": "markdown",
   "metadata": {},
   "source": [
    "Пропуски данных отсутствуют."
   ]
  },
  {
   "cell_type": "markdown",
   "metadata": {},
   "source": [
    "### Предобработка данных"
   ]
  },
  {
   "cell_type": "markdown",
   "metadata": {},
   "source": [
    "Датасеты `users.tsv` и `history.tsv` имеют общий признак - `user_id`. \n",
    "Присоединим признаки пользователей к признакм истории по ID пользователя."
   ]
  },
  {
   "cell_type": "code",
   "execution_count": 15,
   "metadata": {},
   "outputs": [],
   "source": [
    "hist_users = df_hist.merge(df_users, on='user_id', how='left')"
   ]
  },
  {
   "cell_type": "code",
   "execution_count": 16,
   "metadata": {},
   "outputs": [
    {
     "data": {
      "text/html": [
       "<div>\n",
       "<style scoped>\n",
       "    .dataframe tbody tr th:only-of-type {\n",
       "        vertical-align: middle;\n",
       "    }\n",
       "\n",
       "    .dataframe tbody tr th {\n",
       "        vertical-align: top;\n",
       "    }\n",
       "\n",
       "    .dataframe thead th {\n",
       "        text-align: right;\n",
       "    }\n",
       "</style>\n",
       "<table border=\"1\" class=\"dataframe\">\n",
       "  <thead>\n",
       "    <tr style=\"text-align: right;\">\n",
       "      <th></th>\n",
       "      <th>hour</th>\n",
       "      <th>cpm</th>\n",
       "      <th>publisher</th>\n",
       "      <th>user_id</th>\n",
       "      <th>sex</th>\n",
       "      <th>age</th>\n",
       "      <th>city_id</th>\n",
       "    </tr>\n",
       "  </thead>\n",
       "  <tbody>\n",
       "    <tr>\n",
       "      <th>0</th>\n",
       "      <td>10</td>\n",
       "      <td>30.00</td>\n",
       "      <td>1</td>\n",
       "      <td>15661</td>\n",
       "      <td>2</td>\n",
       "      <td>28</td>\n",
       "      <td>68</td>\n",
       "    </tr>\n",
       "    <tr>\n",
       "      <th>1</th>\n",
       "      <td>8</td>\n",
       "      <td>41.26</td>\n",
       "      <td>1</td>\n",
       "      <td>8444</td>\n",
       "      <td>1</td>\n",
       "      <td>41</td>\n",
       "      <td>0</td>\n",
       "    </tr>\n",
       "    <tr>\n",
       "      <th>2</th>\n",
       "      <td>7</td>\n",
       "      <td>360.00</td>\n",
       "      <td>1</td>\n",
       "      <td>15821</td>\n",
       "      <td>1</td>\n",
       "      <td>24</td>\n",
       "      <td>0</td>\n",
       "    </tr>\n",
       "    <tr>\n",
       "      <th>3</th>\n",
       "      <td>18</td>\n",
       "      <td>370.00</td>\n",
       "      <td>1</td>\n",
       "      <td>21530</td>\n",
       "      <td>2</td>\n",
       "      <td>17</td>\n",
       "      <td>13</td>\n",
       "    </tr>\n",
       "    <tr>\n",
       "      <th>4</th>\n",
       "      <td>8</td>\n",
       "      <td>195.00</td>\n",
       "      <td>2</td>\n",
       "      <td>22148</td>\n",
       "      <td>1</td>\n",
       "      <td>23</td>\n",
       "      <td>7</td>\n",
       "    </tr>\n",
       "  </tbody>\n",
       "</table>\n",
       "</div>"
      ],
      "text/plain": [
       "   hour     cpm  publisher  user_id  sex  age  city_id\n",
       "0    10   30.00          1    15661    2   28       68\n",
       "1     8   41.26          1     8444    1   41        0\n",
       "2     7  360.00          1    15821    1   24        0\n",
       "3    18  370.00          1    21530    2   17       13\n",
       "4     8  195.00          2    22148    1   23        7"
      ]
     },
     "execution_count": 16,
     "metadata": {},
     "output_type": "execute_result"
    }
   ],
   "source": [
    "hist_users.head()"
   ]
  },
  {
   "cell_type": "code",
   "execution_count": 17,
   "metadata": {},
   "outputs": [
    {
     "name": "stdout",
     "output_type": "stream",
     "text": [
      "<class 'pandas.core.frame.DataFrame'>\n",
      "RangeIndex: 1125667 entries, 0 to 1125666\n",
      "Data columns (total 7 columns):\n",
      " #   Column     Non-Null Count    Dtype  \n",
      "---  ------     --------------    -----  \n",
      " 0   hour       1125667 non-null  int64  \n",
      " 1   cpm        1125667 non-null  float64\n",
      " 2   publisher  1125667 non-null  int64  \n",
      " 3   user_id    1125667 non-null  int64  \n",
      " 4   sex        1125667 non-null  int64  \n",
      " 5   age        1125667 non-null  int64  \n",
      " 6   city_id    1125667 non-null  int64  \n",
      "dtypes: float64(1), int64(6)\n",
      "memory usage: 60.1 MB\n"
     ]
    }
   ],
   "source": [
    "hist_users.info()"
   ]
  },
  {
   "cell_type": "code",
   "execution_count": 18,
   "metadata": {},
   "outputs": [
    {
     "data": {
      "text/html": [
       "<div>\n",
       "<style scoped>\n",
       "    .dataframe tbody tr th:only-of-type {\n",
       "        vertical-align: middle;\n",
       "    }\n",
       "\n",
       "    .dataframe tbody tr th {\n",
       "        vertical-align: top;\n",
       "    }\n",
       "\n",
       "    .dataframe thead th {\n",
       "        text-align: right;\n",
       "    }\n",
       "</style>\n",
       "<table border=\"1\" class=\"dataframe\">\n",
       "  <thead>\n",
       "    <tr style=\"text-align: right;\">\n",
       "      <th></th>\n",
       "      <th>hour</th>\n",
       "      <th>cpm</th>\n",
       "      <th>publisher</th>\n",
       "      <th>user_id</th>\n",
       "      <th>sex</th>\n",
       "      <th>age</th>\n",
       "      <th>city_id</th>\n",
       "    </tr>\n",
       "  </thead>\n",
       "  <tbody>\n",
       "    <tr>\n",
       "      <th>count</th>\n",
       "      <td>1.125667e+06</td>\n",
       "      <td>1.125667e+06</td>\n",
       "      <td>1.125667e+06</td>\n",
       "      <td>1.125667e+06</td>\n",
       "      <td>1.125667e+06</td>\n",
       "      <td>1.125667e+06</td>\n",
       "      <td>1.125667e+06</td>\n",
       "    </tr>\n",
       "    <tr>\n",
       "      <th>mean</th>\n",
       "      <td>7.601468e+02</td>\n",
       "      <td>1.890819e+02</td>\n",
       "      <td>2.007746e+00</td>\n",
       "      <td>1.385085e+04</td>\n",
       "      <td>1.465243e+00</td>\n",
       "      <td>2.891653e+01</td>\n",
       "      <td>2.323170e+02</td>\n",
       "    </tr>\n",
       "    <tr>\n",
       "      <th>std</th>\n",
       "      <td>4.307081e+02</td>\n",
       "      <td>4.597285e+02</td>\n",
       "      <td>2.065724e+00</td>\n",
       "      <td>8.027742e+03</td>\n",
       "      <td>4.988922e-01</td>\n",
       "      <td>1.788055e+01</td>\n",
       "      <td>4.431938e+02</td>\n",
       "    </tr>\n",
       "    <tr>\n",
       "      <th>min</th>\n",
       "      <td>3.000000e+00</td>\n",
       "      <td>3.000000e+01</td>\n",
       "      <td>1.000000e+00</td>\n",
       "      <td>0.000000e+00</td>\n",
       "      <td>0.000000e+00</td>\n",
       "      <td>0.000000e+00</td>\n",
       "      <td>0.000000e+00</td>\n",
       "    </tr>\n",
       "    <tr>\n",
       "      <th>25%</th>\n",
       "      <td>3.920000e+02</td>\n",
       "      <td>5.842000e+01</td>\n",
       "      <td>1.000000e+00</td>\n",
       "      <td>6.818000e+03</td>\n",
       "      <td>1.000000e+00</td>\n",
       "      <td>1.900000e+01</td>\n",
       "      <td>3.000000e+00</td>\n",
       "    </tr>\n",
       "    <tr>\n",
       "      <th>50%</th>\n",
       "      <td>7.620000e+02</td>\n",
       "      <td>1.110000e+02</td>\n",
       "      <td>1.000000e+00</td>\n",
       "      <td>1.394400e+04</td>\n",
       "      <td>1.000000e+00</td>\n",
       "      <td>2.700000e+01</td>\n",
       "      <td>3.000000e+01</td>\n",
       "    </tr>\n",
       "    <tr>\n",
       "      <th>75%</th>\n",
       "      <td>1.138000e+03</td>\n",
       "      <td>2.102500e+02</td>\n",
       "      <td>2.000000e+00</td>\n",
       "      <td>2.075950e+04</td>\n",
       "      <td>2.000000e+00</td>\n",
       "      <td>3.400000e+01</td>\n",
       "      <td>2.510000e+02</td>\n",
       "    </tr>\n",
       "    <tr>\n",
       "      <th>max</th>\n",
       "      <td>1.490000e+03</td>\n",
       "      <td>2.090540e+05</td>\n",
       "      <td>2.100000e+01</td>\n",
       "      <td>2.776800e+04</td>\n",
       "      <td>2.000000e+00</td>\n",
       "      <td>1.180000e+02</td>\n",
       "      <td>2.456000e+03</td>\n",
       "    </tr>\n",
       "  </tbody>\n",
       "</table>\n",
       "</div>"
      ],
      "text/plain": [
       "               hour           cpm     publisher       user_id           sex  \\\n",
       "count  1.125667e+06  1.125667e+06  1.125667e+06  1.125667e+06  1.125667e+06   \n",
       "mean   7.601468e+02  1.890819e+02  2.007746e+00  1.385085e+04  1.465243e+00   \n",
       "std    4.307081e+02  4.597285e+02  2.065724e+00  8.027742e+03  4.988922e-01   \n",
       "min    3.000000e+00  3.000000e+01  1.000000e+00  0.000000e+00  0.000000e+00   \n",
       "25%    3.920000e+02  5.842000e+01  1.000000e+00  6.818000e+03  1.000000e+00   \n",
       "50%    7.620000e+02  1.110000e+02  1.000000e+00  1.394400e+04  1.000000e+00   \n",
       "75%    1.138000e+03  2.102500e+02  2.000000e+00  2.075950e+04  2.000000e+00   \n",
       "max    1.490000e+03  2.090540e+05  2.100000e+01  2.776800e+04  2.000000e+00   \n",
       "\n",
       "                age       city_id  \n",
       "count  1.125667e+06  1.125667e+06  \n",
       "mean   2.891653e+01  2.323170e+02  \n",
       "std    1.788055e+01  4.431938e+02  \n",
       "min    0.000000e+00  0.000000e+00  \n",
       "25%    1.900000e+01  3.000000e+00  \n",
       "50%    2.700000e+01  3.000000e+01  \n",
       "75%    3.400000e+01  2.510000e+02  \n",
       "max    1.180000e+02  2.456000e+03  "
      ]
     },
     "execution_count": 18,
     "metadata": {},
     "output_type": "execute_result"
    }
   ],
   "source": [
    "hist_users.describe()"
   ]
  },
  {
   "cell_type": "code",
   "execution_count": 19,
   "metadata": {},
   "outputs": [
    {
     "data": {
      "image/png": "[encoded data removed]",
      "text/plain": [
       "<Figure size 2000x1000 with 9 Axes>"
      ]
     },
     "metadata": {},
     "output_type": "display_data"
    }
   ],
   "source": [
    "hist_users.hist(figsize=(20, 10), bins=50);"
   ]
  },
  {
   "cell_type": "markdown",
   "metadata": {},
   "source": [
    "На графиках выявили аномальные объекты по признакам `cpm`, `city_id`, `age`, которые желательно исключить."
   ]
  },
  {
   "cell_type": "markdown",
   "metadata": {},
   "source": [
    "Признак `cpm` имеет большие аномалии, которые надо удалить. Лимит в 475 выявили в датасете `df_val`, где max значение cpm = 475"
   ]
  },
  {
   "cell_type": "code",
   "execution_count": 20,
   "metadata": {},
   "outputs": [
    {
     "data": {
      "image/png": "[encoded data removed]",
      "text/plain": [
       "<Figure size 2000x200 with 1 Axes>"
      ]
     },
     "metadata": {},
     "output_type": "display_data"
    }
   ],
   "source": [
    "hist_users.boxplot(column='cpm', figsize=(20, 2), vert=False);"
   ]
  },
  {
   "cell_type": "code",
   "execution_count": 21,
   "metadata": {},
   "outputs": [
    {
     "name": "stdout",
     "output_type": "stream",
     "text": [
      "<class 'pandas.core.frame.DataFrame'>\n",
      "Index: 1046490 entries, 0 to 1125666\n",
      "Data columns (total 7 columns):\n",
      " #   Column     Non-Null Count    Dtype  \n",
      "---  ------     --------------    -----  \n",
      " 0   hour       1046490 non-null  int64  \n",
      " 1   cpm        1046490 non-null  float64\n",
      " 2   publisher  1046490 non-null  int64  \n",
      " 3   user_id    1046490 non-null  int64  \n",
      " 4   sex        1046490 non-null  int64  \n",
      " 5   age        1046490 non-null  int64  \n",
      " 6   city_id    1046490 non-null  int64  \n",
      "dtypes: float64(1), int64(6)\n",
      "memory usage: 63.9 MB\n"
     ]
    }
   ],
   "source": [
    "cpm_outliers = hist_users[hist_users['cpm']>475].index\n",
    "hist_users.drop(cpm_outliers, inplace=True);\n",
    "hist_users.info()"
   ]
  },
  {
   "cell_type": "markdown",
   "metadata": {},
   "source": [
    "Удалено 79 177 строк"
   ]
  },
  {
   "cell_type": "code",
   "execution_count": 22,
   "metadata": {},
   "outputs": [
    {
     "data": {
      "image/png": "[encoded data removed]",
      "text/plain": [
       "<Figure size 2000x200 with 1 Axes>"
      ]
     },
     "metadata": {},
     "output_type": "display_data"
    }
   ],
   "source": [
    "hist_users.hist(column='cpm', figsize=(20, 2));"
   ]
  },
  {
   "cell_type": "code",
   "execution_count": 23,
   "metadata": {},
   "outputs": [
    {
     "data": {
      "text/html": [
       "<div>\n",
       "<style scoped>\n",
       "    .dataframe tbody tr th:only-of-type {\n",
       "        vertical-align: middle;\n",
       "    }\n",
       "\n",
       "    .dataframe tbody tr th {\n",
       "        vertical-align: top;\n",
       "    }\n",
       "\n",
       "    .dataframe thead th {\n",
       "        text-align: right;\n",
       "    }\n",
       "</style>\n",
       "<table border=\"1\" class=\"dataframe\">\n",
       "  <thead>\n",
       "    <tr style=\"text-align: right;\">\n",
       "      <th></th>\n",
       "      <th>hour</th>\n",
       "      <th>cpm</th>\n",
       "      <th>publisher</th>\n",
       "      <th>user_id</th>\n",
       "      <th>sex</th>\n",
       "      <th>age</th>\n",
       "      <th>city_id</th>\n",
       "    </tr>\n",
       "  </thead>\n",
       "  <tbody>\n",
       "    <tr>\n",
       "      <th>count</th>\n",
       "      <td>1.009497e+06</td>\n",
       "      <td>1.009497e+06</td>\n",
       "      <td>1.009497e+06</td>\n",
       "      <td>1.009497e+06</td>\n",
       "      <td>1.009497e+06</td>\n",
       "      <td>1.009497e+06</td>\n",
       "      <td>1.009497e+06</td>\n",
       "    </tr>\n",
       "    <tr>\n",
       "      <th>mean</th>\n",
       "      <td>7.566653e+02</td>\n",
       "      <td>1.338232e+02</td>\n",
       "      <td>1.993501e+00</td>\n",
       "      <td>1.385241e+04</td>\n",
       "      <td>1.468884e+00</td>\n",
       "      <td>2.618679e+01</td>\n",
       "      <td>2.381650e+02</td>\n",
       "    </tr>\n",
       "    <tr>\n",
       "      <th>std</th>\n",
       "      <td>4.303372e+02</td>\n",
       "      <td>1.011256e+02</td>\n",
       "      <td>2.071466e+00</td>\n",
       "      <td>8.029404e+03</td>\n",
       "      <td>4.991303e-01</td>\n",
       "      <td>1.147926e+01</td>\n",
       "      <td>4.484494e+02</td>\n",
       "    </tr>\n",
       "    <tr>\n",
       "      <th>min</th>\n",
       "      <td>3.000000e+00</td>\n",
       "      <td>3.000000e+01</td>\n",
       "      <td>1.000000e+00</td>\n",
       "      <td>1.000000e+00</td>\n",
       "      <td>0.000000e+00</td>\n",
       "      <td>0.000000e+00</td>\n",
       "      <td>0.000000e+00</td>\n",
       "    </tr>\n",
       "    <tr>\n",
       "      <th>25%</th>\n",
       "      <td>3.870000e+02</td>\n",
       "      <td>5.496000e+01</td>\n",
       "      <td>1.000000e+00</td>\n",
       "      <td>6.844000e+03</td>\n",
       "      <td>1.000000e+00</td>\n",
       "      <td>1.900000e+01</td>\n",
       "      <td>3.000000e+00</td>\n",
       "    </tr>\n",
       "    <tr>\n",
       "      <th>50%</th>\n",
       "      <td>7.580000e+02</td>\n",
       "      <td>1.033200e+02</td>\n",
       "      <td>1.000000e+00</td>\n",
       "      <td>1.395200e+04</td>\n",
       "      <td>1.000000e+00</td>\n",
       "      <td>2.600000e+01</td>\n",
       "      <td>3.700000e+01</td>\n",
       "    </tr>\n",
       "    <tr>\n",
       "      <th>75%</th>\n",
       "      <td>1.132000e+03</td>\n",
       "      <td>1.838700e+02</td>\n",
       "      <td>2.000000e+00</td>\n",
       "      <td>2.074000e+04</td>\n",
       "      <td>2.000000e+00</td>\n",
       "      <td>3.300000e+01</td>\n",
       "      <td>2.700000e+02</td>\n",
       "    </tr>\n",
       "    <tr>\n",
       "      <th>max</th>\n",
       "      <td>1.490000e+03</td>\n",
       "      <td>4.750000e+02</td>\n",
       "      <td>2.100000e+01</td>\n",
       "      <td>2.776800e+04</td>\n",
       "      <td>2.000000e+00</td>\n",
       "      <td>6.000000e+01</td>\n",
       "      <td>2.456000e+03</td>\n",
       "    </tr>\n",
       "  </tbody>\n",
       "</table>\n",
       "</div>"
      ],
      "text/plain": [
       "               hour           cpm     publisher       user_id           sex  \\\n",
       "count  1.009497e+06  1.009497e+06  1.009497e+06  1.009497e+06  1.009497e+06   \n",
       "mean   7.566653e+02  1.338232e+02  1.993501e+00  1.385241e+04  1.468884e+00   \n",
       "std    4.303372e+02  1.011256e+02  2.071466e+00  8.029404e+03  4.991303e-01   \n",
       "min    3.000000e+00  3.000000e+01  1.000000e+00  1.000000e+00  0.000000e+00   \n",
       "25%    3.870000e+02  5.496000e+01  1.000000e+00  6.844000e+03  1.000000e+00   \n",
       "50%    7.580000e+02  1.033200e+02  1.000000e+00  1.395200e+04  1.000000e+00   \n",
       "75%    1.132000e+03  1.838700e+02  2.000000e+00  2.074000e+04  2.000000e+00   \n",
       "max    1.490000e+03  4.750000e+02  2.100000e+01  2.776800e+04  2.000000e+00   \n",
       "\n",
       "                age       city_id  \n",
       "count  1.009497e+06  1.009497e+06  \n",
       "mean   2.618679e+01  2.381650e+02  \n",
       "std    1.147926e+01  4.484494e+02  \n",
       "min    0.000000e+00  0.000000e+00  \n",
       "25%    1.900000e+01  3.000000e+00  \n",
       "50%    2.600000e+01  3.700000e+01  \n",
       "75%    3.300000e+01  2.700000e+02  \n",
       "max    6.000000e+01  2.456000e+03  "
      ]
     },
     "execution_count": 23,
     "metadata": {},
     "output_type": "execute_result"
    }
   ],
   "source": [
    "age_outliers = hist_users[hist_users['age']>60].index\n",
    "hist_users.drop(age_outliers, inplace=True);\n",
    "hist_users.describe()"
   ]
  },
  {
   "cell_type": "markdown",
   "metadata": {},
   "source": [
    "Удалено 36 994 строк"
   ]
  },
  {
   "cell_type": "code",
   "execution_count": 24,
   "metadata": {},
   "outputs": [
    {
     "data": {
      "image/png": "[encoded data removed]",
      "text/plain": [
       "<Figure size 2000x200 with 1 Axes>"
      ]
     },
     "metadata": {},
     "output_type": "display_data"
    }
   ],
   "source": [
    "hist_users.boxplot(column='city_id', figsize=(20, 2), vert=False);"
   ]
  },
  {
   "cell_type": "markdown",
   "metadata": {},
   "source": [
    "Признак `city_id` имеет большие аномалии, которые надо удалить. Лимит в 1374 выявили в датасете, как сумма медианного значения и 3 стандартных отклонения"
   ]
  },
  {
   "cell_type": "code",
   "execution_count": 25,
   "metadata": {},
   "outputs": [
    {
     "data": {
      "text/plain": [
       "1382.348209006896"
      ]
     },
     "execution_count": 25,
     "metadata": {},
     "output_type": "execute_result"
    }
   ],
   "source": [
    "city_out = hist_users['city_id'].median() + hist_users['city_id'].std() * 3\n",
    "city_out"
   ]
  },
  {
   "cell_type": "code",
   "execution_count": 26,
   "metadata": {},
   "outputs": [
    {
     "data": {
      "text/html": [
       "<div>\n",
       "<style scoped>\n",
       "    .dataframe tbody tr th:only-of-type {\n",
       "        vertical-align: middle;\n",
       "    }\n",
       "\n",
       "    .dataframe tbody tr th {\n",
       "        vertical-align: top;\n",
       "    }\n",
       "\n",
       "    .dataframe thead th {\n",
       "        text-align: right;\n",
       "    }\n",
       "</style>\n",
       "<table border=\"1\" class=\"dataframe\">\n",
       "  <thead>\n",
       "    <tr style=\"text-align: right;\">\n",
       "      <th></th>\n",
       "      <th>hour</th>\n",
       "      <th>cpm</th>\n",
       "      <th>publisher</th>\n",
       "      <th>user_id</th>\n",
       "      <th>sex</th>\n",
       "      <th>age</th>\n",
       "      <th>city_id</th>\n",
       "    </tr>\n",
       "  </thead>\n",
       "  <tbody>\n",
       "    <tr>\n",
       "      <th>count</th>\n",
       "      <td>963110.000000</td>\n",
       "      <td>963110.000000</td>\n",
       "      <td>963110.000000</td>\n",
       "      <td>963110.000000</td>\n",
       "      <td>963110.000000</td>\n",
       "      <td>963110.000000</td>\n",
       "      <td>963110.000000</td>\n",
       "    </tr>\n",
       "    <tr>\n",
       "      <th>mean</th>\n",
       "      <td>756.077387</td>\n",
       "      <td>134.253474</td>\n",
       "      <td>1.994293</td>\n",
       "      <td>13605.619659</td>\n",
       "      <td>1.467636</td>\n",
       "      <td>26.093588</td>\n",
       "      <td>160.252957</td>\n",
       "    </tr>\n",
       "    <tr>\n",
       "      <th>std</th>\n",
       "      <td>430.282735</td>\n",
       "      <td>101.348248</td>\n",
       "      <td>2.068859</td>\n",
       "      <td>8061.399777</td>\n",
       "      <td>0.499056</td>\n",
       "      <td>11.476363</td>\n",
       "      <td>271.908459</td>\n",
       "    </tr>\n",
       "    <tr>\n",
       "      <th>min</th>\n",
       "      <td>3.000000</td>\n",
       "      <td>30.000000</td>\n",
       "      <td>1.000000</td>\n",
       "      <td>1.000000</td>\n",
       "      <td>0.000000</td>\n",
       "      <td>0.000000</td>\n",
       "      <td>0.000000</td>\n",
       "    </tr>\n",
       "    <tr>\n",
       "      <th>25%</th>\n",
       "      <td>385.000000</td>\n",
       "      <td>55.000000</td>\n",
       "      <td>1.000000</td>\n",
       "      <td>6521.250000</td>\n",
       "      <td>1.000000</td>\n",
       "      <td>19.000000</td>\n",
       "      <td>0.000000</td>\n",
       "    </tr>\n",
       "    <tr>\n",
       "      <th>50%</th>\n",
       "      <td>757.000000</td>\n",
       "      <td>104.480000</td>\n",
       "      <td>1.000000</td>\n",
       "      <td>13547.000000</td>\n",
       "      <td>1.000000</td>\n",
       "      <td>26.000000</td>\n",
       "      <td>25.000000</td>\n",
       "    </tr>\n",
       "    <tr>\n",
       "      <th>75%</th>\n",
       "      <td>1130.000000</td>\n",
       "      <td>185.000000</td>\n",
       "      <td>2.000000</td>\n",
       "      <td>20522.000000</td>\n",
       "      <td>2.000000</td>\n",
       "      <td>33.000000</td>\n",
       "      <td>202.000000</td>\n",
       "    </tr>\n",
       "    <tr>\n",
       "      <th>max</th>\n",
       "      <td>1490.000000</td>\n",
       "      <td>475.000000</td>\n",
       "      <td>21.000000</td>\n",
       "      <td>27768.000000</td>\n",
       "      <td>2.000000</td>\n",
       "      <td>60.000000</td>\n",
       "      <td>1382.000000</td>\n",
       "    </tr>\n",
       "  </tbody>\n",
       "</table>\n",
       "</div>"
      ],
      "text/plain": [
       "                hour            cpm      publisher        user_id  \\\n",
       "count  963110.000000  963110.000000  963110.000000  963110.000000   \n",
       "mean      756.077387     134.253474       1.994293   13605.619659   \n",
       "std       430.282735     101.348248       2.068859    8061.399777   \n",
       "min         3.000000      30.000000       1.000000       1.000000   \n",
       "25%       385.000000      55.000000       1.000000    6521.250000   \n",
       "50%       757.000000     104.480000       1.000000   13547.000000   \n",
       "75%      1130.000000     185.000000       2.000000   20522.000000   \n",
       "max      1490.000000     475.000000      21.000000   27768.000000   \n",
       "\n",
       "                 sex            age        city_id  \n",
       "count  963110.000000  963110.000000  963110.000000  \n",
       "mean        1.467636      26.093588     160.252957  \n",
       "std         0.499056      11.476363     271.908459  \n",
       "min         0.000000       0.000000       0.000000  \n",
       "25%         1.000000      19.000000       0.000000  \n",
       "50%         1.000000      26.000000      25.000000  \n",
       "75%         2.000000      33.000000     202.000000  \n",
       "max         2.000000      60.000000    1382.000000  "
      ]
     },
     "execution_count": 26,
     "metadata": {},
     "output_type": "execute_result"
    }
   ],
   "source": [
    "city_outliers = hist_users[hist_users['city_id']>city_out].index\n",
    "hist_users.drop(city_outliers, inplace=True);\n",
    "hist_users.describe()"
   ]
  },
  {
   "cell_type": "markdown",
   "metadata": {},
   "source": [
    "Удалено 11 306 строк"
   ]
  },
  {
   "cell_type": "code",
   "execution_count": 27,
   "metadata": {},
   "outputs": [
    {
     "data": {
      "text/plain": [
       "city_id\n",
       "0       249799\n",
       "3        70705\n",
       "7        54468\n",
       "11       14462\n",
       "25       14005\n",
       "         ...  \n",
       "758          1\n",
       "1103         1\n",
       "864          1\n",
       "1146         1\n",
       "629          1\n",
       "Name: count, Length: 1311, dtype: int64"
      ]
     },
     "execution_count": 27,
     "metadata": {},
     "output_type": "execute_result"
    }
   ],
   "source": [
    "hist_users['city_id'].value_counts()"
   ]
  },
  {
   "cell_type": "code",
   "execution_count": 28,
   "metadata": {},
   "outputs": [
    {
     "data": {
      "text/plain": [
       "<AxesSubplot: >"
      ]
     },
     "execution_count": 28,
     "metadata": {},
     "output_type": "execute_result"
    },
    {
     "data": {
      "image/png": "[encoded data removed]",
      "text/plain": [
       "<Figure size 1800x400 with 1 Axes>"
      ]
     },
     "metadata": {},
     "output_type": "display_data"
    }
   ],
   "source": [
    "hist_users.hour.hist(bins=200, figsize=(18, 4))"
   ]
  },
  {
   "cell_type": "markdown",
   "metadata": {},
   "source": [
    "Так выглядит динамика просмотров с течение первой недели."
   ]
  },
  {
   "cell_type": "code",
   "execution_count": 29,
   "metadata": {},
   "outputs": [
    {
     "data": {
      "text/plain": [
       "<AxesSubplot: >"
      ]
     },
     "execution_count": 29,
     "metadata": {},
     "output_type": "execute_result"
    },
    {
     "data": {
      "image/png": "[encoded data removed]",
      "text/plain": [
       "<Figure size 1800x400 with 1 Axes>"
      ]
     },
     "metadata": {},
     "output_type": "display_data"
    }
   ],
   "source": [
    "hist_users[hist_users.hour < 24 * 7].hour.hist(bins=400, figsize=(18, 4))"
   ]
  },
  {
   "cell_type": "code",
   "execution_count": 30,
   "metadata": {},
   "outputs": [
    {
     "name": "stdout",
     "output_type": "stream",
     "text": [
      "21\n"
     ]
    },
    {
     "data": {
      "text/plain": [
       "Text(0, 0.5, 'Визиты пользователей')"
      ]
     },
     "execution_count": 30,
     "metadata": {},
     "output_type": "execute_result"
    },
    {
     "data": {
      "image/png": "[encoded data removed]",
      "text/plain": [
       "<Figure size 640x480 with 1 Axes>"
      ]
     },
     "metadata": {},
     "output_type": "display_data"
    }
   ],
   "source": [
    "uniq_pubs = hist_users.publisher.unique()\n",
    "print(len(uniq_pubs))\n",
    "temp = hist_users.publisher.value_counts()\n",
    "temp.plot(kind='bar')\n",
    "plt.xlabel('Платформы')\n",
    "plt.ylabel('Визиты пользователей')"
   ]
  },
  {
   "cell_type": "code",
   "execution_count": 31,
   "metadata": {},
   "outputs": [
    {
     "data": {
      "text/plain": [
       "Text(0, 0.5, 'Платформа')"
      ]
     },
     "execution_count": 31,
     "metadata": {},
     "output_type": "execute_result"
    },
    {
     "data": {
      "image/png": "[encoded data removed]",
      "text/plain": [
       "<Figure size 640x480 with 1 Axes>"
      ]
     },
     "metadata": {},
     "output_type": "display_data"
    }
   ],
   "source": [
    "hist_users.groupby('publisher').user_id.apply(lambda users: len(set(users))).plot(kind='bar')\n",
    "plt.xlabel('Количество уникальных пользователей')\n",
    "plt.ylabel('Платформа')"
   ]
  },
  {
   "cell_type": "code",
   "execution_count": 32,
   "metadata": {},
   "outputs": [
    {
     "data": {
      "text/html": [
       "<div>\n",
       "<style scoped>\n",
       "    .dataframe tbody tr th:only-of-type {\n",
       "        vertical-align: middle;\n",
       "    }\n",
       "\n",
       "    .dataframe tbody tr th {\n",
       "        vertical-align: top;\n",
       "    }\n",
       "\n",
       "    .dataframe thead th {\n",
       "        text-align: right;\n",
       "    }\n",
       "</style>\n",
       "<table border=\"1\" class=\"dataframe\">\n",
       "  <thead>\n",
       "    <tr style=\"text-align: right;\">\n",
       "      <th></th>\n",
       "      <th>hour</th>\n",
       "      <th>1</th>\n",
       "      <th>2</th>\n",
       "      <th>3</th>\n",
       "      <th>4</th>\n",
       "      <th>5</th>\n",
       "      <th>7</th>\n",
       "      <th>6</th>\n",
       "      <th>10</th>\n",
       "      <th>9</th>\n",
       "      <th>...</th>\n",
       "      <th>8</th>\n",
       "      <th>11</th>\n",
       "      <th>14</th>\n",
       "      <th>15</th>\n",
       "      <th>16</th>\n",
       "      <th>17</th>\n",
       "      <th>18</th>\n",
       "      <th>19</th>\n",
       "      <th>21</th>\n",
       "      <th>20</th>\n",
       "    </tr>\n",
       "  </thead>\n",
       "  <tbody>\n",
       "    <tr>\n",
       "      <th>0</th>\n",
       "      <td>3</td>\n",
       "      <td>78</td>\n",
       "      <td>58</td>\n",
       "      <td>11</td>\n",
       "      <td>1</td>\n",
       "      <td>3</td>\n",
       "      <td>1</td>\n",
       "      <td>6</td>\n",
       "      <td>0</td>\n",
       "      <td>2</td>\n",
       "      <td>...</td>\n",
       "      <td>0</td>\n",
       "      <td>0</td>\n",
       "      <td>0</td>\n",
       "      <td>0</td>\n",
       "      <td>0</td>\n",
       "      <td>1</td>\n",
       "      <td>0</td>\n",
       "      <td>0</td>\n",
       "      <td>0</td>\n",
       "      <td>0</td>\n",
       "    </tr>\n",
       "    <tr>\n",
       "      <th>1</th>\n",
       "      <td>4</td>\n",
       "      <td>154</td>\n",
       "      <td>49</td>\n",
       "      <td>9</td>\n",
       "      <td>0</td>\n",
       "      <td>1</td>\n",
       "      <td>1</td>\n",
       "      <td>9</td>\n",
       "      <td>1</td>\n",
       "      <td>2</td>\n",
       "      <td>...</td>\n",
       "      <td>1</td>\n",
       "      <td>0</td>\n",
       "      <td>0</td>\n",
       "      <td>0</td>\n",
       "      <td>0</td>\n",
       "      <td>0</td>\n",
       "      <td>0</td>\n",
       "      <td>0</td>\n",
       "      <td>0</td>\n",
       "      <td>0</td>\n",
       "    </tr>\n",
       "    <tr>\n",
       "      <th>2</th>\n",
       "      <td>5</td>\n",
       "      <td>215</td>\n",
       "      <td>78</td>\n",
       "      <td>18</td>\n",
       "      <td>1</td>\n",
       "      <td>1</td>\n",
       "      <td>4</td>\n",
       "      <td>10</td>\n",
       "      <td>3</td>\n",
       "      <td>2</td>\n",
       "      <td>...</td>\n",
       "      <td>2</td>\n",
       "      <td>1</td>\n",
       "      <td>0</td>\n",
       "      <td>0</td>\n",
       "      <td>0</td>\n",
       "      <td>0</td>\n",
       "      <td>0</td>\n",
       "      <td>0</td>\n",
       "      <td>0</td>\n",
       "      <td>0</td>\n",
       "    </tr>\n",
       "    <tr>\n",
       "      <th>3</th>\n",
       "      <td>6</td>\n",
       "      <td>307</td>\n",
       "      <td>84</td>\n",
       "      <td>21</td>\n",
       "      <td>2</td>\n",
       "      <td>0</td>\n",
       "      <td>4</td>\n",
       "      <td>11</td>\n",
       "      <td>1</td>\n",
       "      <td>4</td>\n",
       "      <td>...</td>\n",
       "      <td>0</td>\n",
       "      <td>0</td>\n",
       "      <td>0</td>\n",
       "      <td>0</td>\n",
       "      <td>1</td>\n",
       "      <td>1</td>\n",
       "      <td>0</td>\n",
       "      <td>0</td>\n",
       "      <td>0</td>\n",
       "      <td>0</td>\n",
       "    </tr>\n",
       "    <tr>\n",
       "      <th>4</th>\n",
       "      <td>7</td>\n",
       "      <td>426</td>\n",
       "      <td>134</td>\n",
       "      <td>28</td>\n",
       "      <td>2</td>\n",
       "      <td>5</td>\n",
       "      <td>5</td>\n",
       "      <td>29</td>\n",
       "      <td>3</td>\n",
       "      <td>6</td>\n",
       "      <td>...</td>\n",
       "      <td>0</td>\n",
       "      <td>0</td>\n",
       "      <td>0</td>\n",
       "      <td>0</td>\n",
       "      <td>0</td>\n",
       "      <td>0</td>\n",
       "      <td>0</td>\n",
       "      <td>0</td>\n",
       "      <td>0</td>\n",
       "      <td>0</td>\n",
       "    </tr>\n",
       "  </tbody>\n",
       "</table>\n",
       "<p>5 rows × 22 columns</p>\n",
       "</div>"
      ],
      "text/plain": [
       "   hour    1    2   3  4  5  7   6  10  9  ...  8  11  14  15  16  17  18  19  \\\n",
       "0     3   78   58  11  1  3  1   6   0  2  ...  0   0   0   0   0   1   0   0   \n",
       "1     4  154   49   9  0  1  1   9   1  2  ...  1   0   0   0   0   0   0   0   \n",
       "2     5  215   78  18  1  1  4  10   3  2  ...  2   1   0   0   0   0   0   0   \n",
       "3     6  307   84  21  2  0  4  11   1  4  ...  0   0   0   0   1   1   0   0   \n",
       "4     7  426  134  28  2  5  5  29   3  6  ...  0   0   0   0   0   0   0   0   \n",
       "\n",
       "   21  20  \n",
       "0   0   0  \n",
       "1   0   0  \n",
       "2   0   0  \n",
       "3   0   0  \n",
       "4   0   0  \n",
       "\n",
       "[5 rows x 22 columns]"
      ]
     },
     "execution_count": 32,
     "metadata": {},
     "output_type": "execute_result"
    }
   ],
   "source": [
    "n_publishers = len(uniq_pubs)\n",
    "php = [] #posts_per_hour_by_publishers\n",
    "N_HOURS = 24 * 7\n",
    "\n",
    "for hour, hour_data in hist_users[hist_users.hour < N_HOURS].groupby('hour'):\n",
    "    publishers_posts = hour_data.value_counts('publisher')\n",
    "\n",
    "    counts = [0 for _ in range(n_publishers)]\n",
    "    for pub_id, posts_n in list(publishers_posts.items()):\n",
    "        counts[pub_id-1] = posts_n\n",
    "\n",
    "    php.append([hour] + counts)\n",
    "\n",
    "\n",
    "df_php = pd.DataFrame.from_records(php, columns=['hour'] + list(uniq_pubs))\n",
    "df_php.head()"
   ]
  },
  {
   "cell_type": "code",
   "execution_count": 33,
   "metadata": {},
   "outputs": [
    {
     "data": {
      "text/plain": [
       "Text(0, 0.5, 'Количество постов')"
      ]
     },
     "execution_count": 33,
     "metadata": {},
     "output_type": "execute_result"
    },
    {
     "data": {
      "image/png": "[encoded data removed]",
      "text/plain": [
       "<Figure size 2000x800 with 1 Axes>"
      ]
     },
     "metadata": {},
     "output_type": "display_data"
    }
   ],
   "source": [
    "df_php.plot.bar(x='hour', stacked=True, figsize=(20, 8))\n",
    "plt.xlabel('Час')\n",
    "plt.ylabel('Количество постов')"
   ]
  },
  {
   "cell_type": "code",
   "execution_count": 34,
   "metadata": {},
   "outputs": [
    {
     "data": {
      "text/html": [
       "<div>\n",
       "<style scoped>\n",
       "    .dataframe tbody tr th:only-of-type {\n",
       "        vertical-align: middle;\n",
       "    }\n",
       "\n",
       "    .dataframe tbody tr th {\n",
       "        vertical-align: top;\n",
       "    }\n",
       "\n",
       "    .dataframe thead th {\n",
       "        text-align: right;\n",
       "    }\n",
       "</style>\n",
       "<table border=\"1\" class=\"dataframe\">\n",
       "  <thead>\n",
       "    <tr style=\"text-align: right;\">\n",
       "      <th></th>\n",
       "      <th>hour</th>\n",
       "      <th>cpm</th>\n",
       "      <th>publisher</th>\n",
       "      <th>user_id</th>\n",
       "      <th>sex</th>\n",
       "      <th>age</th>\n",
       "      <th>city_id</th>\n",
       "    </tr>\n",
       "  </thead>\n",
       "  <tbody>\n",
       "    <tr>\n",
       "      <th>0</th>\n",
       "      <td>10</td>\n",
       "      <td>30.00</td>\n",
       "      <td>1</td>\n",
       "      <td>15661</td>\n",
       "      <td>2</td>\n",
       "      <td>28</td>\n",
       "      <td>68</td>\n",
       "    </tr>\n",
       "    <tr>\n",
       "      <th>1</th>\n",
       "      <td>8</td>\n",
       "      <td>41.26</td>\n",
       "      <td>1</td>\n",
       "      <td>8444</td>\n",
       "      <td>1</td>\n",
       "      <td>41</td>\n",
       "      <td>0</td>\n",
       "    </tr>\n",
       "    <tr>\n",
       "      <th>2</th>\n",
       "      <td>7</td>\n",
       "      <td>360.00</td>\n",
       "      <td>1</td>\n",
       "      <td>15821</td>\n",
       "      <td>1</td>\n",
       "      <td>24</td>\n",
       "      <td>0</td>\n",
       "    </tr>\n",
       "    <tr>\n",
       "      <th>3</th>\n",
       "      <td>18</td>\n",
       "      <td>370.00</td>\n",
       "      <td>1</td>\n",
       "      <td>21530</td>\n",
       "      <td>2</td>\n",
       "      <td>17</td>\n",
       "      <td>13</td>\n",
       "    </tr>\n",
       "    <tr>\n",
       "      <th>4</th>\n",
       "      <td>8</td>\n",
       "      <td>195.00</td>\n",
       "      <td>2</td>\n",
       "      <td>22148</td>\n",
       "      <td>1</td>\n",
       "      <td>23</td>\n",
       "      <td>7</td>\n",
       "    </tr>\n",
       "  </tbody>\n",
       "</table>\n",
       "</div>"
      ],
      "text/plain": [
       "   hour     cpm  publisher  user_id  sex  age  city_id\n",
       "0    10   30.00          1    15661    2   28       68\n",
       "1     8   41.26          1     8444    1   41        0\n",
       "2     7  360.00          1    15821    1   24        0\n",
       "3    18  370.00          1    21530    2   17       13\n",
       "4     8  195.00          2    22148    1   23        7"
      ]
     },
     "execution_count": 34,
     "metadata": {},
     "output_type": "execute_result"
    }
   ],
   "source": [
    "hist_users.head()"
   ]
  },
  {
   "cell_type": "markdown",
   "metadata": {},
   "source": [
    "Количество строк в датасетах `validate` и `validate_answers` совпадает. Есть гипотеза, что первый ключевые фичи, второй - таргет. Тогда данные в объединенном датасете `df_hist_users` (`users` и `history`) доп. фичи."
   ]
  },
  {
   "cell_type": "markdown",
   "metadata": {},
   "source": [
    "До объединения датасетов сделаем предобработку датасета `validate`"
   ]
  },
  {
   "cell_type": "markdown",
   "metadata": {},
   "source": [
    "Добавим длительность торгов"
   ]
  },
  {
   "cell_type": "code",
   "execution_count": 35,
   "metadata": {},
   "outputs": [],
   "source": [
    "df_val['duration'] = df_val['hour_end'] - df_val['hour_start']"
   ]
  },
  {
   "cell_type": "code",
   "execution_count": 36,
   "metadata": {},
   "outputs": [
    {
     "data": {
      "image/png": "[encoded data removed]",
      "text/plain": [
       "<Figure size 1500x400 with 1 Axes>"
      ]
     },
     "metadata": {},
     "output_type": "display_data"
    }
   ],
   "source": [
    "df_val.duration.hist(bins=50, figsize=(15, 4));"
   ]
  },
  {
   "cell_type": "code",
   "execution_count": 37,
   "metadata": {},
   "outputs": [
    {
     "data": {
      "text/plain": [
       "<AxesSubplot: >"
      ]
     },
     "execution_count": 37,
     "metadata": {},
     "output_type": "execute_result"
    },
    {
     "data": {
      "image/png": "[encoded data removed]",
      "text/plain": [
       "<Figure size 1500x400 with 1 Axes>"
      ]
     },
     "metadata": {},
     "output_type": "display_data"
    }
   ],
   "source": [
    "df_val.audience_size.hist(bins=100, figsize=(15, 4))"
   ]
  },
  {
   "cell_type": "markdown",
   "metadata": {},
   "source": [
    "Сделаем обработку списков площадок и пользователей, чтобы они были списком"
   ]
  },
  {
   "cell_type": "code",
   "execution_count": 38,
   "metadata": {},
   "outputs": [],
   "source": [
    "func1 = lambda x: [int(x) for x in x.split(',')]\n",
    "func2 = lambda x: len(x)"
   ]
  },
  {
   "cell_type": "code",
   "execution_count": 39,
   "metadata": {},
   "outputs": [],
   "source": [
    "df_val['publisher_id'] = df_val['publishers'].apply(func1)\n",
    "df_val['user_id'] = df_val['user_ids'].apply(func1)"
   ]
  },
  {
   "cell_type": "code",
   "execution_count": 40,
   "metadata": {},
   "outputs": [],
   "source": [
    "df_val['publishers_count'] = df_val['publisher_id'].apply(func2)"
   ]
  },
  {
   "cell_type": "markdown",
   "metadata": {},
   "source": [
    "Количество площадок может быть фичей. Добавим количество. Также разделим с помощью one-hot id площадки по фичам."
   ]
  },
  {
   "cell_type": "code",
   "execution_count": 41,
   "metadata": {},
   "outputs": [
    {
     "data": {
      "text/html": [
       "<div>\n",
       "<style scoped>\n",
       "    .dataframe tbody tr th:only-of-type {\n",
       "        vertical-align: middle;\n",
       "    }\n",
       "\n",
       "    .dataframe tbody tr th {\n",
       "        vertical-align: top;\n",
       "    }\n",
       "\n",
       "    .dataframe thead th {\n",
       "        text-align: right;\n",
       "    }\n",
       "</style>\n",
       "<table border=\"1\" class=\"dataframe\">\n",
       "  <thead>\n",
       "    <tr style=\"text-align: right;\">\n",
       "      <th></th>\n",
       "      <th>cpm</th>\n",
       "      <th>hour_start</th>\n",
       "      <th>hour_end</th>\n",
       "      <th>publishers</th>\n",
       "      <th>audience_size</th>\n",
       "      <th>user_ids</th>\n",
       "      <th>duration</th>\n",
       "      <th>publisher_id</th>\n",
       "      <th>user_id</th>\n",
       "      <th>publishers_count</th>\n",
       "      <th>at_least_one</th>\n",
       "      <th>at_least_two</th>\n",
       "      <th>at_least_three</th>\n",
       "    </tr>\n",
       "  </thead>\n",
       "  <tbody>\n",
       "    <tr>\n",
       "      <th>0</th>\n",
       "      <td>220.0</td>\n",
       "      <td>1058</td>\n",
       "      <td>1153</td>\n",
       "      <td>7,17</td>\n",
       "      <td>1906</td>\n",
       "      <td>12,44,46,50,58,71,93,122,134,143,176,184,187,1...</td>\n",
       "      <td>95</td>\n",
       "      <td>[7, 17]</td>\n",
       "      <td>[12, 44, 46, 50, 58, 71, 93, 122, 134, 143, 17...</td>\n",
       "      <td>2</td>\n",
       "      <td>0.0430</td>\n",
       "      <td>0.0152</td>\n",
       "      <td>0.0073</td>\n",
       "    </tr>\n",
       "    <tr>\n",
       "      <th>1</th>\n",
       "      <td>312.0</td>\n",
       "      <td>1295</td>\n",
       "      <td>1301</td>\n",
       "      <td>3,18</td>\n",
       "      <td>1380</td>\n",
       "      <td>29,81,98,102,165,167,195,205,218,231,242,263,3...</td>\n",
       "      <td>6</td>\n",
       "      <td>[3, 18]</td>\n",
       "      <td>[29, 81, 98, 102, 165, 167, 195, 205, 218, 231...</td>\n",
       "      <td>2</td>\n",
       "      <td>0.0130</td>\n",
       "      <td>0.0000</td>\n",
       "      <td>0.0000</td>\n",
       "    </tr>\n",
       "    <tr>\n",
       "      <th>2</th>\n",
       "      <td>70.0</td>\n",
       "      <td>1229</td>\n",
       "      <td>1249</td>\n",
       "      <td>1,2,3,9,15,21</td>\n",
       "      <td>888</td>\n",
       "      <td>12,23,25,29,45,85,92,124,156,190,272,334,456,5...</td>\n",
       "      <td>20</td>\n",
       "      <td>[1, 2, 3, 9, 15, 21]</td>\n",
       "      <td>[12, 23, 25, 29, 45, 85, 92, 124, 156, 190, 27...</td>\n",
       "      <td>6</td>\n",
       "      <td>0.0878</td>\n",
       "      <td>0.0135</td>\n",
       "      <td>0.0000</td>\n",
       "    </tr>\n",
       "    <tr>\n",
       "      <th>3</th>\n",
       "      <td>240.0</td>\n",
       "      <td>1295</td>\n",
       "      <td>1377</td>\n",
       "      <td>1,14</td>\n",
       "      <td>440</td>\n",
       "      <td>44,122,187,209,242,255,312,345,382,465,513,524...</td>\n",
       "      <td>82</td>\n",
       "      <td>[1, 14]</td>\n",
       "      <td>[44, 122, 187, 209, 242, 255, 312, 345, 382, 4...</td>\n",
       "      <td>2</td>\n",
       "      <td>0.2295</td>\n",
       "      <td>0.1295</td>\n",
       "      <td>0.0727</td>\n",
       "    </tr>\n",
       "    <tr>\n",
       "      <th>4</th>\n",
       "      <td>262.0</td>\n",
       "      <td>752</td>\n",
       "      <td>990</td>\n",
       "      <td>1,3,7,8</td>\n",
       "      <td>1476</td>\n",
       "      <td>15,24,30,43,50,53,96,105,159,168,181,190,196,2...</td>\n",
       "      <td>238</td>\n",
       "      <td>[1, 3, 7, 8]</td>\n",
       "      <td>[15, 24, 30, 43, 50, 53, 96, 105, 159, 168, 18...</td>\n",
       "      <td>4</td>\n",
       "      <td>0.3963</td>\n",
       "      <td>0.2785</td>\n",
       "      <td>0.2270</td>\n",
       "    </tr>\n",
       "  </tbody>\n",
       "</table>\n",
       "</div>"
      ],
      "text/plain": [
       "     cpm  hour_start  hour_end     publishers  audience_size  \\\n",
       "0  220.0        1058      1153           7,17           1906   \n",
       "1  312.0        1295      1301           3,18           1380   \n",
       "2   70.0        1229      1249  1,2,3,9,15,21            888   \n",
       "3  240.0        1295      1377           1,14            440   \n",
       "4  262.0         752       990        1,3,7,8           1476   \n",
       "\n",
       "                                            user_ids  duration  \\\n",
       "0  12,44,46,50,58,71,93,122,134,143,176,184,187,1...        95   \n",
       "1  29,81,98,102,165,167,195,205,218,231,242,263,3...         6   \n",
       "2  12,23,25,29,45,85,92,124,156,190,272,334,456,5...        20   \n",
       "3  44,122,187,209,242,255,312,345,382,465,513,524...        82   \n",
       "4  15,24,30,43,50,53,96,105,159,168,181,190,196,2...       238   \n",
       "\n",
       "           publisher_id                                            user_id  \\\n",
       "0               [7, 17]  [12, 44, 46, 50, 58, 71, 93, 122, 134, 143, 17...   \n",
       "1               [3, 18]  [29, 81, 98, 102, 165, 167, 195, 205, 218, 231...   \n",
       "2  [1, 2, 3, 9, 15, 21]  [12, 23, 25, 29, 45, 85, 92, 124, 156, 190, 27...   \n",
       "3               [1, 14]  [44, 122, 187, 209, 242, 255, 312, 345, 382, 4...   \n",
       "4          [1, 3, 7, 8]  [15, 24, 30, 43, 50, 53, 96, 105, 159, 168, 18...   \n",
       "\n",
       "   publishers_count  at_least_one  at_least_two  at_least_three  \n",
       "0                 2        0.0430        0.0152          0.0073  \n",
       "1                 2        0.0130        0.0000          0.0000  \n",
       "2                 6        0.0878        0.0135          0.0000  \n",
       "3                 2        0.2295        0.1295          0.0727  \n",
       "4                 4        0.3963        0.2785          0.2270  "
      ]
     },
     "execution_count": 41,
     "metadata": {},
     "output_type": "execute_result"
    }
   ],
   "source": [
    "df_val_va = pd.concat([df_val, df_val_ans], axis=1)\n",
    "df_val_va.head()"
   ]
  },
  {
   "cell_type": "code",
   "execution_count": 42,
   "metadata": {},
   "outputs": [
    {
     "data": {
      "text/html": [
       "<div>\n",
       "<style scoped>\n",
       "    .dataframe tbody tr th:only-of-type {\n",
       "        vertical-align: middle;\n",
       "    }\n",
       "\n",
       "    .dataframe tbody tr th {\n",
       "        vertical-align: top;\n",
       "    }\n",
       "\n",
       "    .dataframe thead th {\n",
       "        text-align: right;\n",
       "    }\n",
       "</style>\n",
       "<table border=\"1\" class=\"dataframe\">\n",
       "  <thead>\n",
       "    <tr style=\"text-align: right;\">\n",
       "      <th></th>\n",
       "      <th>cpm</th>\n",
       "      <th>hour_start</th>\n",
       "      <th>hour_end</th>\n",
       "      <th>audience_size</th>\n",
       "      <th>duration</th>\n",
       "      <th>publisher_id</th>\n",
       "      <th>user_id</th>\n",
       "      <th>publishers_count</th>\n",
       "      <th>at_least_one</th>\n",
       "      <th>at_least_two</th>\n",
       "      <th>at_least_three</th>\n",
       "    </tr>\n",
       "  </thead>\n",
       "  <tbody>\n",
       "    <tr>\n",
       "      <th>0</th>\n",
       "      <td>220.0</td>\n",
       "      <td>1058</td>\n",
       "      <td>1153</td>\n",
       "      <td>1906</td>\n",
       "      <td>95</td>\n",
       "      <td>[7, 17]</td>\n",
       "      <td>[12, 44, 46, 50, 58, 71, 93, 122, 134, 143, 17...</td>\n",
       "      <td>2</td>\n",
       "      <td>0.0430</td>\n",
       "      <td>0.0152</td>\n",
       "      <td>0.0073</td>\n",
       "    </tr>\n",
       "    <tr>\n",
       "      <th>1</th>\n",
       "      <td>312.0</td>\n",
       "      <td>1295</td>\n",
       "      <td>1301</td>\n",
       "      <td>1380</td>\n",
       "      <td>6</td>\n",
       "      <td>[3, 18]</td>\n",
       "      <td>[29, 81, 98, 102, 165, 167, 195, 205, 218, 231...</td>\n",
       "      <td>2</td>\n",
       "      <td>0.0130</td>\n",
       "      <td>0.0000</td>\n",
       "      <td>0.0000</td>\n",
       "    </tr>\n",
       "    <tr>\n",
       "      <th>2</th>\n",
       "      <td>70.0</td>\n",
       "      <td>1229</td>\n",
       "      <td>1249</td>\n",
       "      <td>888</td>\n",
       "      <td>20</td>\n",
       "      <td>[1, 2, 3, 9, 15, 21]</td>\n",
       "      <td>[12, 23, 25, 29, 45, 85, 92, 124, 156, 190, 27...</td>\n",
       "      <td>6</td>\n",
       "      <td>0.0878</td>\n",
       "      <td>0.0135</td>\n",
       "      <td>0.0000</td>\n",
       "    </tr>\n",
       "    <tr>\n",
       "      <th>3</th>\n",
       "      <td>240.0</td>\n",
       "      <td>1295</td>\n",
       "      <td>1377</td>\n",
       "      <td>440</td>\n",
       "      <td>82</td>\n",
       "      <td>[1, 14]</td>\n",
       "      <td>[44, 122, 187, 209, 242, 255, 312, 345, 382, 4...</td>\n",
       "      <td>2</td>\n",
       "      <td>0.2295</td>\n",
       "      <td>0.1295</td>\n",
       "      <td>0.0727</td>\n",
       "    </tr>\n",
       "    <tr>\n",
       "      <th>4</th>\n",
       "      <td>262.0</td>\n",
       "      <td>752</td>\n",
       "      <td>990</td>\n",
       "      <td>1476</td>\n",
       "      <td>238</td>\n",
       "      <td>[1, 3, 7, 8]</td>\n",
       "      <td>[15, 24, 30, 43, 50, 53, 96, 105, 159, 168, 18...</td>\n",
       "      <td>4</td>\n",
       "      <td>0.3963</td>\n",
       "      <td>0.2785</td>\n",
       "      <td>0.2270</td>\n",
       "    </tr>\n",
       "  </tbody>\n",
       "</table>\n",
       "</div>"
      ],
      "text/plain": [
       "     cpm  hour_start  hour_end  audience_size  duration          publisher_id  \\\n",
       "0  220.0        1058      1153           1906        95               [7, 17]   \n",
       "1  312.0        1295      1301           1380         6               [3, 18]   \n",
       "2   70.0        1229      1249            888        20  [1, 2, 3, 9, 15, 21]   \n",
       "3  240.0        1295      1377            440        82               [1, 14]   \n",
       "4  262.0         752       990           1476       238          [1, 3, 7, 8]   \n",
       "\n",
       "                                             user_id  publishers_count  \\\n",
       "0  [12, 44, 46, 50, 58, 71, 93, 122, 134, 143, 17...                 2   \n",
       "1  [29, 81, 98, 102, 165, 167, 195, 205, 218, 231...                 2   \n",
       "2  [12, 23, 25, 29, 45, 85, 92, 124, 156, 190, 27...                 6   \n",
       "3  [44, 122, 187, 209, 242, 255, 312, 345, 382, 4...                 2   \n",
       "4  [15, 24, 30, 43, 50, 53, 96, 105, 159, 168, 18...                 4   \n",
       "\n",
       "   at_least_one  at_least_two  at_least_three  \n",
       "0        0.0430        0.0152          0.0073  \n",
       "1        0.0130        0.0000          0.0000  \n",
       "2        0.0878        0.0135          0.0000  \n",
       "3        0.2295        0.1295          0.0727  \n",
       "4        0.3963        0.2785          0.2270  "
      ]
     },
     "execution_count": 42,
     "metadata": {},
     "output_type": "execute_result"
    }
   ],
   "source": [
    "df_val_va.drop(['publishers', 'user_ids'], inplace=True, axis=1)\n",
    "df_val_va.head()"
   ]
  },
  {
   "cell_type": "code",
   "execution_count": 43,
   "metadata": {},
   "outputs": [
    {
     "data": {
      "image/png": "[encoded data removed]",
      "text/plain": [
       "<Figure size 2000x800 with 4 Axes>"
      ]
     },
     "metadata": {},
     "output_type": "display_data"
    }
   ],
   "source": [
    "df_prob = df_val_va[['at_least_one', 'at_least_two', 'at_least_three']]\n",
    "df_prob.hist(figsize=(20, 8), bins=30);"
   ]
  },
  {
   "cell_type": "markdown",
   "metadata": {},
   "source": [
    "Оценим распределение признаков и проверим наличие у них аномалий."
   ]
  },
  {
   "cell_type": "markdown",
   "metadata": {},
   "source": [
    "Наименее сбалансированное распределение у признаков `cpm` и `time_period`."
   ]
  },
  {
   "cell_type": "code",
   "execution_count": 44,
   "metadata": {},
   "outputs": [
    {
     "data": {
      "text/plain": [
       "<AxesSubplot: >"
      ]
     },
     "execution_count": 44,
     "metadata": {},
     "output_type": "execute_result"
    },
    {
     "data": {
      "image/png": "[encoded data removed]",
      "text/plain": [
       "<Figure size 1500x1000 with 1 Axes>"
      ]
     },
     "metadata": {},
     "output_type": "display_data"
    }
   ],
   "source": [
    "df_val.boxplot(figsize=(15, 10), grid=False) "
   ]
  },
  {
   "cell_type": "markdown",
   "metadata": {},
   "source": [
    "Признаки `cpm` и `time_period` имеют аномалии, которые можно исключить"
   ]
  },
  {
   "cell_type": "code",
   "execution_count": 45,
   "metadata": {},
   "outputs": [
    {
     "data": {
      "image/png": "[encoded data removed]",
      "text/plain": [
       "<Figure size 1000x900 with 2 Axes>"
      ]
     },
     "metadata": {},
     "output_type": "display_data"
    }
   ],
   "source": [
    "import seaborn as sns\n",
    "\n",
    "df_corr = df_val_va.drop(['publisher_id', 'user_id'], axis=1)\n",
    "plt.figure(figsize=(10, 9))\n",
    "sns.heatmap(df_corr.corr(), cmap='coolwarm', annot = True);"
   ]
  },
  {
   "cell_type": "markdown",
   "metadata": {},
   "source": [
    "Заменим признак `hour_end` из-за высокой корреляции с `hour_start` 0.78 на среднее между ними"
   ]
  },
  {
   "cell_type": "code",
   "execution_count": 46,
   "metadata": {},
   "outputs": [
    {
     "data": {
      "text/plain": [
       "38380"
      ]
     },
     "execution_count": 46,
     "metadata": {},
     "output_type": "execute_result"
    }
   ],
   "source": [
    "len(hist_users['cpm'].unique())"
   ]
  },
  {
   "cell_type": "markdown",
   "metadata": {},
   "source": [
    "Очень много значений у признака `cpm` - 38 380. Чтобы свернуть `hist_users` до `df_val`, нужно сократить количество уникальных значение у признака `cpm`. Сделаем округление значений до целого числа."
   ]
  },
  {
   "cell_type": "code",
   "execution_count": 47,
   "metadata": {},
   "outputs": [
    {
     "data": {
      "text/plain": [
       "446"
      ]
     },
     "execution_count": 47,
     "metadata": {},
     "output_type": "execute_result"
    }
   ],
   "source": [
    "hist_users['cpm'] = hist_users['cpm'].apply(lambda x: round(x))\n",
    "len(hist_users['cpm'].unique())"
   ]
  },
  {
   "cell_type": "code",
   "execution_count": 48,
   "metadata": {},
   "outputs": [
    {
     "data": {
      "text/html": [
       "<div>\n",
       "<style scoped>\n",
       "    .dataframe tbody tr th:only-of-type {\n",
       "        vertical-align: middle;\n",
       "    }\n",
       "\n",
       "    .dataframe tbody tr th {\n",
       "        vertical-align: top;\n",
       "    }\n",
       "\n",
       "    .dataframe thead th {\n",
       "        text-align: right;\n",
       "    }\n",
       "</style>\n",
       "<table border=\"1\" class=\"dataframe\">\n",
       "  <thead>\n",
       "    <tr style=\"text-align: right;\">\n",
       "      <th></th>\n",
       "      <th>cpm</th>\n",
       "      <th>hour_start</th>\n",
       "      <th>hour_end</th>\n",
       "      <th>audience_size</th>\n",
       "      <th>duration</th>\n",
       "      <th>publisher_id</th>\n",
       "      <th>user_id</th>\n",
       "      <th>publishers_count</th>\n",
       "      <th>at_least_one</th>\n",
       "      <th>at_least_two</th>\n",
       "      <th>at_least_three</th>\n",
       "      <th>middle_hour</th>\n",
       "    </tr>\n",
       "  </thead>\n",
       "  <tbody>\n",
       "    <tr>\n",
       "      <th>0</th>\n",
       "      <td>220.0</td>\n",
       "      <td>1058</td>\n",
       "      <td>1153</td>\n",
       "      <td>1906</td>\n",
       "      <td>95</td>\n",
       "      <td>[7, 17]</td>\n",
       "      <td>[12, 44, 46, 50, 58, 71, 93, 122, 134, 143, 17...</td>\n",
       "      <td>2</td>\n",
       "      <td>0.0430</td>\n",
       "      <td>0.0152</td>\n",
       "      <td>0.0073</td>\n",
       "      <td>1106</td>\n",
       "    </tr>\n",
       "    <tr>\n",
       "      <th>1</th>\n",
       "      <td>312.0</td>\n",
       "      <td>1295</td>\n",
       "      <td>1301</td>\n",
       "      <td>1380</td>\n",
       "      <td>6</td>\n",
       "      <td>[3, 18]</td>\n",
       "      <td>[29, 81, 98, 102, 165, 167, 195, 205, 218, 231...</td>\n",
       "      <td>2</td>\n",
       "      <td>0.0130</td>\n",
       "      <td>0.0000</td>\n",
       "      <td>0.0000</td>\n",
       "      <td>1298</td>\n",
       "    </tr>\n",
       "    <tr>\n",
       "      <th>2</th>\n",
       "      <td>70.0</td>\n",
       "      <td>1229</td>\n",
       "      <td>1249</td>\n",
       "      <td>888</td>\n",
       "      <td>20</td>\n",
       "      <td>[1, 2, 3, 9, 15, 21]</td>\n",
       "      <td>[12, 23, 25, 29, 45, 85, 92, 124, 156, 190, 27...</td>\n",
       "      <td>6</td>\n",
       "      <td>0.0878</td>\n",
       "      <td>0.0135</td>\n",
       "      <td>0.0000</td>\n",
       "      <td>1239</td>\n",
       "    </tr>\n",
       "    <tr>\n",
       "      <th>3</th>\n",
       "      <td>240.0</td>\n",
       "      <td>1295</td>\n",
       "      <td>1377</td>\n",
       "      <td>440</td>\n",
       "      <td>82</td>\n",
       "      <td>[1, 14]</td>\n",
       "      <td>[44, 122, 187, 209, 242, 255, 312, 345, 382, 4...</td>\n",
       "      <td>2</td>\n",
       "      <td>0.2295</td>\n",
       "      <td>0.1295</td>\n",
       "      <td>0.0727</td>\n",
       "      <td>1336</td>\n",
       "    </tr>\n",
       "    <tr>\n",
       "      <th>4</th>\n",
       "      <td>262.0</td>\n",
       "      <td>752</td>\n",
       "      <td>990</td>\n",
       "      <td>1476</td>\n",
       "      <td>238</td>\n",
       "      <td>[1, 3, 7, 8]</td>\n",
       "      <td>[15, 24, 30, 43, 50, 53, 96, 105, 159, 168, 18...</td>\n",
       "      <td>4</td>\n",
       "      <td>0.3963</td>\n",
       "      <td>0.2785</td>\n",
       "      <td>0.2270</td>\n",
       "      <td>871</td>\n",
       "    </tr>\n",
       "  </tbody>\n",
       "</table>\n",
       "</div>"
      ],
      "text/plain": [
       "     cpm  hour_start  hour_end  audience_size  duration          publisher_id  \\\n",
       "0  220.0        1058      1153           1906        95               [7, 17]   \n",
       "1  312.0        1295      1301           1380         6               [3, 18]   \n",
       "2   70.0        1229      1249            888        20  [1, 2, 3, 9, 15, 21]   \n",
       "3  240.0        1295      1377            440        82               [1, 14]   \n",
       "4  262.0         752       990           1476       238          [1, 3, 7, 8]   \n",
       "\n",
       "                                             user_id  publishers_count  \\\n",
       "0  [12, 44, 46, 50, 58, 71, 93, 122, 134, 143, 17...                 2   \n",
       "1  [29, 81, 98, 102, 165, 167, 195, 205, 218, 231...                 2   \n",
       "2  [12, 23, 25, 29, 45, 85, 92, 124, 156, 190, 27...                 6   \n",
       "3  [44, 122, 187, 209, 242, 255, 312, 345, 382, 4...                 2   \n",
       "4  [15, 24, 30, 43, 50, 53, 96, 105, 159, 168, 18...                 4   \n",
       "\n",
       "   at_least_one  at_least_two  at_least_three  middle_hour  \n",
       "0        0.0430        0.0152          0.0073         1106  \n",
       "1        0.0130        0.0000          0.0000         1298  \n",
       "2        0.0878        0.0135          0.0000         1239  \n",
       "3        0.2295        0.1295          0.0727         1336  \n",
       "4        0.3963        0.2785          0.2270          871  "
      ]
     },
     "execution_count": 48,
     "metadata": {},
     "output_type": "execute_result"
    }
   ],
   "source": [
    "func3 = lambda x: int(np.average((x['hour_start'], x['hour_end'])).round())\n",
    "df_val_va['middle_hour'] = df_val_va.apply(func3, axis=1)\n",
    "df_val_va.head()"
   ]
  },
  {
   "cell_type": "code",
   "execution_count": 74,
   "metadata": {},
   "outputs": [
    {
     "data": {
      "text/html": [
       "<div>\n",
       "<style scoped>\n",
       "    .dataframe tbody tr th:only-of-type {\n",
       "        vertical-align: middle;\n",
       "    }\n",
       "\n",
       "    .dataframe tbody tr th {\n",
       "        vertical-align: top;\n",
       "    }\n",
       "\n",
       "    .dataframe thead th {\n",
       "        text-align: right;\n",
       "    }\n",
       "</style>\n",
       "<table border=\"1\" class=\"dataframe\">\n",
       "  <thead>\n",
       "    <tr style=\"text-align: right;\">\n",
       "      <th></th>\n",
       "      <th>cpm</th>\n",
       "      <th>hour_start</th>\n",
       "      <th>hour_end</th>\n",
       "      <th>audience_size</th>\n",
       "      <th>duration</th>\n",
       "      <th>publisher_id</th>\n",
       "      <th>user_id</th>\n",
       "      <th>publishers_count</th>\n",
       "      <th>at_least_one</th>\n",
       "      <th>at_least_two</th>\n",
       "      <th>at_least_three</th>\n",
       "      <th>middle_hour</th>\n",
       "    </tr>\n",
       "  </thead>\n",
       "  <tbody>\n",
       "    <tr>\n",
       "      <th>14</th>\n",
       "      <td>55.0</td>\n",
       "      <td>958</td>\n",
       "      <td>1096</td>\n",
       "      <td>848</td>\n",
       "      <td>138</td>\n",
       "      <td>[2]</td>\n",
       "      <td>[128, 142, 148, 220, 231, 246, 305, 322, 356, ...</td>\n",
       "      <td>1</td>\n",
       "      <td>0.0460</td>\n",
       "      <td>0.0224</td>\n",
       "      <td>0.0153</td>\n",
       "      <td>1027</td>\n",
       "    </tr>\n",
       "    <tr>\n",
       "      <th>20</th>\n",
       "      <td>106.0</td>\n",
       "      <td>976</td>\n",
       "      <td>978</td>\n",
       "      <td>1640</td>\n",
       "      <td>2</td>\n",
       "      <td>[1]</td>\n",
       "      <td>[32, 58, 70, 73, 96, 102, 127, 165, 181, 191, ...</td>\n",
       "      <td>1</td>\n",
       "      <td>0.0232</td>\n",
       "      <td>0.0000</td>\n",
       "      <td>0.0000</td>\n",
       "      <td>977</td>\n",
       "    </tr>\n",
       "    <tr>\n",
       "      <th>29</th>\n",
       "      <td>80.0</td>\n",
       "      <td>835</td>\n",
       "      <td>865</td>\n",
       "      <td>328</td>\n",
       "      <td>30</td>\n",
       "      <td>[1]</td>\n",
       "      <td>[11, 65, 269, 588, 612, 679, 691, 740, 802, 85...</td>\n",
       "      <td>1</td>\n",
       "      <td>0.1311</td>\n",
       "      <td>0.0488</td>\n",
       "      <td>0.0061</td>\n",
       "      <td>850</td>\n",
       "    </tr>\n",
       "    <tr>\n",
       "      <th>33</th>\n",
       "      <td>467.0</td>\n",
       "      <td>1200</td>\n",
       "      <td>1276</td>\n",
       "      <td>648</td>\n",
       "      <td>76</td>\n",
       "      <td>[7]</td>\n",
       "      <td>[8, 111, 145, 148, 305, 322, 375, 490, 698, 78...</td>\n",
       "      <td>1</td>\n",
       "      <td>0.0340</td>\n",
       "      <td>0.0123</td>\n",
       "      <td>0.0062</td>\n",
       "      <td>1238</td>\n",
       "    </tr>\n",
       "    <tr>\n",
       "      <th>34</th>\n",
       "      <td>120.0</td>\n",
       "      <td>950</td>\n",
       "      <td>1073</td>\n",
       "      <td>920</td>\n",
       "      <td>123</td>\n",
       "      <td>[1]</td>\n",
       "      <td>[10, 43, 52, 55, 138, 149, 154, 174, 243, 366,...</td>\n",
       "      <td>1</td>\n",
       "      <td>0.2261</td>\n",
       "      <td>0.1272</td>\n",
       "      <td>0.0815</td>\n",
       "      <td>1012</td>\n",
       "    </tr>\n",
       "    <tr>\n",
       "      <th>...</th>\n",
       "      <td>...</td>\n",
       "      <td>...</td>\n",
       "      <td>...</td>\n",
       "      <td>...</td>\n",
       "      <td>...</td>\n",
       "      <td>...</td>\n",
       "      <td>...</td>\n",
       "      <td>...</td>\n",
       "      <td>...</td>\n",
       "      <td>...</td>\n",
       "      <td>...</td>\n",
       "      <td>...</td>\n",
       "    </tr>\n",
       "    <tr>\n",
       "      <th>978</th>\n",
       "      <td>120.0</td>\n",
       "      <td>880</td>\n",
       "      <td>1210</td>\n",
       "      <td>312</td>\n",
       "      <td>330</td>\n",
       "      <td>[7]</td>\n",
       "      <td>[199, 269, 479, 499, 514, 519, 761, 820, 928, ...</td>\n",
       "      <td>1</td>\n",
       "      <td>0.0481</td>\n",
       "      <td>0.0288</td>\n",
       "      <td>0.0096</td>\n",
       "      <td>1045</td>\n",
       "    </tr>\n",
       "    <tr>\n",
       "      <th>982</th>\n",
       "      <td>145.0</td>\n",
       "      <td>790</td>\n",
       "      <td>882</td>\n",
       "      <td>320</td>\n",
       "      <td>92</td>\n",
       "      <td>[2]</td>\n",
       "      <td>[85, 194, 221, 325, 419, 443, 541, 575, 676, 7...</td>\n",
       "      <td>1</td>\n",
       "      <td>0.0906</td>\n",
       "      <td>0.0594</td>\n",
       "      <td>0.0438</td>\n",
       "      <td>836</td>\n",
       "    </tr>\n",
       "    <tr>\n",
       "      <th>988</th>\n",
       "      <td>36.0</td>\n",
       "      <td>860</td>\n",
       "      <td>1254</td>\n",
       "      <td>776</td>\n",
       "      <td>394</td>\n",
       "      <td>[2]</td>\n",
       "      <td>[50, 71, 134, 143, 187, 194, 238, 257, 284, 32...</td>\n",
       "      <td>1</td>\n",
       "      <td>0.0554</td>\n",
       "      <td>0.0438</td>\n",
       "      <td>0.0348</td>\n",
       "      <td>1057</td>\n",
       "    </tr>\n",
       "    <tr>\n",
       "      <th>995</th>\n",
       "      <td>60.0</td>\n",
       "      <td>836</td>\n",
       "      <td>985</td>\n",
       "      <td>784</td>\n",
       "      <td>149</td>\n",
       "      <td>[3]</td>\n",
       "      <td>[15, 26, 29, 77, 95, 165, 227, 251, 275, 294, ...</td>\n",
       "      <td>1</td>\n",
       "      <td>0.0255</td>\n",
       "      <td>0.0140</td>\n",
       "      <td>0.0089</td>\n",
       "      <td>910</td>\n",
       "    </tr>\n",
       "    <tr>\n",
       "      <th>998</th>\n",
       "      <td>30.0</td>\n",
       "      <td>1099</td>\n",
       "      <td>1185</td>\n",
       "      <td>976</td>\n",
       "      <td>86</td>\n",
       "      <td>[1]</td>\n",
       "      <td>[67, 80, 146, 182, 202, 307, 377, 383, 385, 39...</td>\n",
       "      <td>1</td>\n",
       "      <td>0.0297</td>\n",
       "      <td>0.0051</td>\n",
       "      <td>0.0010</td>\n",
       "      <td>1142</td>\n",
       "    </tr>\n",
       "  </tbody>\n",
       "</table>\n",
       "<p>96 rows × 12 columns</p>\n",
       "</div>"
      ],
      "text/plain": [
       "       cpm  hour_start  hour_end  audience_size  duration publisher_id  \\\n",
       "14    55.0         958      1096            848       138          [2]   \n",
       "20   106.0         976       978           1640         2          [1]   \n",
       "29    80.0         835       865            328        30          [1]   \n",
       "33   467.0        1200      1276            648        76          [7]   \n",
       "34   120.0         950      1073            920       123          [1]   \n",
       "..     ...         ...       ...            ...       ...          ...   \n",
       "978  120.0         880      1210            312       330          [7]   \n",
       "982  145.0         790       882            320        92          [2]   \n",
       "988   36.0         860      1254            776       394          [2]   \n",
       "995   60.0         836       985            784       149          [3]   \n",
       "998   30.0        1099      1185            976        86          [1]   \n",
       "\n",
       "                                               user_id  publishers_count  \\\n",
       "14   [128, 142, 148, 220, 231, 246, 305, 322, 356, ...                 1   \n",
       "20   [32, 58, 70, 73, 96, 102, 127, 165, 181, 191, ...                 1   \n",
       "29   [11, 65, 269, 588, 612, 679, 691, 740, 802, 85...                 1   \n",
       "33   [8, 111, 145, 148, 305, 322, 375, 490, 698, 78...                 1   \n",
       "34   [10, 43, 52, 55, 138, 149, 154, 174, 243, 366,...                 1   \n",
       "..                                                 ...               ...   \n",
       "978  [199, 269, 479, 499, 514, 519, 761, 820, 928, ...                 1   \n",
       "982  [85, 194, 221, 325, 419, 443, 541, 575, 676, 7...                 1   \n",
       "988  [50, 71, 134, 143, 187, 194, 238, 257, 284, 32...                 1   \n",
       "995  [15, 26, 29, 77, 95, 165, 227, 251, 275, 294, ...                 1   \n",
       "998  [67, 80, 146, 182, 202, 307, 377, 383, 385, 39...                 1   \n",
       "\n",
       "     at_least_one  at_least_two  at_least_three  middle_hour  \n",
       "14         0.0460        0.0224          0.0153         1027  \n",
       "20         0.0232        0.0000          0.0000          977  \n",
       "29         0.1311        0.0488          0.0061          850  \n",
       "33         0.0340        0.0123          0.0062         1238  \n",
       "34         0.2261        0.1272          0.0815         1012  \n",
       "..            ...           ...             ...          ...  \n",
       "978        0.0481        0.0288          0.0096         1045  \n",
       "982        0.0906        0.0594          0.0438          836  \n",
       "988        0.0554        0.0438          0.0348         1057  \n",
       "995        0.0255        0.0140          0.0089          910  \n",
       "998        0.0297        0.0051          0.0010         1142  \n",
       "\n",
       "[96 rows x 12 columns]"
      ]
     },
     "execution_count": 74,
     "metadata": {},
     "output_type": "execute_result"
    }
   ],
   "source": [
    "df_val_va[df_val_va['publishers_count']==1]"
   ]
  },
  {
   "cell_type": "code",
   "execution_count": 49,
   "metadata": {},
   "outputs": [
    {
     "data": {
      "text/plain": [
       "Text(0, 0.5, 'duration')"
      ]
     },
     "execution_count": 49,
     "metadata": {},
     "output_type": "execute_result"
    },
    {
     "data": {
      "image/png": "[encoded data removed]",
      "text/plain": [
       "<Figure size 2000x800 with 1 Axes>"
      ]
     },
     "metadata": {},
     "output_type": "display_data"
    }
   ],
   "source": [
    "df_val_va.plot.scatter(x='hour_start', y='duration', figsize=(20, 8))\n",
    "plt.xlabel('hour_start')\n",
    "plt.ylabel('duration')"
   ]
  },
  {
   "cell_type": "code",
   "execution_count": 50,
   "metadata": {},
   "outputs": [
    {
     "data": {
      "text/plain": [
       "36.5"
      ]
     },
     "execution_count": 50,
     "metadata": {},
     "output_type": "execute_result"
    }
   ],
   "source": [
    "duration_median = df_val_va['duration'].median()\n",
    "duration_median"
   ]
  },
  {
   "cell_type": "code",
   "execution_count": 51,
   "metadata": {},
   "outputs": [],
   "source": [
    "# hist_users_ = hist_users.copy()\n",
    "# # hist_users_['hour'] = hist_users_['hour'].round(-1)\n",
    "# hist_users_['cpm'] = hist_users_['cpm'].round(-1)\n",
    "# hu_stacked = hist_users_.drop(['sex', 'age', 'city_id'], axis=1) #.stack().reset_index(level=0, drop=True)\n",
    "# hu_temp = hu_stacked.sort_values(['hour', 'cpm'])\n",
    "# hu_temp['hour_cpm'] = hu_temp['hour'].astype(str)+'_'+hu_temp['cpm'].astype(str)\n",
    "# # hu_temp.set_index('hour_cpm', inplace=True)\n",
    "# hu_temp.reset_index(drop=True, inplace=True)\n",
    "# hu_temp.head(15)"
   ]
  },
  {
   "cell_type": "markdown",
   "metadata": {},
   "source": [
    "Количество уникальных пользователей"
   ]
  },
  {
   "cell_type": "code",
   "execution_count": null,
   "metadata": {},
   "outputs": [
    {
     "ename": "NameError",
     "evalue": "name 'hu_temp' is not defined",
     "output_type": "error",
     "traceback": [
      "\u001b[0;31m---------------------------------------------------------------------------\u001b[0m",
      "\u001b[0;31mNameError\u001b[0m                                 Traceback (most recent call last)",
      "Cell \u001b[0;32mIn[52], line 1\u001b[0m\n\u001b[0;32m----> 1\u001b[0m \u001b[38;5;28mlen\u001b[39m(\u001b[43mhu_temp\u001b[49m[\u001b[38;5;124m'\u001b[39m\u001b[38;5;124muser_id\u001b[39m\u001b[38;5;124m'\u001b[39m]\u001b[38;5;241m.\u001b[39munique())\n",
      "\u001b[0;31mNameError\u001b[0m: name 'hu_temp' is not defined"
     ]
    }
   ],
   "source": [
    "# len(hu_temp['user_id'].unique())"
   ]
  },
  {
   "cell_type": "markdown",
   "metadata": {},
   "source": [
    "Выберем аукционы для более глубокого изучения. Критерии отбора соответствуют аукциону с индексом 1, чтобы проверить вероятности at_least_one, at_least_two, at_least_three"
   ]
  },
  {
   "cell_type": "code",
   "execution_count": 53,
   "metadata": {},
   "outputs": [
    {
     "data": {
      "text/html": [
       "<div>\n",
       "<style scoped>\n",
       "    .dataframe tbody tr th:only-of-type {\n",
       "        vertical-align: middle;\n",
       "    }\n",
       "\n",
       "    .dataframe tbody tr th {\n",
       "        vertical-align: top;\n",
       "    }\n",
       "\n",
       "    .dataframe thead th {\n",
       "        text-align: right;\n",
       "    }\n",
       "</style>\n",
       "<table border=\"1\" class=\"dataframe\">\n",
       "  <thead>\n",
       "    <tr style=\"text-align: right;\">\n",
       "      <th></th>\n",
       "      <th>cpm</th>\n",
       "      <th>hour_start</th>\n",
       "      <th>hour_end</th>\n",
       "      <th>audience_size</th>\n",
       "      <th>duration</th>\n",
       "      <th>publisher_id</th>\n",
       "      <th>user_id</th>\n",
       "      <th>publishers_count</th>\n",
       "      <th>at_least_one</th>\n",
       "      <th>at_least_two</th>\n",
       "      <th>at_least_three</th>\n",
       "      <th>middle_hour</th>\n",
       "    </tr>\n",
       "  </thead>\n",
       "  <tbody>\n",
       "    <tr>\n",
       "      <th>1</th>\n",
       "      <td>312.0</td>\n",
       "      <td>1295</td>\n",
       "      <td>1301</td>\n",
       "      <td>1380</td>\n",
       "      <td>6</td>\n",
       "      <td>[3, 18]</td>\n",
       "      <td>[29, 81, 98, 102, 165, 167, 195, 205, 218, 231...</td>\n",
       "      <td>2</td>\n",
       "      <td>0.0130</td>\n",
       "      <td>0.0</td>\n",
       "      <td>0.0</td>\n",
       "      <td>1298</td>\n",
       "    </tr>\n",
       "    <tr>\n",
       "      <th>741</th>\n",
       "      <td>50.0</td>\n",
       "      <td>1295</td>\n",
       "      <td>1301</td>\n",
       "      <td>1380</td>\n",
       "      <td>6</td>\n",
       "      <td>[3, 5, 7, 11, 17]</td>\n",
       "      <td>[6, 19, 21, 46, 71, 72, 87, 99, 132, 133, 152,...</td>\n",
       "      <td>5</td>\n",
       "      <td>0.0007</td>\n",
       "      <td>0.0</td>\n",
       "      <td>0.0</td>\n",
       "      <td>1298</td>\n",
       "    </tr>\n",
       "  </tbody>\n",
       "</table>\n",
       "</div>"
      ],
      "text/plain": [
       "       cpm  hour_start  hour_end  audience_size  duration       publisher_id  \\\n",
       "1    312.0        1295      1301           1380         6            [3, 18]   \n",
       "741   50.0        1295      1301           1380         6  [3, 5, 7, 11, 17]   \n",
       "\n",
       "                                               user_id  publishers_count  \\\n",
       "1    [29, 81, 98, 102, 165, 167, 195, 205, 218, 231...                 2   \n",
       "741  [6, 19, 21, 46, 71, 72, 87, 99, 132, 133, 152,...                 5   \n",
       "\n",
       "     at_least_one  at_least_two  at_least_three  middle_hour  \n",
       "1          0.0130           0.0             0.0         1298  \n",
       "741        0.0007           0.0             0.0         1298  "
      ]
     },
     "execution_count": 53,
     "metadata": {},
     "output_type": "execute_result"
    }
   ],
   "source": [
    "df_2 = df_val_va[(df_val_va['hour_start']==1295) & (df_val_va['hour_end']==1301)]\n",
    "df_2"
   ]
  },
  {
   "cell_type": "markdown",
   "metadata": {},
   "source": [
    "Указанным критериям соответствуют два аукциона. Заметим, что существует пользователь, который находится в целевых списках обоих аукционов - 218. Найдем его в истории просмотров"
   ]
  },
  {
   "cell_type": "code",
   "execution_count": 54,
   "metadata": {},
   "outputs": [
    {
     "data": {
      "text/html": [
       "<div>\n",
       "<style scoped>\n",
       "    .dataframe tbody tr th:only-of-type {\n",
       "        vertical-align: middle;\n",
       "    }\n",
       "\n",
       "    .dataframe tbody tr th {\n",
       "        vertical-align: top;\n",
       "    }\n",
       "\n",
       "    .dataframe thead th {\n",
       "        text-align: right;\n",
       "    }\n",
       "</style>\n",
       "<table border=\"1\" class=\"dataframe\">\n",
       "  <thead>\n",
       "    <tr style=\"text-align: right;\">\n",
       "      <th></th>\n",
       "      <th>hour</th>\n",
       "      <th>cpm</th>\n",
       "      <th>publisher</th>\n",
       "      <th>user_id</th>\n",
       "    </tr>\n",
       "  </thead>\n",
       "  <tbody>\n",
       "    <tr>\n",
       "      <th>10080</th>\n",
       "      <td>7</td>\n",
       "      <td>90.00</td>\n",
       "      <td>2</td>\n",
       "      <td>218</td>\n",
       "    </tr>\n",
       "    <tr>\n",
       "      <th>1124970</th>\n",
       "      <td>10</td>\n",
       "      <td>80.00</td>\n",
       "      <td>7</td>\n",
       "      <td>218</td>\n",
       "    </tr>\n",
       "    <tr>\n",
       "      <th>41231</th>\n",
       "      <td>55</td>\n",
       "      <td>58.64</td>\n",
       "      <td>2</td>\n",
       "      <td>218</td>\n",
       "    </tr>\n",
       "    <tr>\n",
       "      <th>1007973</th>\n",
       "      <td>58</td>\n",
       "      <td>115.92</td>\n",
       "      <td>7</td>\n",
       "      <td>218</td>\n",
       "    </tr>\n",
       "    <tr>\n",
       "      <th>39445</th>\n",
       "      <td>62</td>\n",
       "      <td>31.54</td>\n",
       "      <td>2</td>\n",
       "      <td>218</td>\n",
       "    </tr>\n",
       "    <tr>\n",
       "      <th>...</th>\n",
       "      <td>...</td>\n",
       "      <td>...</td>\n",
       "      <td>...</td>\n",
       "      <td>...</td>\n",
       "    </tr>\n",
       "    <tr>\n",
       "      <th>934756</th>\n",
       "      <td>1413</td>\n",
       "      <td>252.00</td>\n",
       "      <td>2</td>\n",
       "      <td>218</td>\n",
       "    </tr>\n",
       "    <tr>\n",
       "      <th>954753</th>\n",
       "      <td>1416</td>\n",
       "      <td>70.00</td>\n",
       "      <td>7</td>\n",
       "      <td>218</td>\n",
       "    </tr>\n",
       "    <tr>\n",
       "      <th>1138736</th>\n",
       "      <td>1424</td>\n",
       "      <td>585.00</td>\n",
       "      <td>2</td>\n",
       "      <td>218</td>\n",
       "    </tr>\n",
       "    <tr>\n",
       "      <th>948159</th>\n",
       "      <td>1439</td>\n",
       "      <td>252.00</td>\n",
       "      <td>2</td>\n",
       "      <td>218</td>\n",
       "    </tr>\n",
       "    <tr>\n",
       "      <th>963890</th>\n",
       "      <td>1458</td>\n",
       "      <td>66.00</td>\n",
       "      <td>7</td>\n",
       "      <td>218</td>\n",
       "    </tr>\n",
       "  </tbody>\n",
       "</table>\n",
       "<p>136 rows × 4 columns</p>\n",
       "</div>"
      ],
      "text/plain": [
       "         hour     cpm  publisher  user_id\n",
       "10080       7   90.00          2      218\n",
       "1124970    10   80.00          7      218\n",
       "41231      55   58.64          2      218\n",
       "1007973    58  115.92          7      218\n",
       "39445      62   31.54          2      218\n",
       "...       ...     ...        ...      ...\n",
       "934756   1413  252.00          2      218\n",
       "954753   1416   70.00          7      218\n",
       "1138736  1424  585.00          2      218\n",
       "948159   1439  252.00          2      218\n",
       "963890   1458   66.00          7      218\n",
       "\n",
       "[136 rows x 4 columns]"
      ]
     },
     "execution_count": 54,
     "metadata": {},
     "output_type": "execute_result"
    }
   ],
   "source": [
    "user_218 = df_hist[(df_hist['user_id'] == 218)].sort_values('hour')\n",
    "user_218"
   ]
  },
  {
   "cell_type": "markdown",
   "metadata": {},
   "source": [
    "проверим на каких площадках он смотрит объявления"
   ]
  },
  {
   "cell_type": "code",
   "execution_count": 55,
   "metadata": {},
   "outputs": [
    {
     "data": {
      "text/plain": [
       "publisher\n",
       "2    107\n",
       "7     29\n",
       "Name: count, dtype: int64"
      ]
     },
     "execution_count": 55,
     "metadata": {},
     "output_type": "execute_result"
    }
   ],
   "source": [
    "user_218['publisher'].value_counts()"
   ]
  },
  {
   "cell_type": "markdown",
   "metadata": {},
   "source": [
    "На двух 2 и 7. При этом больше всего на 2-й площадке, но этой площадки нет в списке аукциона с индексом 1.\n",
    "Проверим сколько у него было просмотров в течение периода (1295, 1301), который соответствует аукциону с индексом 1"
   ]
  },
  {
   "cell_type": "code",
   "execution_count": 56,
   "metadata": {},
   "outputs": [
    {
     "data": {
      "text/html": [
       "<div>\n",
       "<style scoped>\n",
       "    .dataframe tbody tr th:only-of-type {\n",
       "        vertical-align: middle;\n",
       "    }\n",
       "\n",
       "    .dataframe tbody tr th {\n",
       "        vertical-align: top;\n",
       "    }\n",
       "\n",
       "    .dataframe thead th {\n",
       "        text-align: right;\n",
       "    }\n",
       "</style>\n",
       "<table border=\"1\" class=\"dataframe\">\n",
       "  <thead>\n",
       "    <tr style=\"text-align: right;\">\n",
       "      <th></th>\n",
       "      <th>hour</th>\n",
       "      <th>cpm</th>\n",
       "      <th>publisher</th>\n",
       "      <th>user_id</th>\n",
       "    </tr>\n",
       "  </thead>\n",
       "  <tbody>\n",
       "    <tr>\n",
       "      <th>856447</th>\n",
       "      <td>1295</td>\n",
       "      <td>100.0</td>\n",
       "      <td>2</td>\n",
       "      <td>218</td>\n",
       "    </tr>\n",
       "  </tbody>\n",
       "</table>\n",
       "</div>"
      ],
      "text/plain": [
       "        hour    cpm  publisher  user_id\n",
       "856447  1295  100.0          2      218"
      ]
     },
     "execution_count": 56,
     "metadata": {},
     "output_type": "execute_result"
    }
   ],
   "source": [
    "df_hist[(df_hist['user_id'] == 218) & (df_hist['hour']>=1295) & (df_hist['hour']<=1301)]"
   ]
  },
  {
   "cell_type": "markdown",
   "metadata": {},
   "source": [
    "Указанный период времени он просмотрел одно объявление, но cpm равно 100 в то время, как аукционы с индексом 1 и 741, в которых пользователь 218 числится в целевых аудиториях, имеют cpm 312 и 50, соответственно. "
   ]
  },
  {
   "cell_type": "code",
   "execution_count": 57,
   "metadata": {},
   "outputs": [
    {
     "data": {
      "text/html": [
       "<div>\n",
       "<style scoped>\n",
       "    .dataframe tbody tr th:only-of-type {\n",
       "        vertical-align: middle;\n",
       "    }\n",
       "\n",
       "    .dataframe tbody tr th {\n",
       "        vertical-align: top;\n",
       "    }\n",
       "\n",
       "    .dataframe thead th {\n",
       "        text-align: right;\n",
       "    }\n",
       "</style>\n",
       "<table border=\"1\" class=\"dataframe\">\n",
       "  <thead>\n",
       "    <tr style=\"text-align: right;\">\n",
       "      <th></th>\n",
       "      <th>cpm</th>\n",
       "      <th>hour_start</th>\n",
       "      <th>hour_end</th>\n",
       "      <th>audience_size</th>\n",
       "      <th>duration</th>\n",
       "      <th>publisher_id</th>\n",
       "      <th>user_id</th>\n",
       "      <th>publishers_count</th>\n",
       "      <th>at_least_one</th>\n",
       "      <th>at_least_two</th>\n",
       "      <th>at_least_three</th>\n",
       "      <th>middle_hour</th>\n",
       "    </tr>\n",
       "  </thead>\n",
       "  <tbody>\n",
       "    <tr>\n",
       "      <th>158</th>\n",
       "      <td>100.0</td>\n",
       "      <td>1186</td>\n",
       "      <td>1416</td>\n",
       "      <td>2280</td>\n",
       "      <td>230</td>\n",
       "      <td>[2]</td>\n",
       "      <td>[3, 9, 12, 26, 27, 62, 100, 101, 131, 143, 144...</td>\n",
       "      <td>1</td>\n",
       "      <td>0.0741</td>\n",
       "      <td>0.0513</td>\n",
       "      <td>0.0355</td>\n",
       "      <td>1301</td>\n",
       "    </tr>\n",
       "    <tr>\n",
       "      <th>230</th>\n",
       "      <td>100.0</td>\n",
       "      <td>1083</td>\n",
       "      <td>1335</td>\n",
       "      <td>996</td>\n",
       "      <td>252</td>\n",
       "      <td>[3]</td>\n",
       "      <td>[25, 31, 86, 91, 122, 131, 160, 174, 176, 203,...</td>\n",
       "      <td>1</td>\n",
       "      <td>0.0402</td>\n",
       "      <td>0.0171</td>\n",
       "      <td>0.0100</td>\n",
       "      <td>1209</td>\n",
       "    </tr>\n",
       "    <tr>\n",
       "      <th>751</th>\n",
       "      <td>100.0</td>\n",
       "      <td>1072</td>\n",
       "      <td>1307</td>\n",
       "      <td>1260</td>\n",
       "      <td>235</td>\n",
       "      <td>[1, 7, 14, 19, 21]</td>\n",
       "      <td>[6, 8, 11, 20, 22, 24, 41, 88, 90, 185, 190, 2...</td>\n",
       "      <td>5</td>\n",
       "      <td>0.2865</td>\n",
       "      <td>0.1944</td>\n",
       "      <td>0.1429</td>\n",
       "      <td>1190</td>\n",
       "    </tr>\n",
       "  </tbody>\n",
       "</table>\n",
       "</div>"
      ],
      "text/plain": [
       "       cpm  hour_start  hour_end  audience_size  duration        publisher_id  \\\n",
       "158  100.0        1186      1416           2280       230                 [2]   \n",
       "230  100.0        1083      1335            996       252                 [3]   \n",
       "751  100.0        1072      1307           1260       235  [1, 7, 14, 19, 21]   \n",
       "\n",
       "                                               user_id  publishers_count  \\\n",
       "158  [3, 9, 12, 26, 27, 62, 100, 101, 131, 143, 144...                 1   \n",
       "230  [25, 31, 86, 91, 122, 131, 160, 174, 176, 203,...                 1   \n",
       "751  [6, 8, 11, 20, 22, 24, 41, 88, 90, 185, 190, 2...                 5   \n",
       "\n",
       "     at_least_one  at_least_two  at_least_three  middle_hour  \n",
       "158        0.0741        0.0513          0.0355         1301  \n",
       "230        0.0402        0.0171          0.0100         1209  \n",
       "751        0.2865        0.1944          0.1429         1190  "
      ]
     },
     "execution_count": 57,
     "metadata": {},
     "output_type": "execute_result"
    }
   ],
   "source": [
    "df_3 = df_val_va[(df_val_va['hour_start']<=1295) & (df_val_va['hour_end']>=1295) & (df_val_va['cpm'] == 100)]\n",
    "df_3"
   ]
  },
  {
   "cell_type": "markdown",
   "metadata": {},
   "source": [
    "То есть по факту пользователь не увидел целевые объявления, но увидел другие с индексами 158, 230, 751."
   ]
  },
  {
   "cell_type": "code",
   "execution_count": 58,
   "metadata": {},
   "outputs": [
    {
     "data": {
      "text/plain": [
       "158    False\n",
       "230    False\n",
       "751     True\n",
       "Name: user_id, dtype: bool"
      ]
     },
     "execution_count": 58,
     "metadata": {},
     "output_type": "execute_result"
    }
   ],
   "source": [
    "df_3.loc[:, 'user_id'].apply(lambda x: 218 in x)\n"
   ]
  },
  {
   "cell_type": "markdown",
   "metadata": {},
   "source": [
    "При этом пользователь 218 был в списке целевых пользователей только в аукционе с индексом 751, но с площадки 7."
   ]
  },
  {
   "cell_type": "markdown",
   "metadata": {},
   "source": [
    "Вывод: пользователи просматривают объявления, которые победили на аукционе при условии отбора: \n",
    "- время просмотра попадает во временной диапазон аукциона\n",
    "- площадка, на которой целевой пользователь смотрит объявления, значится в аукционе\n",
    "- целевой пользователь числится в списки целевой аудитории аукциона\n"
   ]
  },
  {
   "cell_type": "markdown",
   "metadata": {},
   "source": [
    "### Теперь сделаем анализ целевых аудиторий в датасете `validate`"
   ]
  },
  {
   "cell_type": "markdown",
   "metadata": {},
   "source": [
    "Оценим целевую аудиторию аукциона с индексом 1"
   ]
  },
  {
   "cell_type": "code",
   "execution_count": 59,
   "metadata": {},
   "outputs": [
    {
     "data": {
      "text/html": [
       "<div>\n",
       "<style scoped>\n",
       "    .dataframe tbody tr th:only-of-type {\n",
       "        vertical-align: middle;\n",
       "    }\n",
       "\n",
       "    .dataframe tbody tr th {\n",
       "        vertical-align: top;\n",
       "    }\n",
       "\n",
       "    .dataframe thead th {\n",
       "        text-align: right;\n",
       "    }\n",
       "</style>\n",
       "<table border=\"1\" class=\"dataframe\">\n",
       "  <thead>\n",
       "    <tr style=\"text-align: right;\">\n",
       "      <th></th>\n",
       "      <th>cpm</th>\n",
       "      <th>hour_start</th>\n",
       "      <th>hour_end</th>\n",
       "      <th>audience_size</th>\n",
       "      <th>duration</th>\n",
       "      <th>publisher_id</th>\n",
       "      <th>user_id</th>\n",
       "      <th>publishers_count</th>\n",
       "      <th>at_least_one</th>\n",
       "      <th>at_least_two</th>\n",
       "      <th>at_least_three</th>\n",
       "      <th>middle_hour</th>\n",
       "    </tr>\n",
       "  </thead>\n",
       "  <tbody>\n",
       "    <tr>\n",
       "      <th>1</th>\n",
       "      <td>312.0</td>\n",
       "      <td>1295</td>\n",
       "      <td>1301</td>\n",
       "      <td>1380</td>\n",
       "      <td>6</td>\n",
       "      <td>[3, 18]</td>\n",
       "      <td>[29, 81, 98, 102, 165, 167, 195, 205, 218, 231...</td>\n",
       "      <td>2</td>\n",
       "      <td>0.0130</td>\n",
       "      <td>0.0</td>\n",
       "      <td>0.0</td>\n",
       "      <td>1298</td>\n",
       "    </tr>\n",
       "    <tr>\n",
       "      <th>741</th>\n",
       "      <td>50.0</td>\n",
       "      <td>1295</td>\n",
       "      <td>1301</td>\n",
       "      <td>1380</td>\n",
       "      <td>6</td>\n",
       "      <td>[3, 5, 7, 11, 17]</td>\n",
       "      <td>[6, 19, 21, 46, 71, 72, 87, 99, 132, 133, 152,...</td>\n",
       "      <td>5</td>\n",
       "      <td>0.0007</td>\n",
       "      <td>0.0</td>\n",
       "      <td>0.0</td>\n",
       "      <td>1298</td>\n",
       "    </tr>\n",
       "  </tbody>\n",
       "</table>\n",
       "</div>"
      ],
      "text/plain": [
       "       cpm  hour_start  hour_end  audience_size  duration       publisher_id  \\\n",
       "1    312.0        1295      1301           1380         6            [3, 18]   \n",
       "741   50.0        1295      1301           1380         6  [3, 5, 7, 11, 17]   \n",
       "\n",
       "                                               user_id  publishers_count  \\\n",
       "1    [29, 81, 98, 102, 165, 167, 195, 205, 218, 231...                 2   \n",
       "741  [6, 19, 21, 46, 71, 72, 87, 99, 132, 133, 152,...                 5   \n",
       "\n",
       "     at_least_one  at_least_two  at_least_three  middle_hour  \n",
       "1          0.0130           0.0             0.0         1298  \n",
       "741        0.0007           0.0             0.0         1298  "
      ]
     },
     "execution_count": 59,
     "metadata": {},
     "output_type": "execute_result"
    }
   ],
   "source": [
    "df_2"
   ]
  },
  {
   "cell_type": "markdown",
   "metadata": {},
   "source": [
    "Сначача посмотрим на признаки пользователей в количестве 1380 чел. из аукциона 741"
   ]
  },
  {
   "cell_type": "code",
   "execution_count": 60,
   "metadata": {},
   "outputs": [
    {
     "data": {
      "image/png": "[encoded data removed]",
      "text/plain": [
       "<Figure size 2000x800 with 4 Axes>"
      ]
     },
     "metadata": {},
     "output_type": "display_data"
    }
   ],
   "source": [
    "val_users_1 = df_2.iloc[1]['user_id']\n",
    "val_users_1 = list(map(int, val_users_1))\n",
    "vvv_1 = df_users.iloc[val_users_1]\n",
    "vvv_1.hist(figsize=(20, 8), bins=30);"
   ]
  },
  {
   "cell_type": "code",
   "execution_count": 61,
   "metadata": {},
   "outputs": [
    {
     "data": {
      "text/plain": [
       "city_id\n",
       "0       417\n",
       "3       109\n",
       "7        44\n",
       "19       23\n",
       "60       20\n",
       "       ... \n",
       "1409      1\n",
       "202       1\n",
       "797       1\n",
       "1464      1\n",
       "1953      1\n",
       "Name: count, Length: 369, dtype: int64"
      ]
     },
     "execution_count": 61,
     "metadata": {},
     "output_type": "execute_result"
    }
   ],
   "source": [
    "vvv_1['city_id'].value_counts()"
   ]
  },
  {
   "cell_type": "markdown",
   "metadata": {},
   "source": [
    "Их всех объединяет узкий диапазон возраста и регион с городами с индексом 0, 3, и несколько других. Аудитория сбалансирована по полу."
   ]
  },
  {
   "cell_type": "markdown",
   "metadata": {},
   "source": [
    "Согласно параметрам аукциона с индексом 1 во время его показа (1295, 1301) на целевых площадках (3, 18) из целевой аудитории в 1380 чел реально просмотрело объявление 61 человек."
   ]
  },
  {
   "cell_type": "code",
   "execution_count": 205,
   "metadata": {},
   "outputs": [
    {
     "data": {
      "text/plain": [
       "91"
      ]
     },
     "execution_count": 205,
     "metadata": {},
     "output_type": "execute_result"
    }
   ],
   "source": [
    "df_ = df_hist[(df_hist['hour']>=1295) & (df_hist['hour']<1301) & ((df_hist['publisher'] == 3) | (df_hist['publisher'] == 18))].sort_values('hour')\n",
    "hu = df_['user_id'].sort_values().unique().tolist()\n",
    "len(hu)"
   ]
  },
  {
   "cell_type": "code",
   "execution_count": 63,
   "metadata": {},
   "outputs": [
    {
     "name": "stdout",
     "output_type": "stream",
     "text": [
      "users_intersected: count 18, \n",
      "users_list [   29  1837  2749  4315  4890  5717  5899  8244  8753  9748 10058 12083\n",
      " 13267 15900 16330 19667 21150 26974]\n"
     ]
    }
   ],
   "source": [
    "val_users_0 = df_2.iloc[0]['user_id']\n",
    "intersect_0 = np.intersect1d(hu, val_users_0)\n",
    "print(f'users_intersected: count {len(intersect_0)}, \\nusers_list {intersect_0}')\n"
   ]
  },
  {
   "cell_type": "code",
   "execution_count": 64,
   "metadata": {},
   "outputs": [
    {
     "data": {
      "text/plain": [
       "audience_size      1380\n",
       "at_least_one      0.013\n",
       "at_least_two        0.0\n",
       "at_least_three      0.0\n",
       "Name: 1, dtype: object"
      ]
     },
     "execution_count": 64,
     "metadata": {},
     "output_type": "execute_result"
    }
   ],
   "source": [
    "df_2.loc[1, ['audience_size', 'at_least_one', 'at_least_two', 'at_least_three']]"
   ]
  },
  {
   "cell_type": "code",
   "execution_count": 65,
   "metadata": {},
   "outputs": [
    {
     "data": {
      "text/plain": [
       "audience_size    0.013043\n",
       "Name: 1, dtype: object"
      ]
     },
     "execution_count": 65,
     "metadata": {},
     "output_type": "execute_result"
    }
   ],
   "source": [
    "len(intersect_0) / df_2.loc[1, ['audience_size']]"
   ]
  },
  {
   "cell_type": "markdown",
   "metadata": {},
   "source": [
    "Для аукциона с индексом 1 была расчитана вероятность \"хотя_бы_один\" равная `1,3%` (датасет validate + validate_answers)\n",
    "### В истории по факту есть только один пользователь (17437) из списка целевой аудитории, который увидел объявление с `cpm` = 50, вероятность такого просмотра равна `1,3043%` :)"
   ]
  },
  {
   "cell_type": "code",
   "execution_count": 70,
   "metadata": {},
   "outputs": [],
   "source": [
    "hist_sorted = df_hist.sort_values(by=['user_id', 'hour'])\n",
    "# Вычисление разницы в часах\n",
    "hist_sorted['time_diff'] = hist_sorted.groupby('user_id')['hour'].diff()"
   ]
  },
  {
   "cell_type": "code",
   "execution_count": 214,
   "metadata": {},
   "outputs": [
    {
     "data": {
      "text/html": [
       "<div>\n",
       "<style scoped>\n",
       "    .dataframe tbody tr th:only-of-type {\n",
       "        vertical-align: middle;\n",
       "    }\n",
       "\n",
       "    .dataframe tbody tr th {\n",
       "        vertical-align: top;\n",
       "    }\n",
       "\n",
       "    .dataframe thead th {\n",
       "        text-align: right;\n",
       "    }\n",
       "</style>\n",
       "<table border=\"1\" class=\"dataframe\">\n",
       "  <thead>\n",
       "    <tr style=\"text-align: right;\">\n",
       "      <th></th>\n",
       "      <th>hour</th>\n",
       "      <th>cpm</th>\n",
       "      <th>publisher</th>\n",
       "      <th>user_id</th>\n",
       "      <th>time_diff</th>\n",
       "    </tr>\n",
       "  </thead>\n",
       "  <tbody>\n",
       "    <tr>\n",
       "      <th>778194</th>\n",
       "      <td>1186</td>\n",
       "      <td>805.65</td>\n",
       "      <td>1</td>\n",
       "      <td>0</td>\n",
       "      <td>NaN</td>\n",
       "    </tr>\n",
       "    <tr>\n",
       "      <th>793167</th>\n",
       "      <td>1217</td>\n",
       "      <td>3302.01</td>\n",
       "      <td>1</td>\n",
       "      <td>0</td>\n",
       "      <td>31.0</td>\n",
       "    </tr>\n",
       "    <tr>\n",
       "      <th>305</th>\n",
       "      <td>8</td>\n",
       "      <td>165.00</td>\n",
       "      <td>1</td>\n",
       "      <td>1</td>\n",
       "      <td>NaN</td>\n",
       "    </tr>\n",
       "    <tr>\n",
       "      <th>1015</th>\n",
       "      <td>9</td>\n",
       "      <td>53.20</td>\n",
       "      <td>1</td>\n",
       "      <td>1</td>\n",
       "      <td>1.0</td>\n",
       "    </tr>\n",
       "    <tr>\n",
       "      <th>3458</th>\n",
       "      <td>9</td>\n",
       "      <td>36.00</td>\n",
       "      <td>1</td>\n",
       "      <td>1</td>\n",
       "      <td>0.0</td>\n",
       "    </tr>\n",
       "  </tbody>\n",
       "</table>\n",
       "</div>"
      ],
      "text/plain": [
       "        hour      cpm  publisher  user_id  time_diff\n",
       "778194  1186   805.65          1        0        NaN\n",
       "793167  1217  3302.01          1        0       31.0\n",
       "305        8   165.00          1        1        NaN\n",
       "1015       9    53.20          1        1        1.0\n",
       "3458       9    36.00          1        1        0.0"
      ]
     },
     "execution_count": 214,
     "metadata": {},
     "output_type": "execute_result"
    }
   ],
   "source": [
    "hist_sorted.head()"
   ]
  },
  {
   "cell_type": "code",
   "execution_count": 215,
   "metadata": {},
   "outputs": [
    {
     "data": {
      "text/html": [
       "<div>\n",
       "<style scoped>\n",
       "    .dataframe tbody tr th:only-of-type {\n",
       "        vertical-align: middle;\n",
       "    }\n",
       "\n",
       "    .dataframe tbody tr th {\n",
       "        vertical-align: top;\n",
       "    }\n",
       "\n",
       "    .dataframe thead th {\n",
       "        text-align: right;\n",
       "    }\n",
       "</style>\n",
       "<table border=\"1\" class=\"dataframe\">\n",
       "  <thead>\n",
       "    <tr style=\"text-align: right;\">\n",
       "      <th></th>\n",
       "      <th>cpm</th>\n",
       "      <th>hour_start</th>\n",
       "      <th>hour_end</th>\n",
       "      <th>audience_size</th>\n",
       "      <th>duration</th>\n",
       "      <th>publisher_id</th>\n",
       "      <th>user_id</th>\n",
       "      <th>publishers_count</th>\n",
       "      <th>at_least_one</th>\n",
       "      <th>at_least_two</th>\n",
       "      <th>at_least_three</th>\n",
       "      <th>middle_hour</th>\n",
       "    </tr>\n",
       "  </thead>\n",
       "  <tbody>\n",
       "    <tr>\n",
       "      <th>1</th>\n",
       "      <td>312.0</td>\n",
       "      <td>1295</td>\n",
       "      <td>1301</td>\n",
       "      <td>1380</td>\n",
       "      <td>6</td>\n",
       "      <td>[3, 18]</td>\n",
       "      <td>[29, 81, 98, 102, 165, 167, 195, 205, 218, 231...</td>\n",
       "      <td>2</td>\n",
       "      <td>0.0130</td>\n",
       "      <td>0.0</td>\n",
       "      <td>0.0</td>\n",
       "      <td>1298</td>\n",
       "    </tr>\n",
       "    <tr>\n",
       "      <th>8</th>\n",
       "      <td>270.0</td>\n",
       "      <td>978</td>\n",
       "      <td>994</td>\n",
       "      <td>484</td>\n",
       "      <td>16</td>\n",
       "      <td>[2, 11]</td>\n",
       "      <td>[52, 57, 139, 249, 290, 311, 327, 374, 488, 61...</td>\n",
       "      <td>2</td>\n",
       "      <td>0.0062</td>\n",
       "      <td>0.0</td>\n",
       "      <td>0.0</td>\n",
       "      <td>986</td>\n",
       "    </tr>\n",
       "    <tr>\n",
       "      <th>9</th>\n",
       "      <td>250.0</td>\n",
       "      <td>1440</td>\n",
       "      <td>1442</td>\n",
       "      <td>972</td>\n",
       "      <td>2</td>\n",
       "      <td>[2, 3]</td>\n",
       "      <td>[46, 58, 176, 209, 255, 284, 305, 312, 367, 41...</td>\n",
       "      <td>2</td>\n",
       "      <td>0.0082</td>\n",
       "      <td>0.0</td>\n",
       "      <td>0.0</td>\n",
       "      <td>1441</td>\n",
       "    </tr>\n",
       "    <tr>\n",
       "      <th>12</th>\n",
       "      <td>80.0</td>\n",
       "      <td>1031</td>\n",
       "      <td>1040</td>\n",
       "      <td>624</td>\n",
       "      <td>9</td>\n",
       "      <td>[2, 3, 7, 8, 19]</td>\n",
       "      <td>[146, 202, 377, 383, 385, 393, 436, 488, 602, ...</td>\n",
       "      <td>5</td>\n",
       "      <td>0.0176</td>\n",
       "      <td>0.0</td>\n",
       "      <td>0.0</td>\n",
       "      <td>1036</td>\n",
       "    </tr>\n",
       "    <tr>\n",
       "      <th>17</th>\n",
       "      <td>474.0</td>\n",
       "      <td>1001</td>\n",
       "      <td>1005</td>\n",
       "      <td>1660</td>\n",
       "      <td>4</td>\n",
       "      <td>[2, 3, 6, 7, 18, 20]</td>\n",
       "      <td>[13, 28, 52, 66, 70, 94, 138, 164, 169, 202, 2...</td>\n",
       "      <td>6</td>\n",
       "      <td>0.0042</td>\n",
       "      <td>0.0</td>\n",
       "      <td>0.0</td>\n",
       "      <td>1003</td>\n",
       "    </tr>\n",
       "    <tr>\n",
       "      <th>...</th>\n",
       "      <td>...</td>\n",
       "      <td>...</td>\n",
       "      <td>...</td>\n",
       "      <td>...</td>\n",
       "      <td>...</td>\n",
       "      <td>...</td>\n",
       "      <td>...</td>\n",
       "      <td>...</td>\n",
       "      <td>...</td>\n",
       "      <td>...</td>\n",
       "      <td>...</td>\n",
       "      <td>...</td>\n",
       "    </tr>\n",
       "    <tr>\n",
       "      <th>991</th>\n",
       "      <td>220.0</td>\n",
       "      <td>979</td>\n",
       "      <td>986</td>\n",
       "      <td>680</td>\n",
       "      <td>7</td>\n",
       "      <td>[1, 7, 14]</td>\n",
       "      <td>[18, 74, 217, 260, 283, 366, 398, 526, 562, 58...</td>\n",
       "      <td>3</td>\n",
       "      <td>0.0706</td>\n",
       "      <td>0.0</td>\n",
       "      <td>0.0</td>\n",
       "      <td>982</td>\n",
       "    </tr>\n",
       "    <tr>\n",
       "      <th>992</th>\n",
       "      <td>50.0</td>\n",
       "      <td>1094</td>\n",
       "      <td>1097</td>\n",
       "      <td>808</td>\n",
       "      <td>3</td>\n",
       "      <td>[1, 2, 7, 13]</td>\n",
       "      <td>[9, 34, 51, 167, 186, 202, 232, 260, 311, 348,...</td>\n",
       "      <td>4</td>\n",
       "      <td>0.0087</td>\n",
       "      <td>0.0</td>\n",
       "      <td>0.0</td>\n",
       "      <td>1096</td>\n",
       "    </tr>\n",
       "    <tr>\n",
       "      <th>1002</th>\n",
       "      <td>430.0</td>\n",
       "      <td>1159</td>\n",
       "      <td>1163</td>\n",
       "      <td>384</td>\n",
       "      <td>4</td>\n",
       "      <td>[1, 5, 7, 11, 13]</td>\n",
       "      <td>[202, 266, 355, 384, 390, 524, 655, 666, 696, ...</td>\n",
       "      <td>5</td>\n",
       "      <td>0.0651</td>\n",
       "      <td>0.0</td>\n",
       "      <td>0.0</td>\n",
       "      <td>1161</td>\n",
       "    </tr>\n",
       "    <tr>\n",
       "      <th>1004</th>\n",
       "      <td>90.0</td>\n",
       "      <td>1052</td>\n",
       "      <td>1056</td>\n",
       "      <td>484</td>\n",
       "      <td>4</td>\n",
       "      <td>[2, 21]</td>\n",
       "      <td>[1, 4, 61, 212, 230, 348, 356, 372, 429, 431, ...</td>\n",
       "      <td>2</td>\n",
       "      <td>0.0165</td>\n",
       "      <td>0.0</td>\n",
       "      <td>0.0</td>\n",
       "      <td>1054</td>\n",
       "    </tr>\n",
       "    <tr>\n",
       "      <th>1005</th>\n",
       "      <td>122.0</td>\n",
       "      <td>1058</td>\n",
       "      <td>1063</td>\n",
       "      <td>704</td>\n",
       "      <td>5</td>\n",
       "      <td>[2, 5]</td>\n",
       "      <td>[1, 23, 29, 104, 136, 176, 201, 206, 250, 269,...</td>\n",
       "      <td>2</td>\n",
       "      <td>0.0071</td>\n",
       "      <td>0.0</td>\n",
       "      <td>0.0</td>\n",
       "      <td>1060</td>\n",
       "    </tr>\n",
       "  </tbody>\n",
       "</table>\n",
       "<p>351 rows × 12 columns</p>\n",
       "</div>"
      ],
      "text/plain": [
       "        cpm  hour_start  hour_end  audience_size  duration  \\\n",
       "1     312.0        1295      1301           1380         6   \n",
       "8     270.0         978       994            484        16   \n",
       "9     250.0        1440      1442            972         2   \n",
       "12     80.0        1031      1040            624         9   \n",
       "17    474.0        1001      1005           1660         4   \n",
       "...     ...         ...       ...            ...       ...   \n",
       "991   220.0         979       986            680         7   \n",
       "992    50.0        1094      1097            808         3   \n",
       "1002  430.0        1159      1163            384         4   \n",
       "1004   90.0        1052      1056            484         4   \n",
       "1005  122.0        1058      1063            704         5   \n",
       "\n",
       "              publisher_id                                            user_id  \\\n",
       "1                  [3, 18]  [29, 81, 98, 102, 165, 167, 195, 205, 218, 231...   \n",
       "8                  [2, 11]  [52, 57, 139, 249, 290, 311, 327, 374, 488, 61...   \n",
       "9                   [2, 3]  [46, 58, 176, 209, 255, 284, 305, 312, 367, 41...   \n",
       "12        [2, 3, 7, 8, 19]  [146, 202, 377, 383, 385, 393, 436, 488, 602, ...   \n",
       "17    [2, 3, 6, 7, 18, 20]  [13, 28, 52, 66, 70, 94, 138, 164, 169, 202, 2...   \n",
       "...                    ...                                                ...   \n",
       "991             [1, 7, 14]  [18, 74, 217, 260, 283, 366, 398, 526, 562, 58...   \n",
       "992          [1, 2, 7, 13]  [9, 34, 51, 167, 186, 202, 232, 260, 311, 348,...   \n",
       "1002     [1, 5, 7, 11, 13]  [202, 266, 355, 384, 390, 524, 655, 666, 696, ...   \n",
       "1004               [2, 21]  [1, 4, 61, 212, 230, 348, 356, 372, 429, 431, ...   \n",
       "1005                [2, 5]  [1, 23, 29, 104, 136, 176, 201, 206, 250, 269,...   \n",
       "\n",
       "      publishers_count  at_least_one  at_least_two  at_least_three  \\\n",
       "1                    2        0.0130           0.0             0.0   \n",
       "8                    2        0.0062           0.0             0.0   \n",
       "9                    2        0.0082           0.0             0.0   \n",
       "12                   5        0.0176           0.0             0.0   \n",
       "17                   6        0.0042           0.0             0.0   \n",
       "...                ...           ...           ...             ...   \n",
       "991                  3        0.0706           0.0             0.0   \n",
       "992                  4        0.0087           0.0             0.0   \n",
       "1002                 5        0.0651           0.0             0.0   \n",
       "1004                 2        0.0165           0.0             0.0   \n",
       "1005                 2        0.0071           0.0             0.0   \n",
       "\n",
       "      middle_hour  \n",
       "1            1298  \n",
       "8             986  \n",
       "9            1441  \n",
       "12           1036  \n",
       "17           1003  \n",
       "...           ...  \n",
       "991           982  \n",
       "992          1096  \n",
       "1002         1161  \n",
       "1004         1054  \n",
       "1005         1060  \n",
       "\n",
       "[351 rows x 12 columns]"
      ]
     },
     "execution_count": 215,
     "metadata": {},
     "output_type": "execute_result"
    }
   ],
   "source": [
    "df_val_va[df_val_va['at_least_two']==0]"
   ]
  },
  {
   "cell_type": "code",
   "execution_count": 232,
   "metadata": {},
   "outputs": [
    {
     "data": {
      "text/plain": [
       "cpm                                                             312.0\n",
       "hour_start                                                       1295\n",
       "hour_end                                                         1301\n",
       "audience_size                                                    1380\n",
       "duration                                                            6\n",
       "publisher_id                                                  [3, 18]\n",
       "user_id             [29, 81, 98, 102, 165, 167, 195, 205, 218, 231...\n",
       "publishers_count                                                    2\n",
       "at_least_one                                                    0.013\n",
       "at_least_two                                                      0.0\n",
       "at_least_three                                                    0.0\n",
       "middle_hour                                                      1298\n",
       "Name: 1, dtype: object"
      ]
     },
     "execution_count": 232,
     "metadata": {},
     "output_type": "execute_result"
    }
   ],
   "source": [
    "AUC_INDEX = 1\n",
    "\n",
    "df_val_va.iloc[AUC_INDEX]"
   ]
  },
  {
   "cell_type": "code",
   "execution_count": 233,
   "metadata": {},
   "outputs": [
    {
     "name": "stdout",
     "output_type": "stream",
     "text": [
      "3 [29, 1837, 2749, 4315, 4890, 5717, 5899, 8244, 9748, 10058, 12083, 13267, 15900, 16330, 19667, 21150, 26974]\n",
      "18 [8753]\n",
      "users_intersected_count = 18 for \n",
      "    auction_index - 1 \n",
      "    with cpm - 312.0 \n",
      "    on publisher - 18 \n",
      "    targeted to - 1380 users\n",
      "users_list - [29, 1837, 2749, 4315, 4890, 5717, 5899, 8244, 9748, 10058, 12083, 13267, 15900, 16330, 19667, 21150, 26974, 8753]\n",
      "Prob_1: 0.013\n",
      "Target_1: 0.013\n"
     ]
    }
   ],
   "source": [
    "auc_hour_start = df_val_va.loc[AUC_INDEX, 'hour_start']\n",
    "auc_hour_end = df_val_va.loc[AUC_INDEX, 'hour_end']\n",
    "auc_publishers = df_val_va.loc[AUC_INDEX, 'publisher_id']\n",
    "auc_cpm = df_val_va.loc[AUC_INDEX, 'cpm']\n",
    "auc_aud_size = df_val_va.loc[AUC_INDEX, 'audience_size']\n",
    "targer_1 = df_val_va.loc[AUC_INDEX, 'at_least_one']\n",
    "\n",
    "count = False\n",
    "\n",
    "for pb in auc_publishers:\n",
    "    _ = hist_sorted[\n",
    "        (hist_sorted['hour']>=auc_hour_start) &\n",
    "        (hist_sorted['hour']<auc_hour_end) &\n",
    "        (hist_sorted['publisher'] == pb) #&\n",
    "        # (df_hist['cpm'] == auc_cpm)\n",
    "        ].sort_values('hour')\n",
    "    users_watched_on_pl = _['user_id'].sort_values().unique().tolist()\n",
    "    target_users = df_val_va.iloc[AUC_INDEX]['user_id']\n",
    "    intersected = np.intersect1d(users_watched_on_pl, target_users).tolist()\n",
    "    print(pb, intersected)\n",
    "    if count:\n",
    "        users_watched.extend(intersected)\n",
    "    else:\n",
    "        users_watched = intersected\n",
    "        count = True\n",
    "\n",
    "print(f'users_intersected_count = {len(users_watched)} for \\n\\\n",
    "    auction_index - {AUC_INDEX} \\n\\\n",
    "    with cpm - {auc_cpm} \\n\\\n",
    "    on publisher - {pb} \\n\\\n",
    "    targeted to - {auc_aud_size} users')\n",
    "print(f'users_list - {users_watched}')\n",
    "prob_calculated = round(len(users_watched) / auc_aud_size, 4)\n",
    "print(f'Prob_1: {prob_calculated}')\n",
    "print(f'Target_1: {targer_1}')"
   ]
  },
  {
   "cell_type": "markdown",
   "metadata": {},
   "source": [
    "Ниже предобработка и функция свёртки, написанная \"в лоб\" (была идея через массивы, но время не стал тратить на более эффективные решения).\n",
    "Свертка сворачивает массив history в сжатый формат, в которой плоащадки и пользователи в форме списков. ВАЖНО задать параметры свертки.\n",
    "В моей случае округление признаков cpm и hour с их сцеплением в категориальный признак."
   ]
  },
  {
   "cell_type": "code",
   "execution_count": null,
   "metadata": {},
   "outputs": [],
   "source": [
    "# views = hu_stacked.groupby(['hour', 'cpm'], as_index=False)[['publisher', 'user_id']].count()\n",
    "# views['hour_cpm'] = views['hour'].astype(str)+'_'+views['cpm'].astype(str)\n",
    "# views.rename(columns={\"publisher\": \"publisher_count\", \"user_id\": \"user_count\"}, inplace=True)\n",
    "# views.set_index('hour_cpm', inplace=True)\n",
    "\n",
    "# views"
   ]
  },
  {
   "cell_type": "code",
   "execution_count": null,
   "metadata": {},
   "outputs": [],
   "source": [
    "# def join_col_values(col_name: str)->pd.Series:\n",
    "#     col_dict = {}\n",
    "#     val_list = []\n",
    "#     prev_row = hu_temp.loc[0, 'hour_cpm']\n",
    "\n",
    "#     for row in list(hu_temp.index):\n",
    "#         current_row = hu_temp.loc[row, 'hour_cpm']\n",
    "#         if current_row == prev_row:\n",
    "#             val_list.append(hu_temp.loc[row, col_name])\n",
    "#         else:\n",
    "#             col_dict[prev_row] = list(set(val_list))\n",
    "#             prev_row = current_row\n",
    "#             val_list = []\n",
    "#             val_list.append(hu_temp.loc[row, col_name])\n",
    "\n",
    "#     col_dict[prev_row] = list(set(val_list))\n",
    "\n",
    "#     output = pd.Series(\n",
    "#         index=col_dict.keys(),\n",
    "#         data=col_dict.values(),\n",
    "#         name=col_name\n",
    "#         ).to_frame()\n",
    "\n",
    "#     return output"
   ]
  },
  {
   "cell_type": "code",
   "execution_count": null,
   "metadata": {},
   "outputs": [],
   "source": [
    "# df_pubs = join_col_values('publisher')\n",
    "# df_pubs"
   ]
  },
  {
   "cell_type": "code",
   "execution_count": null,
   "metadata": {},
   "outputs": [],
   "source": [
    "# df_us = join_col_values('user_id')\n",
    "# df_us"
   ]
  },
  {
   "cell_type": "markdown",
   "metadata": {},
   "source": [
    "### Результат"
   ]
  },
  {
   "cell_type": "code",
   "execution_count": null,
   "metadata": {},
   "outputs": [
    {
     "data": {
      "text/html": [
       "<div>\n",
       "<style scoped>\n",
       "    .dataframe tbody tr th:only-of-type {\n",
       "        vertical-align: middle;\n",
       "    }\n",
       "\n",
       "    .dataframe tbody tr th {\n",
       "        vertical-align: top;\n",
       "    }\n",
       "\n",
       "    .dataframe thead th {\n",
       "        text-align: right;\n",
       "    }\n",
       "</style>\n",
       "<table border=\"1\" class=\"dataframe\">\n",
       "  <thead>\n",
       "    <tr style=\"text-align: right;\">\n",
       "      <th></th>\n",
       "      <th>hour</th>\n",
       "      <th>cpm</th>\n",
       "      <th>publisher</th>\n",
       "      <th>user_id</th>\n",
       "      <th>publishers_count</th>\n",
       "      <th>users_count</th>\n",
       "    </tr>\n",
       "  </thead>\n",
       "  <tbody>\n",
       "    <tr>\n",
       "      <th>0</th>\n",
       "      <td>3</td>\n",
       "      <td>30</td>\n",
       "      <td>[1, 2, 6, 7]</td>\n",
       "      <td>[8420, 6630, 15015, 19879, 8525, 8973, 3349, 2...</td>\n",
       "      <td>4</td>\n",
       "      <td>11</td>\n",
       "    </tr>\n",
       "    <tr>\n",
       "      <th>1</th>\n",
       "      <td>3</td>\n",
       "      <td>40</td>\n",
       "      <td>[1, 2]</td>\n",
       "      <td>[15619, 8935, 15015, 4558, 22967]</td>\n",
       "      <td>2</td>\n",
       "      <td>5</td>\n",
       "    </tr>\n",
       "    <tr>\n",
       "      <th>2</th>\n",
       "      <td>3</td>\n",
       "      <td>50</td>\n",
       "      <td>[1, 2, 4, 5]</td>\n",
       "      <td>[9513, 9198, 8305, 18129, 4020, 2972, 26622]</td>\n",
       "      <td>4</td>\n",
       "      <td>7</td>\n",
       "    </tr>\n",
       "    <tr>\n",
       "      <th>3</th>\n",
       "      <td>3</td>\n",
       "      <td>60</td>\n",
       "      <td>[9, 2, 5, 1]</td>\n",
       "      <td>[11176, 14508, 17326, 15312, 3858, 3540, 3349,...</td>\n",
       "      <td>4</td>\n",
       "      <td>9</td>\n",
       "    </tr>\n",
       "    <tr>\n",
       "      <th>4</th>\n",
       "      <td>3</td>\n",
       "      <td>70</td>\n",
       "      <td>[1, 2, 3]</td>\n",
       "      <td>[2597, 2928, 3858, 4127, 8765, 2911]</td>\n",
       "      <td>3</td>\n",
       "      <td>6</td>\n",
       "    </tr>\n",
       "    <tr>\n",
       "      <th>...</th>\n",
       "      <td>...</td>\n",
       "      <td>...</td>\n",
       "      <td>...</td>\n",
       "      <td>...</td>\n",
       "      <td>...</td>\n",
       "      <td>...</td>\n",
       "    </tr>\n",
       "    <tr>\n",
       "      <th>63944</th>\n",
       "      <td>1490</td>\n",
       "      <td>420</td>\n",
       "      <td>[1, 2]</td>\n",
       "      <td>[8713, 26631]</td>\n",
       "      <td>2</td>\n",
       "      <td>2</td>\n",
       "    </tr>\n",
       "    <tr>\n",
       "      <th>63945</th>\n",
       "      <td>1490</td>\n",
       "      <td>430</td>\n",
       "      <td>[1]</td>\n",
       "      <td>[19984]</td>\n",
       "      <td>1</td>\n",
       "      <td>1</td>\n",
       "    </tr>\n",
       "    <tr>\n",
       "      <th>63946</th>\n",
       "      <td>1490</td>\n",
       "      <td>440</td>\n",
       "      <td>[1]</td>\n",
       "      <td>[25059, 15150]</td>\n",
       "      <td>1</td>\n",
       "      <td>2</td>\n",
       "    </tr>\n",
       "    <tr>\n",
       "      <th>63947</th>\n",
       "      <td>1490</td>\n",
       "      <td>450</td>\n",
       "      <td>[1]</td>\n",
       "      <td>[5569, 11923, 12748]</td>\n",
       "      <td>1</td>\n",
       "      <td>3</td>\n",
       "    </tr>\n",
       "    <tr>\n",
       "      <th>63948</th>\n",
       "      <td>1490</td>\n",
       "      <td>460</td>\n",
       "      <td>[3]</td>\n",
       "      <td>[15149]</td>\n",
       "      <td>1</td>\n",
       "      <td>1</td>\n",
       "    </tr>\n",
       "  </tbody>\n",
       "</table>\n",
       "<p>63949 rows × 6 columns</p>\n",
       "</div>"
      ],
      "text/plain": [
       "       hour  cpm     publisher  \\\n",
       "0         3   30  [1, 2, 6, 7]   \n",
       "1         3   40        [1, 2]   \n",
       "2         3   50  [1, 2, 4, 5]   \n",
       "3         3   60  [9, 2, 5, 1]   \n",
       "4         3   70     [1, 2, 3]   \n",
       "...     ...  ...           ...   \n",
       "63944  1490  420        [1, 2]   \n",
       "63945  1490  430           [1]   \n",
       "63946  1490  440           [1]   \n",
       "63947  1490  450           [1]   \n",
       "63948  1490  460           [3]   \n",
       "\n",
       "                                                 user_id  publishers_count  \\\n",
       "0      [8420, 6630, 15015, 19879, 8525, 8973, 3349, 2...                 4   \n",
       "1                      [15619, 8935, 15015, 4558, 22967]                 2   \n",
       "2           [9513, 9198, 8305, 18129, 4020, 2972, 26622]                 4   \n",
       "3      [11176, 14508, 17326, 15312, 3858, 3540, 3349,...                 4   \n",
       "4                   [2597, 2928, 3858, 4127, 8765, 2911]                 3   \n",
       "...                                                  ...               ...   \n",
       "63944                                      [8713, 26631]                 2   \n",
       "63945                                            [19984]                 1   \n",
       "63946                                     [25059, 15150]                 1   \n",
       "63947                               [5569, 11923, 12748]                 1   \n",
       "63948                                            [15149]                 1   \n",
       "\n",
       "       users_count  \n",
       "0               11  \n",
       "1                5  \n",
       "2                7  \n",
       "3                9  \n",
       "4                6  \n",
       "...            ...  \n",
       "63944            2  \n",
       "63945            1  \n",
       "63946            2  \n",
       "63947            3  \n",
       "63948            1  \n",
       "\n",
       "[63949 rows x 6 columns]"
      ]
     },
     "execution_count": 559,
     "metadata": {},
     "output_type": "execute_result"
    }
   ],
   "source": [
    "hist_collapsed = pd.concat([views, df_pubs, df_us], axis=1)\n",
    "hist_collapsed['publishers_count'] = hist_collapsed['publisher'].apply(func2)\n",
    "hist_collapsed['users_count'] = hist_collapsed['user_id'].apply(func2)\n",
    "col_to_drop = ['index', 'publisher_count', 'user_count']\n",
    "hist_collapsed = hist_collapsed.reset_index().drop(col_to_drop, axis=1)\n",
    "hist_collapsed"
   ]
  },
  {
   "cell_type": "markdown",
   "metadata": {},
   "source": [
    "`hist_collapsed` аналогична `validate` и готова для предсказания, которое будет оцениваться."
   ]
  },
  {
   "cell_type": "markdown",
   "metadata": {},
   "source": [
    "Сравним распределения количества площадок и пользователей"
   ]
  },
  {
   "cell_type": "code",
   "execution_count": null,
   "metadata": {},
   "outputs": [
    {
     "ename": "NameError",
     "evalue": "name 'df_val_va' is not defined",
     "output_type": "error",
     "traceback": [
      "\u001b[0;31m---------------------------------------------------------------------------\u001b[0m",
      "\u001b[0;31mNameError\u001b[0m                                 Traceback (most recent call last)",
      "Cell \u001b[0;32mIn[1], line 1\u001b[0m\n\u001b[0;32m----> 1\u001b[0m \u001b[43mdf_val_va\u001b[49m[\u001b[38;5;124m'\u001b[39m\u001b[38;5;124mpublishers_count\u001b[39m\u001b[38;5;124m'\u001b[39m]\u001b[38;5;241m.\u001b[39mvalue_counts()\n",
      "\u001b[0;31mNameError\u001b[0m: name 'df_val_va' is not defined"
     ]
    }
   ],
   "source": [
    "df_val_va['publishers_count'].value_counts()"
   ]
  },
  {
   "cell_type": "code",
   "execution_count": null,
   "metadata": {},
   "outputs": [
    {
     "data": {
      "text/plain": [
       "publishers_count\n",
       "1     180778\n",
       "2      77147\n",
       "3      28722\n",
       "4       9849\n",
       "5       2732\n",
       "6        781\n",
       "7        423\n",
       "8        252\n",
       "9        109\n",
       "10        43\n",
       "11        13\n",
       "12         1\n",
       "Name: count, dtype: int64"
      ]
     },
     "execution_count": 541,
     "metadata": {},
     "output_type": "execute_result"
    }
   ],
   "source": [
    "# hist_collapsed['publishers_count'].value_counts()"
   ]
  },
  {
   "cell_type": "markdown",
   "metadata": {},
   "source": [
    "Выше распределение без округления `cpm` и `hour`. Ниже с округлением `cpm` до десятков."
   ]
  },
  {
   "cell_type": "code",
   "execution_count": null,
   "metadata": {},
   "outputs": [
    {
     "data": {
      "text/plain": [
       "publishers_count\n",
       "2     16916\n",
       "3     15329\n",
       "4     10714\n",
       "1      9847\n",
       "5      5345\n",
       "6      2787\n",
       "7      1571\n",
       "8       828\n",
       "9       383\n",
       "10      171\n",
       "11       45\n",
       "12       13\n",
       "Name: count, dtype: int64"
      ]
     },
     "execution_count": 560,
     "metadata": {},
     "output_type": "execute_result"
    }
   ],
   "source": [
    "hist_collapsed['publishers_count'].value_counts()"
   ]
  },
  {
   "cell_type": "code",
   "execution_count": null,
   "metadata": {},
   "outputs": [
    {
     "data": {
      "text/plain": [
       "audience_size\n",
       "1210    15\n",
       "960     14\n",
       "1232    14\n",
       "2400    11\n",
       "300     11\n",
       "        ..\n",
       "2357     1\n",
       "2080     1\n",
       "488      1\n",
       "1140     1\n",
       "2440     1\n",
       "Name: count, Length: 205, dtype: int64"
      ]
     },
     "execution_count": 564,
     "metadata": {},
     "output_type": "execute_result"
    }
   ],
   "source": [
    "df_val_va['audience_size'].value_counts()\n"
   ]
  },
  {
   "cell_type": "code",
   "execution_count": null,
   "metadata": {},
   "outputs": [
    {
     "data": {
      "text/plain": [
       "users_count\n",
       "2      5717\n",
       "3      5411\n",
       "1      5297\n",
       "4      4628\n",
       "5      3870\n",
       "       ... \n",
       "165       1\n",
       "150       1\n",
       "183       1\n",
       "139       1\n",
       "162       1\n",
       "Name: count, Length: 167, dtype: int64"
      ]
     },
     "execution_count": 566,
     "metadata": {},
     "output_type": "execute_result"
    }
   ],
   "source": [
    "hist_collapsed['users_count'].value_counts()"
   ]
  },
  {
   "cell_type": "code",
   "execution_count": null,
   "metadata": {},
   "outputs": [],
   "source": [
    "# func4 = lambda x: np.intersect1d(х, х)"
   ]
  },
  {
   "cell_type": "code",
   "execution_count": null,
   "metadata": {},
   "outputs": [],
   "source": [
    "# hu_temp_ = hu_temp.loc[:, ['hour', 'cpm']].drop_duplicates(ignore_index=True)\n",
    "# hu_temp_['hour_cpm'] = hu_temp_['hour'].astype(str)+'_'+hu_temp_['cpm'].astype(str)\n",
    "# hu_temp_.set_index('hour_cpm', inplace=True)\n",
    "# hu_temp_"
   ]
  },
  {
   "cell_type": "code",
   "execution_count": null,
   "metadata": {},
   "outputs": [],
   "source": [
    "# hu_ = hu_stacked.stack().reset_index(level=0, drop=True).index.loc(['publisher', 'user_id'])\n",
    "# hu_stacked.groupby(hu_stacked.index).apply(list).to_frame().transpose()"
   ]
  },
  {
   "cell_type": "markdown",
   "metadata": {},
   "source": [
    "### Обучим модель линейной регрессии"
   ]
  },
  {
   "cell_type": "code",
   "execution_count": null,
   "metadata": {},
   "outputs": [],
   "source": [
    "from typing import Tuple\n",
    "from sklearn.linear_model import LinearRegression, SGDRegressor, Lasso\n",
    "from sklearn.preprocessing import StandardScaler\n",
    "from sklearn.model_selection import train_test_split"
   ]
  },
  {
   "cell_type": "code",
   "execution_count": null,
   "metadata": {},
   "outputs": [],
   "source": [
    "EPS = 0.005"
   ]
  },
  {
   "cell_type": "code",
   "execution_count": null,
   "metadata": {},
   "outputs": [],
   "source": [
    "X = df_val_va.drop(['publisher_id', 'user_id', 'at_least_one', 'at_least_two', 'at_least_three'], axis=1)\n",
    "y = df_val_va[['at_least_one', 'at_least_two', 'at_least_three']]"
   ]
  },
  {
   "cell_type": "code",
   "execution_count": null,
   "metadata": {},
   "outputs": [],
   "source": [
    "scaler = StandardScaler()\n",
    "X_sc = scaler.fit_transform(X)"
   ]
  },
  {
   "cell_type": "code",
   "execution_count": null,
   "metadata": {},
   "outputs": [],
   "source": [
    "def log_mape_column_value(responses_column, answers_column, epsilon=EPS):\n",
    "    return np.abs(np.log(\n",
    "        (responses_column + epsilon) / (answers_column + epsilon)\n",
    "    )).mean()"
   ]
  },
  {
   "cell_type": "code",
   "execution_count": null,
   "metadata": {},
   "outputs": [],
   "source": [
    "def mean_log_accuracy_ratio(answers, responses, epsilon=EPS):\n",
    "    log_accuracy_ratio_mean = np.array(\n",
    "        [\n",
    "            log_mape_column_value(responses.at_least_one, answers.at_least_one, epsilon),\n",
    "            log_mape_column_value(responses.at_least_two, answers.at_least_two, epsilon),\n",
    "            log_mape_column_value(responses.at_least_three, answers.at_least_three, epsilon),\n",
    "        ]\n",
    "    ).mean()\n",
    "\n",
    "    percentage_error = 100 * (np.exp(log_accuracy_ratio_mean) - 1)\n",
    "\n",
    "    return percentage_error.round(decimals=2)"
   ]
  },
  {
   "cell_type": "code",
   "execution_count": null,
   "metadata": {},
   "outputs": [],
   "source": [
    "y_pred_data = pd.DataFrame()"
   ]
  },
  {
   "cell_type": "code",
   "execution_count": null,
   "metadata": {},
   "outputs": [],
   "source": [
    "model_lr = LinearRegression(positive=True)\n",
    "model_la = Lasso(alpha=1e-6,precompute=True,max_iter=10000,tol=1e-4,\n",
    "            positive=False, random_state=42, selection='random')\n",
    "model_sgdr = SGDRegressor(random_state=42)\n",
    "\n",
    "models = {\n",
    "    'LinearRegression': model_lr,\n",
    "    'Lasso': model_la,\n",
    "    'SGDRegression': model_sgdr\n",
    "    }"
   ]
  },
  {
   "cell_type": "code",
   "execution_count": null,
   "metadata": {},
   "outputs": [],
   "source": [
    "import warnings\n",
    "warnings.filterwarnings(\"ignore\")"
   ]
  },
  {
   "cell_type": "code",
   "execution_count": null,
   "metadata": {},
   "outputs": [
    {
     "name": "stdout",
     "output_type": "stream",
     "text": [
      "Ошибка модели LinearRegression для at_least_three на train: 376.61\n",
      "Ошибка модели Lasso для at_least_three на train: 376.48\n",
      "Ошибка модели SGDRegression для at_least_three на train: 371.9\n"
     ]
    }
   ],
   "source": [
    "# Обучим модели\n",
    "for name in list(models.keys()):\n",
    "    for i in list(y.columns):\n",
    "        X_train, X_test, y_train, y_test = train_test_split(\n",
    "            X_sc,\n",
    "            y[i],\n",
    "            test_size=0.2,\n",
    "            random_state=42\n",
    "            )\n",
    "        # .fit(X_train, y_train)\n",
    "        model_trained = models[name].fit(X_train,y_train)\n",
    "        y_pred = model_trained.predict(X_test)\n",
    "        y_pred_data[i] = y_pred\n",
    "\n",
    "    errors = mean_log_accuracy_ratio(y_pred_data, y)\n",
    "    print(f'Ошибка модели {name} для {i} на train: {(errors).mean()}', end='\\n')\n",
    "    y_pred_data[y_pred_data['at_least_two']<0]"
   ]
  }
 ],
 "metadata": {
  "kernelspec": {
   "display_name": "Python 3",
   "language": "python",
   "name": "python3"
  },
  "language_info": {
   "codemirror_mode": {
    "name": "ipython",
    "version": 3
   },
   "file_extension": ".py",
   "mimetype": "text/x-python",
   "name": "python",
   "nbconvert_exporter": "python",
   "pygments_lexer": "ipython3",
   "version": "3.10.11"
  }
 },
 "nbformat": 4,
 "nbformat_minor": 2
}
