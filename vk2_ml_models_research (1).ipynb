{
  "nbformat": 4,
  "nbformat_minor": 0,
  "metadata": {
    "colab": {
      "provenance": []
    },
    "kernelspec": {
      "name": "python3",
      "display_name": "Python 3"
    },
    "language_info": {
      "name": "python"
    }
  },
  "cells": [
    {
      "cell_type": "markdown",
      "source": [
        "# Установка необходимых зависимостей"
      ],
      "metadata": {
        "id": "soI6iz-c0-Kh"
      }
    },
    {
      "cell_type": "code",
      "source": [
        "# !pip install -r requirements.txt"
      ],
      "metadata": {
        "id": "JEB_jMuM-Vnd"
      },
      "execution_count": null,
      "outputs": []
    },
    {
      "cell_type": "markdown",
      "source": [
        "# Импорты"
      ],
      "metadata": {
        "id": "sRSiN_Vb-ajq"
      }
    },
    {
      "cell_type": "code",
      "execution_count": null,
      "metadata": {
        "id": "4nuBUmiYUyjZ"
      },
      "outputs": [],
      "source": [
        "import pandas as pd\n",
        "import numpy as np\n",
        "from tqdm import tqdm\n",
        "import optuna\n",
        "\n",
        "from sklearn.model_selection import train_test_split\n",
        "from sklearn.pipeline import Pipeline\n",
        "from sklearn.preprocessing import StandardScaler\n",
        "from sklearn.base import BaseEstimator\n",
        "\n",
        "# Clssical ML Regression Models\n",
        "from sklearn.dummy import DummyRegressor\n",
        "from sklearn.linear_model import (\n",
        "    LinearRegression,\n",
        "    Lasso,\n",
        "    Ridge,\n",
        "    ElasticNet,\n",
        "    SGDRegressor,\n",
        ")\n",
        "from sklearn.svm import SVR\n",
        "from sklearn.tree import DecisionTreeRegressor\n",
        "from sklearn.ensemble import (\n",
        "    BaggingRegressor,\n",
        "    RandomForestRegressor,\n",
        "    AdaBoostRegressor,\n",
        "    GradientBoostingRegressor\n",
        ")\n",
        "from xgboost import XGBRegressor\n",
        "from catboost import CatBoostRegressor\n",
        "\n",
        "import warnings\n",
        "warnings.filterwarnings(\"ignore\")"
      ]
    },
    {
      "cell_type": "markdown",
      "source": [
        "# Загрузка данных"
      ],
      "metadata": {
        "id": "m6HPMoxA-esI"
      }
    },
    {
      "cell_type": "code",
      "source": [
        "X = pd.read_csv(\"X.csv\", index_col=0)\n",
        "X.info()"
      ],
      "metadata": {
        "colab": {
          "base_uri": "https://localhost:8080/"
        },
        "id": "KjrY6X_uVNTW",
        "outputId": "402935cc-19d7-4b7d-b227-8580654aa212"
      },
      "execution_count": null,
      "outputs": [
        {
          "output_type": "stream",
          "name": "stdout",
          "text": [
            "<class 'pandas.core.frame.DataFrame'>\n",
            "Index: 1008 entries, 0 to 1007\n",
            "Data columns (total 7 columns):\n",
            " #   Column            Non-Null Count  Dtype  \n",
            "---  ------            --------------  -----  \n",
            " 0   cpm               1008 non-null   float64\n",
            " 1   hour_start        1008 non-null   int64  \n",
            " 2   hour_end          1008 non-null   int64  \n",
            " 3   audience_size     1008 non-null   int64  \n",
            " 4   duration          1008 non-null   int64  \n",
            " 5   publishers_count  1008 non-null   int64  \n",
            " 6   middle_hour       1008 non-null   int64  \n",
            "dtypes: float64(1), int64(6)\n",
            "memory usage: 63.0 KB\n"
          ]
        }
      ]
    },
    {
      "cell_type": "code",
      "source": [
        "X.head()"
      ],
      "metadata": {
        "colab": {
          "base_uri": "https://localhost:8080/",
          "height": 206
        },
        "id": "LCAsoAoyVhE-",
        "outputId": "e522c422-383e-47d9-c8cc-0acccf63f612"
      },
      "execution_count": null,
      "outputs": [
        {
          "output_type": "execute_result",
          "data": {
            "text/plain": [
              "     cpm  hour_start  hour_end  audience_size  duration  publishers_count  \\\n",
              "0  220.0        1058      1153           1906        95                 2   \n",
              "1  312.0        1295      1301           1380         6                 2   \n",
              "2   70.0        1229      1249            888        20                 6   \n",
              "3  240.0        1295      1377            440        82                 2   \n",
              "4  262.0         752       990           1476       238                 4   \n",
              "\n",
              "   middle_hour  \n",
              "0         1106  \n",
              "1         1298  \n",
              "2         1239  \n",
              "3         1336  \n",
              "4          871  "
            ],
            "text/html": [
              "\n",
              "  <div id=\"df-231ad09a-b5fb-4d87-9935-5316c609bd00\" class=\"colab-df-container\">\n",
              "    <div>\n",
              "<style scoped>\n",
              "    .dataframe tbody tr th:only-of-type {\n",
              "        vertical-align: middle;\n",
              "    }\n",
              "\n",
              "    .dataframe tbody tr th {\n",
              "        vertical-align: top;\n",
              "    }\n",
              "\n",
              "    .dataframe thead th {\n",
              "        text-align: right;\n",
              "    }\n",
              "</style>\n",
              "<table border=\"1\" class=\"dataframe\">\n",
              "  <thead>\n",
              "    <tr style=\"text-align: right;\">\n",
              "      <th></th>\n",
              "      <th>cpm</th>\n",
              "      <th>hour_start</th>\n",
              "      <th>hour_end</th>\n",
              "      <th>audience_size</th>\n",
              "      <th>duration</th>\n",
              "      <th>publishers_count</th>\n",
              "      <th>middle_hour</th>\n",
              "    </tr>\n",
              "  </thead>\n",
              "  <tbody>\n",
              "    <tr>\n",
              "      <th>0</th>\n",
              "      <td>220.0</td>\n",
              "      <td>1058</td>\n",
              "      <td>1153</td>\n",
              "      <td>1906</td>\n",
              "      <td>95</td>\n",
              "      <td>2</td>\n",
              "      <td>1106</td>\n",
              "    </tr>\n",
              "    <tr>\n",
              "      <th>1</th>\n",
              "      <td>312.0</td>\n",
              "      <td>1295</td>\n",
              "      <td>1301</td>\n",
              "      <td>1380</td>\n",
              "      <td>6</td>\n",
              "      <td>2</td>\n",
              "      <td>1298</td>\n",
              "    </tr>\n",
              "    <tr>\n",
              "      <th>2</th>\n",
              "      <td>70.0</td>\n",
              "      <td>1229</td>\n",
              "      <td>1249</td>\n",
              "      <td>888</td>\n",
              "      <td>20</td>\n",
              "      <td>6</td>\n",
              "      <td>1239</td>\n",
              "    </tr>\n",
              "    <tr>\n",
              "      <th>3</th>\n",
              "      <td>240.0</td>\n",
              "      <td>1295</td>\n",
              "      <td>1377</td>\n",
              "      <td>440</td>\n",
              "      <td>82</td>\n",
              "      <td>2</td>\n",
              "      <td>1336</td>\n",
              "    </tr>\n",
              "    <tr>\n",
              "      <th>4</th>\n",
              "      <td>262.0</td>\n",
              "      <td>752</td>\n",
              "      <td>990</td>\n",
              "      <td>1476</td>\n",
              "      <td>238</td>\n",
              "      <td>4</td>\n",
              "      <td>871</td>\n",
              "    </tr>\n",
              "  </tbody>\n",
              "</table>\n",
              "</div>\n",
              "    <div class=\"colab-df-buttons\">\n",
              "\n",
              "  <div class=\"colab-df-container\">\n",
              "    <button class=\"colab-df-convert\" onclick=\"convertToInteractive('df-231ad09a-b5fb-4d87-9935-5316c609bd00')\"\n",
              "            title=\"Convert this dataframe to an interactive table.\"\n",
              "            style=\"display:none;\">\n",
              "\n",
              "  <svg xmlns=\"http://www.w3.org/2000/svg\" height=\"24px\" viewBox=\"0 -960 960 960\">\n",
              "    <path d=\"M120-120v-720h720v720H120Zm60-500h600v-160H180v160Zm220 220h160v-160H400v160Zm0 220h160v-160H400v160ZM180-400h160v-160H180v160Zm440 0h160v-160H620v160ZM180-180h160v-160H180v160Zm440 0h160v-160H620v160Z\"/>\n",
              "  </svg>\n",
              "    </button>\n",
              "\n",
              "  <style>\n",
              "    .colab-df-container {\n",
              "      display:flex;\n",
              "      gap: 12px;\n",
              "    }\n",
              "\n",
              "    .colab-df-convert {\n",
              "      background-color: #E8F0FE;\n",
              "      border: none;\n",
              "      border-radius: 50%;\n",
              "      cursor: pointer;\n",
              "      display: none;\n",
              "      fill: #1967D2;\n",
              "      height: 32px;\n",
              "      padding: 0 0 0 0;\n",
              "      width: 32px;\n",
              "    }\n",
              "\n",
              "    .colab-df-convert:hover {\n",
              "      background-color: #E2EBFA;\n",
              "      box-shadow: 0px 1px 2px rgba(60, 64, 67, 0.3), 0px 1px 3px 1px rgba(60, 64, 67, 0.15);\n",
              "      fill: #174EA6;\n",
              "    }\n",
              "\n",
              "    .colab-df-buttons div {\n",
              "      margin-bottom: 4px;\n",
              "    }\n",
              "\n",
              "    [theme=dark] .colab-df-convert {\n",
              "      background-color: #3B4455;\n",
              "      fill: #D2E3FC;\n",
              "    }\n",
              "\n",
              "    [theme=dark] .colab-df-convert:hover {\n",
              "      background-color: #434B5C;\n",
              "      box-shadow: 0px 1px 3px 1px rgba(0, 0, 0, 0.15);\n",
              "      filter: drop-shadow(0px 1px 2px rgba(0, 0, 0, 0.3));\n",
              "      fill: #FFFFFF;\n",
              "    }\n",
              "  </style>\n",
              "\n",
              "    <script>\n",
              "      const buttonEl =\n",
              "        document.querySelector('#df-231ad09a-b5fb-4d87-9935-5316c609bd00 button.colab-df-convert');\n",
              "      buttonEl.style.display =\n",
              "        google.colab.kernel.accessAllowed ? 'block' : 'none';\n",
              "\n",
              "      async function convertToInteractive(key) {\n",
              "        const element = document.querySelector('#df-231ad09a-b5fb-4d87-9935-5316c609bd00');\n",
              "        const dataTable =\n",
              "          await google.colab.kernel.invokeFunction('convertToInteractive',\n",
              "                                                    [key], {});\n",
              "        if (!dataTable) return;\n",
              "\n",
              "        const docLinkHtml = 'Like what you see? Visit the ' +\n",
              "          '<a target=\"_blank\" href=https://colab.research.google.com/notebooks/data_table.ipynb>data table notebook</a>'\n",
              "          + ' to learn more about interactive tables.';\n",
              "        element.innerHTML = '';\n",
              "        dataTable['output_type'] = 'display_data';\n",
              "        await google.colab.output.renderOutput(dataTable, element);\n",
              "        const docLink = document.createElement('div');\n",
              "        docLink.innerHTML = docLinkHtml;\n",
              "        element.appendChild(docLink);\n",
              "      }\n",
              "    </script>\n",
              "  </div>\n",
              "\n",
              "\n",
              "<div id=\"df-94fa6026-3c88-4017-8788-35a05e14b869\">\n",
              "  <button class=\"colab-df-quickchart\" onclick=\"quickchart('df-94fa6026-3c88-4017-8788-35a05e14b869')\"\n",
              "            title=\"Suggest charts\"\n",
              "            style=\"display:none;\">\n",
              "\n",
              "<svg xmlns=\"http://www.w3.org/2000/svg\" height=\"24px\"viewBox=\"0 0 24 24\"\n",
              "     width=\"24px\">\n",
              "    <g>\n",
              "        <path d=\"M19 3H5c-1.1 0-2 .9-2 2v14c0 1.1.9 2 2 2h14c1.1 0 2-.9 2-2V5c0-1.1-.9-2-2-2zM9 17H7v-7h2v7zm4 0h-2V7h2v10zm4 0h-2v-4h2v4z\"/>\n",
              "    </g>\n",
              "</svg>\n",
              "  </button>\n",
              "\n",
              "<style>\n",
              "  .colab-df-quickchart {\n",
              "      --bg-color: #E8F0FE;\n",
              "      --fill-color: #1967D2;\n",
              "      --hover-bg-color: #E2EBFA;\n",
              "      --hover-fill-color: #174EA6;\n",
              "      --disabled-fill-color: #AAA;\n",
              "      --disabled-bg-color: #DDD;\n",
              "  }\n",
              "\n",
              "  [theme=dark] .colab-df-quickchart {\n",
              "      --bg-color: #3B4455;\n",
              "      --fill-color: #D2E3FC;\n",
              "      --hover-bg-color: #434B5C;\n",
              "      --hover-fill-color: #FFFFFF;\n",
              "      --disabled-bg-color: #3B4455;\n",
              "      --disabled-fill-color: #666;\n",
              "  }\n",
              "\n",
              "  .colab-df-quickchart {\n",
              "    background-color: var(--bg-color);\n",
              "    border: none;\n",
              "    border-radius: 50%;\n",
              "    cursor: pointer;\n",
              "    display: none;\n",
              "    fill: var(--fill-color);\n",
              "    height: 32px;\n",
              "    padding: 0;\n",
              "    width: 32px;\n",
              "  }\n",
              "\n",
              "  .colab-df-quickchart:hover {\n",
              "    background-color: var(--hover-bg-color);\n",
              "    box-shadow: 0 1px 2px rgba(60, 64, 67, 0.3), 0 1px 3px 1px rgba(60, 64, 67, 0.15);\n",
              "    fill: var(--button-hover-fill-color);\n",
              "  }\n",
              "\n",
              "  .colab-df-quickchart-complete:disabled,\n",
              "  .colab-df-quickchart-complete:disabled:hover {\n",
              "    background-color: var(--disabled-bg-color);\n",
              "    fill: var(--disabled-fill-color);\n",
              "    box-shadow: none;\n",
              "  }\n",
              "\n",
              "  .colab-df-spinner {\n",
              "    border: 2px solid var(--fill-color);\n",
              "    border-color: transparent;\n",
              "    border-bottom-color: var(--fill-color);\n",
              "    animation:\n",
              "      spin 1s steps(1) infinite;\n",
              "  }\n",
              "\n",
              "  @keyframes spin {\n",
              "    0% {\n",
              "      border-color: transparent;\n",
              "      border-bottom-color: var(--fill-color);\n",
              "      border-left-color: var(--fill-color);\n",
              "    }\n",
              "    20% {\n",
              "      border-color: transparent;\n",
              "      border-left-color: var(--fill-color);\n",
              "      border-top-color: var(--fill-color);\n",
              "    }\n",
              "    30% {\n",
              "      border-color: transparent;\n",
              "      border-left-color: var(--fill-color);\n",
              "      border-top-color: var(--fill-color);\n",
              "      border-right-color: var(--fill-color);\n",
              "    }\n",
              "    40% {\n",
              "      border-color: transparent;\n",
              "      border-right-color: var(--fill-color);\n",
              "      border-top-color: var(--fill-color);\n",
              "    }\n",
              "    60% {\n",
              "      border-color: transparent;\n",
              "      border-right-color: var(--fill-color);\n",
              "    }\n",
              "    80% {\n",
              "      border-color: transparent;\n",
              "      border-right-color: var(--fill-color);\n",
              "      border-bottom-color: var(--fill-color);\n",
              "    }\n",
              "    90% {\n",
              "      border-color: transparent;\n",
              "      border-bottom-color: var(--fill-color);\n",
              "    }\n",
              "  }\n",
              "</style>\n",
              "\n",
              "  <script>\n",
              "    async function quickchart(key) {\n",
              "      const quickchartButtonEl =\n",
              "        document.querySelector('#' + key + ' button');\n",
              "      quickchartButtonEl.disabled = true;  // To prevent multiple clicks.\n",
              "      quickchartButtonEl.classList.add('colab-df-spinner');\n",
              "      try {\n",
              "        const charts = await google.colab.kernel.invokeFunction(\n",
              "            'suggestCharts', [key], {});\n",
              "      } catch (error) {\n",
              "        console.error('Error during call to suggestCharts:', error);\n",
              "      }\n",
              "      quickchartButtonEl.classList.remove('colab-df-spinner');\n",
              "      quickchartButtonEl.classList.add('colab-df-quickchart-complete');\n",
              "    }\n",
              "    (() => {\n",
              "      let quickchartButtonEl =\n",
              "        document.querySelector('#df-94fa6026-3c88-4017-8788-35a05e14b869 button');\n",
              "      quickchartButtonEl.style.display =\n",
              "        google.colab.kernel.accessAllowed ? 'block' : 'none';\n",
              "    })();\n",
              "  </script>\n",
              "</div>\n",
              "    </div>\n",
              "  </div>\n"
            ],
            "application/vnd.google.colaboratory.intrinsic+json": {
              "type": "dataframe",
              "variable_name": "X",
              "summary": "{\n  \"name\": \"X\",\n  \"rows\": 1008,\n  \"fields\": [\n    {\n      \"column\": \"cpm\",\n      \"properties\": {\n        \"dtype\": \"number\",\n        \"std\": 112.19298356277824,\n        \"min\": 30.0,\n        \"max\": 475.0,\n        \"num_unique_values\": 253,\n        \"samples\": [\n          272.0,\n          250.0,\n          268.0\n        ],\n        \"semantic_type\": \"\",\n        \"description\": \"\"\n      }\n    },\n    {\n      \"column\": \"hour_start\",\n      \"properties\": {\n        \"dtype\": \"number\",\n        \"std\": 192,\n        \"min\": 747,\n        \"max\": 1485,\n        \"num_unique_values\": 538,\n        \"samples\": [\n          876,\n          932,\n          1039\n        ],\n        \"semantic_type\": \"\",\n        \"description\": \"\"\n      }\n    },\n    {\n      \"column\": \"hour_end\",\n      \"properties\": {\n        \"dtype\": \"number\",\n        \"std\": 192,\n        \"min\": 753,\n        \"max\": 1488,\n        \"num_unique_values\": 544,\n        \"samples\": [\n          914,\n          972,\n          944\n        ],\n        \"semantic_type\": \"\",\n        \"description\": \"\"\n      }\n    },\n    {\n      \"column\": \"audience_size\",\n      \"properties\": {\n        \"dtype\": \"number\",\n        \"std\": 613,\n        \"min\": 300,\n        \"max\": 2500,\n        \"num_unique_values\": 205,\n        \"samples\": [\n          1020,\n          972,\n          432\n        ],\n        \"semantic_type\": \"\",\n        \"description\": \"\"\n      }\n    },\n    {\n      \"column\": \"duration\",\n      \"properties\": {\n        \"dtype\": \"number\",\n        \"std\": 126,\n        \"min\": 2,\n        \"max\": 503,\n        \"num_unique_values\": 297,\n        \"samples\": [\n          113,\n          330,\n          12\n        ],\n        \"semantic_type\": \"\",\n        \"description\": \"\"\n      }\n    },\n    {\n      \"column\": \"publishers_count\",\n      \"properties\": {\n        \"dtype\": \"number\",\n        \"std\": 1,\n        \"min\": 1,\n        \"max\": 6,\n        \"num_unique_values\": 6,\n        \"samples\": [\n          2,\n          6,\n          1\n        ],\n        \"semantic_type\": \"\",\n        \"description\": \"\"\n      }\n    },\n    {\n      \"column\": \"middle_hour\",\n      \"properties\": {\n        \"dtype\": \"number\",\n        \"std\": 181,\n        \"min\": 752,\n        \"max\": 1486,\n        \"num_unique_values\": 495,\n        \"samples\": [\n          995,\n          904,\n          770\n        ],\n        \"semantic_type\": \"\",\n        \"description\": \"\"\n      }\n    }\n  ]\n}"
            }
          },
          "metadata": {},
          "execution_count": 4
        }
      ]
    },
    {
      "cell_type": "code",
      "source": [
        "y = pd.read_csv(\"y.csv\", index_col=0)\n",
        "y.info()"
      ],
      "metadata": {
        "colab": {
          "base_uri": "https://localhost:8080/"
        },
        "id": "p-5kmmSbVcGe",
        "outputId": "ee58b873-79b1-478e-85f3-c78804821978"
      },
      "execution_count": null,
      "outputs": [
        {
          "output_type": "stream",
          "name": "stdout",
          "text": [
            "<class 'pandas.core.frame.DataFrame'>\n",
            "Index: 1008 entries, 0 to 1007\n",
            "Data columns (total 3 columns):\n",
            " #   Column          Non-Null Count  Dtype  \n",
            "---  ------          --------------  -----  \n",
            " 0   at_least_one    1008 non-null   float64\n",
            " 1   at_least_two    1008 non-null   float64\n",
            " 2   at_least_three  1008 non-null   float64\n",
            "dtypes: float64(3)\n",
            "memory usage: 31.5 KB\n"
          ]
        }
      ]
    },
    {
      "cell_type": "code",
      "source": [
        "y.head()"
      ],
      "metadata": {
        "colab": {
          "base_uri": "https://localhost:8080/",
          "height": 206
        },
        "id": "6I-pltD1VvBv",
        "outputId": "4d624a62-82de-4c8d-df28-7ea9753098a0"
      },
      "execution_count": null,
      "outputs": [
        {
          "output_type": "execute_result",
          "data": {
            "text/plain": [
              "   at_least_one  at_least_two  at_least_three\n",
              "0        0.0430        0.0152          0.0073\n",
              "1        0.0130        0.0000          0.0000\n",
              "2        0.0878        0.0135          0.0000\n",
              "3        0.2295        0.1295          0.0727\n",
              "4        0.3963        0.2785          0.2270"
            ],
            "text/html": [
              "\n",
              "  <div id=\"df-d3d7eeed-3024-4f42-9c76-7ca672559631\" class=\"colab-df-container\">\n",
              "    <div>\n",
              "<style scoped>\n",
              "    .dataframe tbody tr th:only-of-type {\n",
              "        vertical-align: middle;\n",
              "    }\n",
              "\n",
              "    .dataframe tbody tr th {\n",
              "        vertical-align: top;\n",
              "    }\n",
              "\n",
              "    .dataframe thead th {\n",
              "        text-align: right;\n",
              "    }\n",
              "</style>\n",
              "<table border=\"1\" class=\"dataframe\">\n",
              "  <thead>\n",
              "    <tr style=\"text-align: right;\">\n",
              "      <th></th>\n",
              "      <th>at_least_one</th>\n",
              "      <th>at_least_two</th>\n",
              "      <th>at_least_three</th>\n",
              "    </tr>\n",
              "  </thead>\n",
              "  <tbody>\n",
              "    <tr>\n",
              "      <th>0</th>\n",
              "      <td>0.0430</td>\n",
              "      <td>0.0152</td>\n",
              "      <td>0.0073</td>\n",
              "    </tr>\n",
              "    <tr>\n",
              "      <th>1</th>\n",
              "      <td>0.0130</td>\n",
              "      <td>0.0000</td>\n",
              "      <td>0.0000</td>\n",
              "    </tr>\n",
              "    <tr>\n",
              "      <th>2</th>\n",
              "      <td>0.0878</td>\n",
              "      <td>0.0135</td>\n",
              "      <td>0.0000</td>\n",
              "    </tr>\n",
              "    <tr>\n",
              "      <th>3</th>\n",
              "      <td>0.2295</td>\n",
              "      <td>0.1295</td>\n",
              "      <td>0.0727</td>\n",
              "    </tr>\n",
              "    <tr>\n",
              "      <th>4</th>\n",
              "      <td>0.3963</td>\n",
              "      <td>0.2785</td>\n",
              "      <td>0.2270</td>\n",
              "    </tr>\n",
              "  </tbody>\n",
              "</table>\n",
              "</div>\n",
              "    <div class=\"colab-df-buttons\">\n",
              "\n",
              "  <div class=\"colab-df-container\">\n",
              "    <button class=\"colab-df-convert\" onclick=\"convertToInteractive('df-d3d7eeed-3024-4f42-9c76-7ca672559631')\"\n",
              "            title=\"Convert this dataframe to an interactive table.\"\n",
              "            style=\"display:none;\">\n",
              "\n",
              "  <svg xmlns=\"http://www.w3.org/2000/svg\" height=\"24px\" viewBox=\"0 -960 960 960\">\n",
              "    <path d=\"M120-120v-720h720v720H120Zm60-500h600v-160H180v160Zm220 220h160v-160H400v160Zm0 220h160v-160H400v160ZM180-400h160v-160H180v160Zm440 0h160v-160H620v160ZM180-180h160v-160H180v160Zm440 0h160v-160H620v160Z\"/>\n",
              "  </svg>\n",
              "    </button>\n",
              "\n",
              "  <style>\n",
              "    .colab-df-container {\n",
              "      display:flex;\n",
              "      gap: 12px;\n",
              "    }\n",
              "\n",
              "    .colab-df-convert {\n",
              "      background-color: #E8F0FE;\n",
              "      border: none;\n",
              "      border-radius: 50%;\n",
              "      cursor: pointer;\n",
              "      display: none;\n",
              "      fill: #1967D2;\n",
              "      height: 32px;\n",
              "      padding: 0 0 0 0;\n",
              "      width: 32px;\n",
              "    }\n",
              "\n",
              "    .colab-df-convert:hover {\n",
              "      background-color: #E2EBFA;\n",
              "      box-shadow: 0px 1px 2px rgba(60, 64, 67, 0.3), 0px 1px 3px 1px rgba(60, 64, 67, 0.15);\n",
              "      fill: #174EA6;\n",
              "    }\n",
              "\n",
              "    .colab-df-buttons div {\n",
              "      margin-bottom: 4px;\n",
              "    }\n",
              "\n",
              "    [theme=dark] .colab-df-convert {\n",
              "      background-color: #3B4455;\n",
              "      fill: #D2E3FC;\n",
              "    }\n",
              "\n",
              "    [theme=dark] .colab-df-convert:hover {\n",
              "      background-color: #434B5C;\n",
              "      box-shadow: 0px 1px 3px 1px rgba(0, 0, 0, 0.15);\n",
              "      filter: drop-shadow(0px 1px 2px rgba(0, 0, 0, 0.3));\n",
              "      fill: #FFFFFF;\n",
              "    }\n",
              "  </style>\n",
              "\n",
              "    <script>\n",
              "      const buttonEl =\n",
              "        document.querySelector('#df-d3d7eeed-3024-4f42-9c76-7ca672559631 button.colab-df-convert');\n",
              "      buttonEl.style.display =\n",
              "        google.colab.kernel.accessAllowed ? 'block' : 'none';\n",
              "\n",
              "      async function convertToInteractive(key) {\n",
              "        const element = document.querySelector('#df-d3d7eeed-3024-4f42-9c76-7ca672559631');\n",
              "        const dataTable =\n",
              "          await google.colab.kernel.invokeFunction('convertToInteractive',\n",
              "                                                    [key], {});\n",
              "        if (!dataTable) return;\n",
              "\n",
              "        const docLinkHtml = 'Like what you see? Visit the ' +\n",
              "          '<a target=\"_blank\" href=https://colab.research.google.com/notebooks/data_table.ipynb>data table notebook</a>'\n",
              "          + ' to learn more about interactive tables.';\n",
              "        element.innerHTML = '';\n",
              "        dataTable['output_type'] = 'display_data';\n",
              "        await google.colab.output.renderOutput(dataTable, element);\n",
              "        const docLink = document.createElement('div');\n",
              "        docLink.innerHTML = docLinkHtml;\n",
              "        element.appendChild(docLink);\n",
              "      }\n",
              "    </script>\n",
              "  </div>\n",
              "\n",
              "\n",
              "<div id=\"df-d36bbb2e-c07a-44f1-a66b-5b8fb11cc647\">\n",
              "  <button class=\"colab-df-quickchart\" onclick=\"quickchart('df-d36bbb2e-c07a-44f1-a66b-5b8fb11cc647')\"\n",
              "            title=\"Suggest charts\"\n",
              "            style=\"display:none;\">\n",
              "\n",
              "<svg xmlns=\"http://www.w3.org/2000/svg\" height=\"24px\"viewBox=\"0 0 24 24\"\n",
              "     width=\"24px\">\n",
              "    <g>\n",
              "        <path d=\"M19 3H5c-1.1 0-2 .9-2 2v14c0 1.1.9 2 2 2h14c1.1 0 2-.9 2-2V5c0-1.1-.9-2-2-2zM9 17H7v-7h2v7zm4 0h-2V7h2v10zm4 0h-2v-4h2v4z\"/>\n",
              "    </g>\n",
              "</svg>\n",
              "  </button>\n",
              "\n",
              "<style>\n",
              "  .colab-df-quickchart {\n",
              "      --bg-color: #E8F0FE;\n",
              "      --fill-color: #1967D2;\n",
              "      --hover-bg-color: #E2EBFA;\n",
              "      --hover-fill-color: #174EA6;\n",
              "      --disabled-fill-color: #AAA;\n",
              "      --disabled-bg-color: #DDD;\n",
              "  }\n",
              "\n",
              "  [theme=dark] .colab-df-quickchart {\n",
              "      --bg-color: #3B4455;\n",
              "      --fill-color: #D2E3FC;\n",
              "      --hover-bg-color: #434B5C;\n",
              "      --hover-fill-color: #FFFFFF;\n",
              "      --disabled-bg-color: #3B4455;\n",
              "      --disabled-fill-color: #666;\n",
              "  }\n",
              "\n",
              "  .colab-df-quickchart {\n",
              "    background-color: var(--bg-color);\n",
              "    border: none;\n",
              "    border-radius: 50%;\n",
              "    cursor: pointer;\n",
              "    display: none;\n",
              "    fill: var(--fill-color);\n",
              "    height: 32px;\n",
              "    padding: 0;\n",
              "    width: 32px;\n",
              "  }\n",
              "\n",
              "  .colab-df-quickchart:hover {\n",
              "    background-color: var(--hover-bg-color);\n",
              "    box-shadow: 0 1px 2px rgba(60, 64, 67, 0.3), 0 1px 3px 1px rgba(60, 64, 67, 0.15);\n",
              "    fill: var(--button-hover-fill-color);\n",
              "  }\n",
              "\n",
              "  .colab-df-quickchart-complete:disabled,\n",
              "  .colab-df-quickchart-complete:disabled:hover {\n",
              "    background-color: var(--disabled-bg-color);\n",
              "    fill: var(--disabled-fill-color);\n",
              "    box-shadow: none;\n",
              "  }\n",
              "\n",
              "  .colab-df-spinner {\n",
              "    border: 2px solid var(--fill-color);\n",
              "    border-color: transparent;\n",
              "    border-bottom-color: var(--fill-color);\n",
              "    animation:\n",
              "      spin 1s steps(1) infinite;\n",
              "  }\n",
              "\n",
              "  @keyframes spin {\n",
              "    0% {\n",
              "      border-color: transparent;\n",
              "      border-bottom-color: var(--fill-color);\n",
              "      border-left-color: var(--fill-color);\n",
              "    }\n",
              "    20% {\n",
              "      border-color: transparent;\n",
              "      border-left-color: var(--fill-color);\n",
              "      border-top-color: var(--fill-color);\n",
              "    }\n",
              "    30% {\n",
              "      border-color: transparent;\n",
              "      border-left-color: var(--fill-color);\n",
              "      border-top-color: var(--fill-color);\n",
              "      border-right-color: var(--fill-color);\n",
              "    }\n",
              "    40% {\n",
              "      border-color: transparent;\n",
              "      border-right-color: var(--fill-color);\n",
              "      border-top-color: var(--fill-color);\n",
              "    }\n",
              "    60% {\n",
              "      border-color: transparent;\n",
              "      border-right-color: var(--fill-color);\n",
              "    }\n",
              "    80% {\n",
              "      border-color: transparent;\n",
              "      border-right-color: var(--fill-color);\n",
              "      border-bottom-color: var(--fill-color);\n",
              "    }\n",
              "    90% {\n",
              "      border-color: transparent;\n",
              "      border-bottom-color: var(--fill-color);\n",
              "    }\n",
              "  }\n",
              "</style>\n",
              "\n",
              "  <script>\n",
              "    async function quickchart(key) {\n",
              "      const quickchartButtonEl =\n",
              "        document.querySelector('#' + key + ' button');\n",
              "      quickchartButtonEl.disabled = true;  // To prevent multiple clicks.\n",
              "      quickchartButtonEl.classList.add('colab-df-spinner');\n",
              "      try {\n",
              "        const charts = await google.colab.kernel.invokeFunction(\n",
              "            'suggestCharts', [key], {});\n",
              "      } catch (error) {\n",
              "        console.error('Error during call to suggestCharts:', error);\n",
              "      }\n",
              "      quickchartButtonEl.classList.remove('colab-df-spinner');\n",
              "      quickchartButtonEl.classList.add('colab-df-quickchart-complete');\n",
              "    }\n",
              "    (() => {\n",
              "      let quickchartButtonEl =\n",
              "        document.querySelector('#df-d36bbb2e-c07a-44f1-a66b-5b8fb11cc647 button');\n",
              "      quickchartButtonEl.style.display =\n",
              "        google.colab.kernel.accessAllowed ? 'block' : 'none';\n",
              "    })();\n",
              "  </script>\n",
              "</div>\n",
              "    </div>\n",
              "  </div>\n"
            ],
            "application/vnd.google.colaboratory.intrinsic+json": {
              "type": "dataframe",
              "variable_name": "y",
              "summary": "{\n  \"name\": \"y\",\n  \"rows\": 1008,\n  \"fields\": [\n    {\n      \"column\": \"at_least_one\",\n      \"properties\": {\n        \"dtype\": \"number\",\n        \"std\": 0.14614643920169684,\n        \"min\": 0.0,\n        \"max\": 0.9307,\n        \"num_unique_values\": 755,\n        \"samples\": [\n          0.0451,\n          0.1394,\n          0.0546\n        ],\n        \"semantic_type\": \"\",\n        \"description\": \"\"\n      }\n    },\n    {\n      \"column\": \"at_least_two\",\n      \"properties\": {\n        \"dtype\": \"number\",\n        \"std\": 0.11781225800493376,\n        \"min\": 0.0,\n        \"max\": 0.9097,\n        \"num_unique_values\": 521,\n        \"samples\": [\n          0.0851,\n          0.0295,\n          0.2917\n        ],\n        \"semantic_type\": \"\",\n        \"description\": \"\"\n      }\n    },\n    {\n      \"column\": \"at_least_three\",\n      \"properties\": {\n        \"dtype\": \"number\",\n        \"std\": 0.09902919035986087,\n        \"min\": 0.0,\n        \"max\": 0.8834,\n        \"num_unique_values\": 424,\n        \"samples\": [\n          0.1163,\n          0.0172,\n          0.004\n        ],\n        \"semantic_type\": \"\",\n        \"description\": \"\"\n      }\n    }\n  ]\n}"
            }
          },
          "metadata": {},
          "execution_count": 6
        }
      ]
    },
    {
      "cell_type": "markdown",
      "source": [
        "# Разбиение выборки и стандаризация"
      ],
      "metadata": {
        "id": "ECEjPEGj-jF5"
      }
    },
    {
      "cell_type": "code",
      "source": [
        "X_train, X_test, y_train, y_test = train_test_split(X, y, test_size=0.2)\n",
        "X_train.shape, X_test.shape, y_train.shape, y_test.shape"
      ],
      "metadata": {
        "colab": {
          "base_uri": "https://localhost:8080/"
        },
        "id": "2ro4uGUqV4hY",
        "outputId": "67ccbe57-bd7a-43b0-9d50-5bb1042da41c"
      },
      "execution_count": null,
      "outputs": [
        {
          "output_type": "execute_result",
          "data": {
            "text/plain": [
              "((806, 7), (202, 7), (806, 3), (202, 3))"
            ]
          },
          "metadata": {},
          "execution_count": 8
        }
      ]
    },
    {
      "cell_type": "code",
      "source": [
        "scaler = StandardScaler()\n",
        "X_train_scaled = scaler.fit_transform(X_train)\n",
        "X_test_scaled = scaler.transform(X_test)"
      ],
      "metadata": {
        "id": "Vp7t6GW6cxSY"
      },
      "execution_count": null,
      "outputs": []
    },
    {
      "cell_type": "code",
      "source": [
        "train_data = (X_train_scaled, y_train)\n",
        "test_data = (X_test_scaled, y_test)"
      ],
      "metadata": {
        "id": "VYKua2CfhLv3"
      },
      "execution_count": null,
      "outputs": []
    },
    {
      "cell_type": "markdown",
      "source": [
        "# Целевая метрика заказчика"
      ],
      "metadata": {
        "id": "egeEnNgA_96k"
      }
    },
    {
      "cell_type": "code",
      "source": [
        "EPS = 0.005\n",
        "\n",
        "def log_mape_column_value(responses_column, answers_column, epsilon=EPS):\n",
        "    return np.abs(np.log(\n",
        "        (responses_column + epsilon) / (answers_column + epsilon)\n",
        "    )).mean()\n",
        "\n",
        "def mean_log_accuracy_ratio(answers, responses, epsilon=EPS):\n",
        "    log_accuracy_ratio_mean = np.array(\n",
        "        [\n",
        "            log_mape_column_value(responses.at_least_one, answers.at_least_one, epsilon),\n",
        "            log_mape_column_value(responses.at_least_two, answers.at_least_two, epsilon),\n",
        "            log_mape_column_value(responses.at_least_three, answers.at_least_three, epsilon),\n",
        "        ]\n",
        "    ).mean()\n",
        "\n",
        "    percentage_error = 100 * (np.exp(log_accuracy_ratio_mean) - 1)\n",
        "\n",
        "    return percentage_error.round(decimals=2)"
      ],
      "metadata": {
        "id": "9uGnN0nebVbm"
      },
      "execution_count": null,
      "outputs": []
    },
    {
      "cell_type": "markdown",
      "source": [
        "# Скрипты автоматизации эксперементальной апробации моделей"
      ],
      "metadata": {
        "id": "b40XLTcnAC9z"
      }
    },
    {
      "cell_type": "code",
      "source": [
        "def try_model_on_sample(\n",
        "    model_class: BaseEstimator,\n",
        "    train_data: tuple[pd.DataFrame],\n",
        "    test_data: tuple[pd.DataFrame],\n",
        "    **model_params\n",
        ") -> float:\n",
        "\n",
        "    y_pred = test_data[1].copy()\n",
        "\n",
        "    for i in range(3):\n",
        "        model = model_class(**model_params)\n",
        "        model.fit(train_data[0], train_data[1].iloc[:, i])\n",
        "        pred = model.predict(test_data[0])\n",
        "        y_pred.iloc[:, i] = pred\n",
        "\n",
        "    return mean_log_accuracy_ratio(y_pred, test_data[1])\n",
        "\n",
        "\n",
        "def try_model(\n",
        "    model_class: BaseEstimator,\n",
        "    X: pd.DataFrame,\n",
        "    y: pd.DataFrame,\n",
        "    n_times: int=5,\n",
        "    **model_params\n",
        ") -> float:\n",
        "\n",
        "    results = np.zeros(n_times)\n",
        "\n",
        "    for i in range(n_times):\n",
        "        X_train, X_test, y_train, y_test = train_test_split(\n",
        "            X, y,\n",
        "            test_size=0.2\n",
        "        )\n",
        "\n",
        "        scaler = StandardScaler()\n",
        "        X_train_scaled = scaler.fit_transform(X_train)\n",
        "        X_test_scaled = scaler.transform(X_test)\n",
        "\n",
        "        train_data = (X_train_scaled, y_train)\n",
        "        test_data = (X_test_scaled, y_test)\n",
        "\n",
        "        results[i] = try_model_on_sample(\n",
        "            model_class,\n",
        "            train_data,\n",
        "            test_data,\n",
        "            **model_params\n",
        "        )\n",
        "\n",
        "    return results.mean()"
      ],
      "metadata": {
        "id": "QMfdorMPdgPO"
      },
      "execution_count": null,
      "outputs": []
    },
    {
      "cell_type": "code",
      "source": [
        "# Пустой pd.Series для сохранения результатов\n",
        "model_results = pd.Series()"
      ],
      "metadata": {
        "id": "w2QpgEkir6oO"
      },
      "execution_count": null,
      "outputs": []
    },
    {
      "cell_type": "markdown",
      "source": [
        "# Случайное предсказание"
      ],
      "metadata": {
        "id": "xBecLsaAcod0"
      }
    },
    {
      "cell_type": "code",
      "source": [
        "dummy_result = try_model(\n",
        "    DummyRegressor, X, y\n",
        ")\n",
        "\n",
        "model_results[\"dummy\"] = dummy_result\n",
        "dummy_result"
      ],
      "metadata": {
        "colab": {
          "base_uri": "https://localhost:8080/"
        },
        "id": "TREuuQUHct2L",
        "outputId": "a1294e7a-e766-4dba-d770-e9740e6d158b"
      },
      "execution_count": null,
      "outputs": [
        {
          "output_type": "execute_result",
          "data": {
            "text/plain": [
              "375.37800000000004"
            ]
          },
          "metadata": {},
          "execution_count": 14
        }
      ]
    },
    {
      "cell_type": "markdown",
      "source": [
        "# Линейные модели"
      ],
      "metadata": {
        "id": "QPwNNyuHbIQs"
      }
    },
    {
      "cell_type": "code",
      "source": [
        "linear_regression_result = try_model(\n",
        "    LinearRegression, X, y\n",
        ")\n",
        "\n",
        "model_results[\"linear_regression\"] = linear_regression_result\n",
        "linear_regression_result"
      ],
      "metadata": {
        "colab": {
          "base_uri": "https://localhost:8080/"
        },
        "id": "cH2ahiAJbLg1",
        "outputId": "ecadf57e-171d-4b65-edbf-1f36c033e5a5"
      },
      "execution_count": null,
      "outputs": [
        {
          "output_type": "execute_result",
          "data": {
            "text/plain": [
              "184.33800000000002"
            ]
          },
          "metadata": {},
          "execution_count": 15
        }
      ]
    },
    {
      "cell_type": "code",
      "source": [
        "lasso_regression_result = try_model(\n",
        "    Lasso, X, y\n",
        ")\n",
        "\n",
        "model_results[\"lasso\"] = lasso_regression_result\n",
        "lasso_regression_result"
      ],
      "metadata": {
        "colab": {
          "base_uri": "https://localhost:8080/"
        },
        "id": "dZd16ky9nAiS",
        "outputId": "ee227655-0992-4280-904a-da5f7652da69"
      },
      "execution_count": null,
      "outputs": [
        {
          "output_type": "execute_result",
          "data": {
            "text/plain": [
              "345.53600000000006"
            ]
          },
          "metadata": {},
          "execution_count": 16
        }
      ]
    },
    {
      "cell_type": "code",
      "source": [
        "ridge_regression_result = try_model(\n",
        "    Ridge, X, y\n",
        ")\n",
        "\n",
        "model_results[\"ridge\"] = ridge_regression_result\n",
        "ridge_regression_result"
      ],
      "metadata": {
        "colab": {
          "base_uri": "https://localhost:8080/"
        },
        "id": "IY-VXpT1nILx",
        "outputId": "3e333f9a-ddf6-4d42-b5a1-6ccede31f6ea"
      },
      "execution_count": null,
      "outputs": [
        {
          "output_type": "execute_result",
          "data": {
            "text/plain": [
              "188.53"
            ]
          },
          "metadata": {},
          "execution_count": 17
        }
      ]
    },
    {
      "cell_type": "code",
      "source": [
        "elastic_net_regression_result = try_model(\n",
        "    ElasticNet, X, y\n",
        ")\n",
        "\n",
        "model_results[\"elastic_net\"] = elastic_net_regression_result\n",
        "elastic_net_regression_result"
      ],
      "metadata": {
        "colab": {
          "base_uri": "https://localhost:8080/"
        },
        "id": "T2tbLfS6nRke",
        "outputId": "0abf15bb-1a6f-4451-e847-544bdb6209cd"
      },
      "execution_count": null,
      "outputs": [
        {
          "output_type": "execute_result",
          "data": {
            "text/plain": [
              "357.204"
            ]
          },
          "metadata": {},
          "execution_count": 18
        }
      ]
    },
    {
      "cell_type": "code",
      "source": [
        "sgd_regression_result = try_model(\n",
        "    SGDRegressor, X, y\n",
        ")\n",
        "\n",
        "model_results[\"sgd\"] = sgd_regression_result\n",
        "sgd_regression_result"
      ],
      "metadata": {
        "colab": {
          "base_uri": "https://localhost:8080/"
        },
        "id": "oNTKdU5onf8b",
        "outputId": "b653c82b-02f8-4a4c-f77a-600bc1a1f348"
      },
      "execution_count": null,
      "outputs": [
        {
          "output_type": "execute_result",
          "data": {
            "text/plain": [
              "187.506"
            ]
          },
          "metadata": {},
          "execution_count": 19
        }
      ]
    },
    {
      "cell_type": "markdown",
      "source": [
        "# Метод опорных веторов"
      ],
      "metadata": {
        "id": "qwFFm6fknxLb"
      }
    },
    {
      "cell_type": "code",
      "source": [
        "svr_regression_result = try_model(\n",
        "    SVR, X, y\n",
        ")\n",
        "\n",
        "model_results[\"svm\"] = svr_regression_result\n",
        "svr_regression_result"
      ],
      "metadata": {
        "colab": {
          "base_uri": "https://localhost:8080/"
        },
        "id": "cW46IxgFnqV-",
        "outputId": "c9146fd0-6e5b-48ab-8af0-b4a55cfb0583"
      },
      "execution_count": null,
      "outputs": [
        {
          "output_type": "execute_result",
          "data": {
            "text/plain": [
              "327.18600000000004"
            ]
          },
          "metadata": {},
          "execution_count": 20
        }
      ]
    },
    {
      "cell_type": "markdown",
      "source": [
        "# Дерево решений"
      ],
      "metadata": {
        "id": "J22vKRYhoCu3"
      }
    },
    {
      "cell_type": "code",
      "source": [
        "tree_regression_result = try_model(\n",
        "    DecisionTreeRegressor, X, y\n",
        ")\n",
        "\n",
        "model_results[\"tree\"] = tree_regression_result\n",
        "tree_regression_result"
      ],
      "metadata": {
        "colab": {
          "base_uri": "https://localhost:8080/"
        },
        "id": "S59S_WKsoAci",
        "outputId": "763b1a35-9c2a-4811-856a-c43ff84972c1"
      },
      "execution_count": null,
      "outputs": [
        {
          "output_type": "execute_result",
          "data": {
            "text/plain": [
              "132.552"
            ]
          },
          "metadata": {},
          "execution_count": 21
        }
      ]
    },
    {
      "cell_type": "markdown",
      "source": [
        "# Ансаблевые беггинговые методы"
      ],
      "metadata": {
        "id": "f435dmfMp9t3"
      }
    },
    {
      "cell_type": "code",
      "source": [
        "bagging_regression_result = try_model(\n",
        "    BaggingRegressor, X, y\n",
        ")\n",
        "\n",
        "model_results[\"bagging\"] = bagging_regression_result\n",
        "bagging_regression_result"
      ],
      "metadata": {
        "colab": {
          "base_uri": "https://localhost:8080/"
        },
        "id": "cMfcQAYwoQ9c",
        "outputId": "67190ecf-53b0-4e0e-8065-160c6a26f754"
      },
      "execution_count": null,
      "outputs": [
        {
          "output_type": "execute_result",
          "data": {
            "text/plain": [
              "100.298"
            ]
          },
          "metadata": {},
          "execution_count": 22
        }
      ]
    },
    {
      "cell_type": "code",
      "source": [
        "random_forest_regression_result = try_model(\n",
        "    RandomForestRegressor, X, y\n",
        ")\n",
        "\n",
        "model_results[\"random_forest\"] = random_forest_regression_result\n",
        "random_forest_regression_result"
      ],
      "metadata": {
        "colab": {
          "base_uri": "https://localhost:8080/"
        },
        "id": "y1sSKX27qTPI",
        "outputId": "3dd4e325-529c-4ee3-d405-64bde9a0307a"
      },
      "execution_count": null,
      "outputs": [
        {
          "output_type": "execute_result",
          "data": {
            "text/plain": [
              "99.232"
            ]
          },
          "metadata": {},
          "execution_count": 23
        }
      ]
    },
    {
      "cell_type": "markdown",
      "source": [
        "# Ансаблевые бустинговые методы"
      ],
      "metadata": {
        "id": "PQ8cyQGGqqEp"
      }
    },
    {
      "cell_type": "code",
      "source": [
        "ada_boost_regression_result = try_model(\n",
        "    AdaBoostRegressor, X, y\n",
        ")\n",
        "\n",
        "model_results[\"ada_boost\"] = ada_boost_regression_result\n",
        "ada_boost_regression_result"
      ],
      "metadata": {
        "colab": {
          "base_uri": "https://localhost:8080/"
        },
        "id": "t4g6EoNGqiwq",
        "outputId": "335239d4-048a-40e2-dedd-fc05943de453"
      },
      "execution_count": null,
      "outputs": [
        {
          "output_type": "execute_result",
          "data": {
            "text/plain": [
              "297.878"
            ]
          },
          "metadata": {},
          "execution_count": 24
        }
      ]
    },
    {
      "cell_type": "code",
      "source": [
        "gradient_boost_regression_result = try_model(\n",
        "    GradientBoostingRegressor, X, y\n",
        ")\n",
        "\n",
        "model_results[\"gradient_boost\"] = gradient_boost_regression_result\n",
        "gradient_boost_regression_result"
      ],
      "metadata": {
        "colab": {
          "base_uri": "https://localhost:8080/"
        },
        "id": "iLsaE6mGrBZf",
        "outputId": "e608ed97-70da-43d1-d838-9b6e69662ba5"
      },
      "execution_count": null,
      "outputs": [
        {
          "output_type": "execute_result",
          "data": {
            "text/plain": [
              "146.846"
            ]
          },
          "metadata": {},
          "execution_count": 25
        }
      ]
    },
    {
      "cell_type": "code",
      "source": [
        "xgb_regression_result = try_model(\n",
        "    XGBRegressor, X, y\n",
        ")\n",
        "\n",
        "model_results[\"xgb\"] = xgb_regression_result\n",
        "xgb_regression_result"
      ],
      "metadata": {
        "colab": {
          "base_uri": "https://localhost:8080/"
        },
        "id": "sn5cglDprTvB",
        "outputId": "6fe6d298-b254-4ba6-f65a-14617b8b8011"
      },
      "execution_count": null,
      "outputs": [
        {
          "output_type": "execute_result",
          "data": {
            "text/plain": [
              "136.90800000000002"
            ]
          },
          "metadata": {},
          "execution_count": 26
        }
      ]
    },
    {
      "cell_type": "code",
      "source": [
        "cat_boost_regression_result = try_model(\n",
        "    CatBoostRegressor, X, y, silent=True\n",
        ")\n",
        "\n",
        "model_results[\"cat_boost\"] = cat_boost_regression_result\n",
        "cat_boost_regression_result"
      ],
      "metadata": {
        "colab": {
          "base_uri": "https://localhost:8080/"
        },
        "id": "vNCCO-7jrkHm",
        "outputId": "743d9ed1-b17f-4d86-9f8a-3d1ed7715788"
      },
      "execution_count": null,
      "outputs": [
        {
          "output_type": "execute_result",
          "data": {
            "text/plain": [
              "138.642"
            ]
          },
          "metadata": {},
          "execution_count": 27
        }
      ]
    },
    {
      "cell_type": "markdown",
      "source": [
        "# Сравнение результатов"
      ],
      "metadata": {
        "id": "t-41rQg9A1ub"
      }
    },
    {
      "cell_type": "code",
      "source": [
        "model_results.sort_values()"
      ],
      "metadata": {
        "colab": {
          "base_uri": "https://localhost:8080/",
          "height": 523
        },
        "id": "Xd3RJE2JtkdD",
        "outputId": "3cf21443-161b-4040-dd90-8a72b76af96c"
      },
      "execution_count": null,
      "outputs": [
        {
          "output_type": "execute_result",
          "data": {
            "text/plain": [
              "random_forest         99.232\n",
              "bagging              100.298\n",
              "tree                 132.552\n",
              "xgb                  136.908\n",
              "cat_boost            138.642\n",
              "gradient_boost       146.846\n",
              "linear_regression    184.338\n",
              "sgd                  187.506\n",
              "ridge                188.530\n",
              "ada_boost            297.878\n",
              "svm                  327.186\n",
              "lasso                345.536\n",
              "elastic_net          357.204\n",
              "dummy                375.378\n",
              "dtype: float64"
            ],
            "text/html": [
              "<div>\n",
              "<style scoped>\n",
              "    .dataframe tbody tr th:only-of-type {\n",
              "        vertical-align: middle;\n",
              "    }\n",
              "\n",
              "    .dataframe tbody tr th {\n",
              "        vertical-align: top;\n",
              "    }\n",
              "\n",
              "    .dataframe thead th {\n",
              "        text-align: right;\n",
              "    }\n",
              "</style>\n",
              "<table border=\"1\" class=\"dataframe\">\n",
              "  <thead>\n",
              "    <tr style=\"text-align: right;\">\n",
              "      <th></th>\n",
              "      <th>0</th>\n",
              "    </tr>\n",
              "  </thead>\n",
              "  <tbody>\n",
              "    <tr>\n",
              "      <th>random_forest</th>\n",
              "      <td>99.232</td>\n",
              "    </tr>\n",
              "    <tr>\n",
              "      <th>bagging</th>\n",
              "      <td>100.298</td>\n",
              "    </tr>\n",
              "    <tr>\n",
              "      <th>tree</th>\n",
              "      <td>132.552</td>\n",
              "    </tr>\n",
              "    <tr>\n",
              "      <th>xgb</th>\n",
              "      <td>136.908</td>\n",
              "    </tr>\n",
              "    <tr>\n",
              "      <th>cat_boost</th>\n",
              "      <td>138.642</td>\n",
              "    </tr>\n",
              "    <tr>\n",
              "      <th>gradient_boost</th>\n",
              "      <td>146.846</td>\n",
              "    </tr>\n",
              "    <tr>\n",
              "      <th>linear_regression</th>\n",
              "      <td>184.338</td>\n",
              "    </tr>\n",
              "    <tr>\n",
              "      <th>sgd</th>\n",
              "      <td>187.506</td>\n",
              "    </tr>\n",
              "    <tr>\n",
              "      <th>ridge</th>\n",
              "      <td>188.530</td>\n",
              "    </tr>\n",
              "    <tr>\n",
              "      <th>ada_boost</th>\n",
              "      <td>297.878</td>\n",
              "    </tr>\n",
              "    <tr>\n",
              "      <th>svm</th>\n",
              "      <td>327.186</td>\n",
              "    </tr>\n",
              "    <tr>\n",
              "      <th>lasso</th>\n",
              "      <td>345.536</td>\n",
              "    </tr>\n",
              "    <tr>\n",
              "      <th>elastic_net</th>\n",
              "      <td>357.204</td>\n",
              "    </tr>\n",
              "    <tr>\n",
              "      <th>dummy</th>\n",
              "      <td>375.378</td>\n",
              "    </tr>\n",
              "  </tbody>\n",
              "</table>\n",
              "</div><br><label><b>dtype:</b> float64</label>"
            ]
          },
          "metadata": {},
          "execution_count": 28
        }
      ]
    },
    {
      "cell_type": "markdown",
      "source": [
        "На основе представленных результатов, `беггинговые` методы (в частности `Random Fores0t`) являются наиболее эффективными моделями для данной задачи, вероятно это вызвано тем, что будстрапирование лучше подходит в условиях довольно малой выборки. Модели, такие как `XGBoost` и `CatBoost`, также показывают хорошие результаты и могут быть полезны в зависимости от требований к интерпретируемости. В то же время, линейные модели и прочие методы, такие как `SVM` и `AdaBoost`, не показали хороших результатов."
      ],
      "metadata": {
        "id": "VDTB7BwVBQUY"
      }
    },
    {
      "cell_type": "markdown",
      "source": [
        "# Оптимизация гипер-параметров"
      ],
      "metadata": {
        "id": "uZwkdAesDP5U"
      }
    },
    {
      "cell_type": "code",
      "source": [
        "def optimize_rf_hyperparameters(\n",
        "    X, y\n",
        ") -> dict:\n",
        "\n",
        "    def objective(trial):\n",
        "\n",
        "        X_train, X_val, y_train, y_val = train_test_split(\n",
        "            X, y, test_size=0.2\n",
        "        )\n",
        "\n",
        "        scaler = StandardScaler()\n",
        "        X_train_scaled = scaler.fit_transform(X_train)\n",
        "        X_val_scaled = scaler.transform(X_val)\n",
        "\n",
        "        # Определяем гиперпараметры для оптимизации\n",
        "        n_estimators = trial.suggest_int('n_estimators', 10, 300)\n",
        "        max_depth = trial.suggest_int('max_depth', 1, 50)\n",
        "        min_samples_split = trial.suggest_int('min_samples_split', 2, 10)\n",
        "        min_samples_leaf = trial.suggest_int('min_samples_leaf', 1, 10)\n",
        "        bootstrap = trial.suggest_categorical('bootstrap', [True, False])\n",
        "        max_features = trial.suggest_int('max_features', 2, 7)\n",
        "\n",
        "        y_pred = y_val.copy()\n",
        "\n",
        "        for target in y_train.columns:\n",
        "            # Создаем модель Random Forest с заданными гиперпараметрами\n",
        "            model = RandomForestRegressor(\n",
        "                n_estimators=n_estimators,\n",
        "                max_depth=max_depth,\n",
        "                min_samples_split=min_samples_split,\n",
        "                min_samples_leaf=min_samples_leaf,\n",
        "                bootstrap=bootstrap,\n",
        "                max_features=max_features\n",
        "            )\n",
        "\n",
        "            model.fit(X_train, y_train[target])\n",
        "            y_pred[target] = model.predict(X_val)\n",
        "\n",
        "        return mean_log_accuracy_ratio(y_val, y_pred)\n",
        "\n",
        "    # Создаем объект исследования\n",
        "    study = optuna.create_study(direction='minimize')  # Минимизация оценки\n",
        "    study.optimize(objective, n_trials=100, n_jobs=-1)  # Оптимизация на 100 испытаниях\n",
        "\n",
        "    # Возвращаем наилучшие гиперпараметры\n",
        "    return study.best_params"
      ],
      "metadata": {
        "id": "sJ0Dmsj8T2Hj"
      },
      "execution_count": null,
      "outputs": []
    },
    {
      "cell_type": "code",
      "source": [
        "best_rf_params = optimize_rf_hyperparameters(\n",
        "    X_train, y_train\n",
        ")"
      ],
      "metadata": {
        "colab": {
          "base_uri": "https://localhost:8080/"
        },
        "id": "keRdh4GnDppz",
        "outputId": "30ea6838-14ca-4bc0-f89c-1ef368f68474"
      },
      "execution_count": null,
      "outputs": [
        {
          "output_type": "stream",
          "name": "stderr",
          "text": [
            "[I 2024-12-16 18:31:49,759] A new study created in memory with name: no-name-aaed875c-8765-40ba-8477-3687d35bfac0\n",
            "[I 2024-12-16 18:31:49,999] Trial 0 finished with value: 117.06 and parameters: {'n_estimators': 20, 'max_depth': 44, 'min_samples_split': 5, 'min_samples_leaf': 5, 'bootstrap': False, 'max_features': 2}. Best is trial 0 with value: 117.06.\n",
            "[I 2024-12-16 18:31:50,935] Trial 2 finished with value: 96.65 and parameters: {'n_estimators': 53, 'max_depth': 22, 'min_samples_split': 10, 'min_samples_leaf': 1, 'bootstrap': False, 'max_features': 6}. Best is trial 2 with value: 96.65.\n",
            "[I 2024-12-16 18:31:51,187] Trial 1 finished with value: 89.84 and parameters: {'n_estimators': 110, 'max_depth': 21, 'min_samples_split': 7, 'min_samples_leaf': 4, 'bootstrap': False, 'max_features': 4}. Best is trial 1 with value: 89.84.\n",
            "[I 2024-12-16 18:31:52,095] Trial 3 finished with value: 109.85 and parameters: {'n_estimators': 105, 'max_depth': 18, 'min_samples_split': 10, 'min_samples_leaf': 5, 'bootstrap': False, 'max_features': 3}. Best is trial 1 with value: 89.84.\n",
            "[I 2024-12-16 18:31:52,482] Trial 4 finished with value: 123.81 and parameters: {'n_estimators': 120, 'max_depth': 20, 'min_samples_split': 2, 'min_samples_leaf': 8, 'bootstrap': True, 'max_features': 3}. Best is trial 1 with value: 89.84.\n",
            "[I 2024-12-16 18:31:53,564] Trial 5 finished with value: 98.8 and parameters: {'n_estimators': 133, 'max_depth': 15, 'min_samples_split': 4, 'min_samples_leaf': 8, 'bootstrap': True, 'max_features': 4}. Best is trial 1 with value: 89.84.\n",
            "[I 2024-12-16 18:31:54,487] Trial 7 finished with value: 119.18 and parameters: {'n_estimators': 111, 'max_depth': 29, 'min_samples_split': 4, 'min_samples_leaf': 5, 'bootstrap': False, 'max_features': 2}. Best is trial 1 with value: 89.84.\n",
            "[I 2024-12-16 18:31:54,762] Trial 6 finished with value: 88.42 and parameters: {'n_estimators': 151, 'max_depth': 18, 'min_samples_split': 7, 'min_samples_leaf': 10, 'bootstrap': False, 'max_features': 7}. Best is trial 6 with value: 88.42.\n",
            "[I 2024-12-16 18:31:57,618] Trial 8 finished with value: 96.69 and parameters: {'n_estimators': 275, 'max_depth': 47, 'min_samples_split': 8, 'min_samples_leaf': 10, 'bootstrap': True, 'max_features': 5}. Best is trial 6 with value: 88.42.\n",
            "[I 2024-12-16 18:31:58,066] Trial 9 finished with value: 80.2 and parameters: {'n_estimators': 271, 'max_depth': 47, 'min_samples_split': 10, 'min_samples_leaf': 3, 'bootstrap': False, 'max_features': 4}. Best is trial 9 with value: 80.2.\n",
            "[I 2024-12-16 18:31:58,821] Trial 10 finished with value: 103.81 and parameters: {'n_estimators': 106, 'max_depth': 18, 'min_samples_split': 5, 'min_samples_leaf': 8, 'bootstrap': False, 'max_features': 4}. Best is trial 9 with value: 80.2.\n",
            "[I 2024-12-16 18:32:01,416] Trial 12 finished with value: 135.55 and parameters: {'n_estimators': 224, 'max_depth': 2, 'min_samples_split': 8, 'min_samples_leaf': 2, 'bootstrap': False, 'max_features': 7}. Best is trial 9 with value: 80.2.\n",
            "[I 2024-12-16 18:32:01,785] Trial 11 finished with value: 131.96 and parameters: {'n_estimators': 287, 'max_depth': 3, 'min_samples_split': 9, 'min_samples_leaf': 2, 'bootstrap': True, 'max_features': 5}. Best is trial 9 with value: 80.2.\n",
            "[I 2024-12-16 18:32:05,448] Trial 14 finished with value: 110.79 and parameters: {'n_estimators': 195, 'max_depth': 35, 'min_samples_split': 7, 'min_samples_leaf': 10, 'bootstrap': False, 'max_features': 7}. Best is trial 9 with value: 80.2.\n",
            "[I 2024-12-16 18:32:05,906] Trial 13 finished with value: 110.1 and parameters: {'n_estimators': 199, 'max_depth': 33, 'min_samples_split': 9, 'min_samples_leaf': 3, 'bootstrap': False, 'max_features': 7}. Best is trial 9 with value: 80.2.\n",
            "[I 2024-12-16 18:32:07,995] Trial 15 finished with value: 84.57 and parameters: {'n_estimators': 180, 'max_depth': 37, 'min_samples_split': 9, 'min_samples_leaf': 7, 'bootstrap': False, 'max_features': 6}. Best is trial 9 with value: 80.2.\n",
            "[I 2024-12-16 18:32:09,286] Trial 16 finished with value: 88.89 and parameters: {'n_estimators': 238, 'max_depth': 11, 'min_samples_split': 6, 'min_samples_leaf': 7, 'bootstrap': False, 'max_features': 6}. Best is trial 9 with value: 80.2.\n",
            "[I 2024-12-16 18:32:11,442] Trial 17 finished with value: 95.07 and parameters: {'n_estimators': 246, 'max_depth': 41, 'min_samples_split': 10, 'min_samples_leaf': 7, 'bootstrap': False, 'max_features': 6}. Best is trial 9 with value: 80.2.\n",
            "[I 2024-12-16 18:32:12,793] Trial 18 finished with value: 87.79 and parameters: {'n_estimators': 250, 'max_depth': 41, 'min_samples_split': 10, 'min_samples_leaf': 6, 'bootstrap': False, 'max_features': 6}. Best is trial 9 with value: 80.2.\n",
            "[I 2024-12-16 18:32:13,780] Trial 19 finished with value: 92.13 and parameters: {'n_estimators': 180, 'max_depth': 38, 'min_samples_split': 9, 'min_samples_leaf': 6, 'bootstrap': True, 'max_features': 5}. Best is trial 9 with value: 80.2.\n",
            "[I 2024-12-16 18:32:15,270] Trial 21 finished with value: 90.47 and parameters: {'n_estimators': 74, 'max_depth': 47, 'min_samples_split': 8, 'min_samples_leaf': 3, 'bootstrap': False, 'max_features': 3}. Best is trial 9 with value: 80.2.\n",
            "[I 2024-12-16 18:32:16,476] Trial 20 finished with value: 128.06 and parameters: {'n_estimators': 194, 'max_depth': 49, 'min_samples_split': 9, 'min_samples_leaf': 3, 'bootstrap': True, 'max_features': 5}. Best is trial 9 with value: 80.2.\n",
            "[I 2024-12-16 18:32:20,223] Trial 22 finished with value: 85.86 and parameters: {'n_estimators': 256, 'max_depth': 50, 'min_samples_split': 10, 'min_samples_leaf': 6, 'bootstrap': False, 'max_features': 6}. Best is trial 9 with value: 80.2.\n",
            "[I 2024-12-16 18:32:21,023] Trial 23 finished with value: 98.46 and parameters: {'n_estimators': 268, 'max_depth': 42, 'min_samples_split': 10, 'min_samples_leaf': 6, 'bootstrap': False, 'max_features': 6}. Best is trial 9 with value: 80.2.\n",
            "[I 2024-12-16 18:32:23,178] Trial 25 finished with value: 81.27 and parameters: {'n_estimators': 162, 'max_depth': 50, 'min_samples_split': 9, 'min_samples_leaf': 7, 'bootstrap': False, 'max_features': 5}. Best is trial 9 with value: 80.2.\n",
            "[I 2024-12-16 18:32:24,405] Trial 24 finished with value: 86.98 and parameters: {'n_estimators': 296, 'max_depth': 43, 'min_samples_split': 10, 'min_samples_leaf': 7, 'bootstrap': False, 'max_features': 6}. Best is trial 9 with value: 80.2.\n",
            "[I 2024-12-16 18:32:24,916] Trial 26 finished with value: 103.19 and parameters: {'n_estimators': 164, 'max_depth': 30, 'min_samples_split': 8, 'min_samples_leaf': 9, 'bootstrap': False, 'max_features': 4}. Best is trial 9 with value: 80.2.\n",
            "[I 2024-12-16 18:32:26,152] Trial 27 finished with value: 76.18 and parameters: {'n_estimators': 155, 'max_depth': 28, 'min_samples_split': 8, 'min_samples_leaf': 9, 'bootstrap': False, 'max_features': 4}. Best is trial 27 with value: 76.18.\n",
            "[I 2024-12-16 18:32:28,185] Trial 28 finished with value: 94.47 and parameters: {'n_estimators': 220, 'max_depth': 35, 'min_samples_split': 9, 'min_samples_leaf': 4, 'bootstrap': False, 'max_features': 5}. Best is trial 27 with value: 76.18.\n",
            "[I 2024-12-16 18:32:28,361] Trial 29 finished with value: 109.5 and parameters: {'n_estimators': 222, 'max_depth': 9, 'min_samples_split': 8, 'min_samples_leaf': 9, 'bootstrap': False, 'max_features': 3}. Best is trial 27 with value: 76.18.\n",
            "[I 2024-12-16 18:32:28,663] Trial 31 finished with value: 122.46 and parameters: {'n_estimators': 10, 'max_depth': 46, 'min_samples_split': 6, 'min_samples_leaf': 9, 'bootstrap': False, 'max_features': 2}. Best is trial 27 with value: 76.18.\n",
            "[I 2024-12-16 18:32:29,111] Trial 30 finished with value: 134.0 and parameters: {'n_estimators': 52, 'max_depth': 25, 'min_samples_split': 6, 'min_samples_leaf': 9, 'bootstrap': False, 'max_features': 2}. Best is trial 27 with value: 76.18.\n",
            "[I 2024-12-16 18:32:31,770] Trial 32 finished with value: 106.41 and parameters: {'n_estimators': 149, 'max_depth': 27, 'min_samples_split': 9, 'min_samples_leaf': 7, 'bootstrap': False, 'max_features': 4}. Best is trial 27 with value: 76.18.\n",
            "[I 2024-12-16 18:32:32,104] Trial 33 finished with value: 95.04 and parameters: {'n_estimators': 153, 'max_depth': 38, 'min_samples_split': 9, 'min_samples_leaf': 7, 'bootstrap': False, 'max_features': 4}. Best is trial 27 with value: 76.18.\n",
            "[I 2024-12-16 18:32:34,234] Trial 34 finished with value: 86.16 and parameters: {'n_estimators': 173, 'max_depth': 39, 'min_samples_split': 7, 'min_samples_leaf': 4, 'bootstrap': False, 'max_features': 5}. Best is trial 27 with value: 76.18.\n",
            "[I 2024-12-16 18:32:34,619] Trial 35 finished with value: 101.07 and parameters: {'n_estimators': 178, 'max_depth': 39, 'min_samples_split': 7, 'min_samples_leaf': 4, 'bootstrap': False, 'max_features': 5}. Best is trial 27 with value: 76.18.\n",
            "[I 2024-12-16 18:32:35,230] Trial 36 finished with value: 111.18 and parameters: {'n_estimators': 91, 'max_depth': 45, 'min_samples_split': 8, 'min_samples_leaf': 8, 'bootstrap': False, 'max_features': 3}. Best is trial 27 with value: 76.18.\n",
            "[I 2024-12-16 18:32:35,959] Trial 37 finished with value: 121.48 and parameters: {'n_estimators': 125, 'max_depth': 45, 'min_samples_split': 8, 'min_samples_leaf': 5, 'bootstrap': False, 'max_features': 3}. Best is trial 27 with value: 76.18.\n",
            "[I 2024-12-16 18:32:37,262] Trial 38 finished with value: 90.29 and parameters: {'n_estimators': 133, 'max_depth': 24, 'min_samples_split': 2, 'min_samples_leaf': 1, 'bootstrap': True, 'max_features': 4}. Best is trial 27 with value: 76.18.\n",
            "[I 2024-12-16 18:32:37,844] Trial 39 finished with value: 103.62 and parameters: {'n_estimators': 138, 'max_depth': 32, 'min_samples_split': 10, 'min_samples_leaf': 1, 'bootstrap': True, 'max_features': 4}. Best is trial 27 with value: 76.18.\n",
            "[I 2024-12-16 18:32:38,967] Trial 40 finished with value: 116.72 and parameters: {'n_estimators': 140, 'max_depth': 31, 'min_samples_split': 9, 'min_samples_leaf': 8, 'bootstrap': False, 'max_features': 4}. Best is trial 27 with value: 76.18.\n",
            "[I 2024-12-16 18:32:40,695] Trial 41 finished with value: 98.46 and parameters: {'n_estimators': 203, 'max_depth': 50, 'min_samples_split': 3, 'min_samples_leaf': 5, 'bootstrap': False, 'max_features': 5}. Best is trial 27 with value: 76.18.\n",
            "[I 2024-12-16 18:32:43,485] Trial 42 finished with value: 111.93 and parameters: {'n_estimators': 257, 'max_depth': 50, 'min_samples_split': 10, 'min_samples_leaf': 5, 'bootstrap': False, 'max_features': 6}. Best is trial 27 with value: 76.18.\n",
            "[I 2024-12-16 18:32:46,454] Trial 43 finished with value: 89.65 and parameters: {'n_estimators': 265, 'max_depth': 50, 'min_samples_split': 10, 'min_samples_leaf': 6, 'bootstrap': False, 'max_features': 6}. Best is trial 27 with value: 76.18.\n",
            "[I 2024-12-16 18:32:48,638] Trial 44 finished with value: 92.51 and parameters: {'n_estimators': 284, 'max_depth': 47, 'min_samples_split': 10, 'min_samples_leaf': 6, 'bootstrap': False, 'max_features': 6}. Best is trial 27 with value: 76.18.\n",
            "[I 2024-12-16 18:32:50,667] Trial 45 finished with value: 93.75 and parameters: {'n_estimators': 282, 'max_depth': 47, 'min_samples_split': 9, 'min_samples_leaf': 6, 'bootstrap': False, 'max_features': 7}. Best is trial 27 with value: 76.18.\n",
            "[I 2024-12-16 18:32:52,111] Trial 46 finished with value: 100.25 and parameters: {'n_estimators': 234, 'max_depth': 44, 'min_samples_split': 9, 'min_samples_leaf': 8, 'bootstrap': False, 'max_features': 7}. Best is trial 27 with value: 76.18.\n",
            "[I 2024-12-16 18:32:53,645] Trial 47 finished with value: 90.74 and parameters: {'n_estimators': 233, 'max_depth': 35, 'min_samples_split': 9, 'min_samples_leaf': 8, 'bootstrap': False, 'max_features': 5}. Best is trial 27 with value: 76.18.\n",
            "[I 2024-12-16 18:32:55,795] Trial 49 finished with value: 109.1 and parameters: {'n_estimators': 186, 'max_depth': 22, 'min_samples_split': 10, 'min_samples_leaf': 7, 'bootstrap': False, 'max_features': 4}. Best is trial 27 with value: 76.18.\n",
            "[I 2024-12-16 18:32:55,871] Trial 48 finished with value: 88.87 and parameters: {'n_estimators': 300, 'max_depth': 35, 'min_samples_split': 10, 'min_samples_leaf': 7, 'bootstrap': False, 'max_features': 5}. Best is trial 27 with value: 76.18.\n",
            "[I 2024-12-16 18:32:59,292] Trial 50 finished with value: 95.07 and parameters: {'n_estimators': 165, 'max_depth': 28, 'min_samples_split': 5, 'min_samples_leaf': 10, 'bootstrap': True, 'max_features': 5}. Best is trial 27 with value: 76.18.\n",
            "[I 2024-12-16 18:33:00,207] Trial 51 finished with value: 82.95 and parameters: {'n_estimators': 207, 'max_depth': 48, 'min_samples_split': 8, 'min_samples_leaf': 10, 'bootstrap': True, 'max_features': 6}. Best is trial 27 with value: 76.18.\n",
            "[I 2024-12-16 18:33:02,079] Trial 52 finished with value: 86.62 and parameters: {'n_estimators': 166, 'max_depth': 40, 'min_samples_split': 7, 'min_samples_leaf': 4, 'bootstrap': False, 'max_features': 5}. Best is trial 27 with value: 76.18.\n",
            "[I 2024-12-16 18:33:02,835] Trial 53 finished with value: 85.7 and parameters: {'n_estimators': 212, 'max_depth': 48, 'min_samples_split': 7, 'min_samples_leaf': 10, 'bootstrap': True, 'max_features': 6}. Best is trial 27 with value: 76.18.\n",
            "[I 2024-12-16 18:33:04,725] Trial 54 finished with value: 101.86 and parameters: {'n_estimators': 215, 'max_depth': 49, 'min_samples_split': 8, 'min_samples_leaf': 10, 'bootstrap': True, 'max_features': 6}. Best is trial 27 with value: 76.18.\n",
            "[I 2024-12-16 18:33:05,484] Trial 55 finished with value: 101.7 and parameters: {'n_estimators': 212, 'max_depth': 48, 'min_samples_split': 7, 'min_samples_leaf': 10, 'bootstrap': True, 'max_features': 6}. Best is trial 27 with value: 76.18.\n",
            "[I 2024-12-16 18:33:07,461] Trial 56 finished with value: 89.57 and parameters: {'n_estimators': 210, 'max_depth': 43, 'min_samples_split': 7, 'min_samples_leaf': 9, 'bootstrap': True, 'max_features': 7}. Best is trial 27 with value: 76.18.\n",
            "[I 2024-12-16 18:33:08,012] Trial 57 finished with value: 95.33 and parameters: {'n_estimators': 190, 'max_depth': 43, 'min_samples_split': 8, 'min_samples_leaf': 9, 'bootstrap': True, 'max_features': 7}. Best is trial 27 with value: 76.18.\n",
            "[I 2024-12-16 18:33:11,357] Trial 58 finished with value: 108.7 and parameters: {'n_estimators': 193, 'max_depth': 37, 'min_samples_split': 8, 'min_samples_leaf': 10, 'bootstrap': True, 'max_features': 6}. Best is trial 27 with value: 76.18.\n",
            "[I 2024-12-16 18:33:11,933] Trial 59 finished with value: 104.52 and parameters: {'n_estimators': 203, 'max_depth': 45, 'min_samples_split': 8, 'min_samples_leaf': 10, 'bootstrap': True, 'max_features': 4}. Best is trial 27 with value: 76.18.\n",
            "[I 2024-12-16 18:33:14,450] Trial 60 finished with value: 121.9 and parameters: {'n_estimators': 145, 'max_depth': 45, 'min_samples_split': 6, 'min_samples_leaf': 10, 'bootstrap': True, 'max_features': 4}. Best is trial 27 with value: 76.18.\n",
            "[I 2024-12-16 18:33:15,779] Trial 61 finished with value: 101.94 and parameters: {'n_estimators': 156, 'max_depth': 14, 'min_samples_split': 6, 'min_samples_leaf': 2, 'bootstrap': True, 'max_features': 6}. Best is trial 27 with value: 76.18.\n",
            "[I 2024-12-16 18:33:17,891] Trial 62 finished with value: 93.6 and parameters: {'n_estimators': 243, 'max_depth': 48, 'min_samples_split': 9, 'min_samples_leaf': 9, 'bootstrap': True, 'max_features': 6}. Best is trial 27 with value: 76.18.\n",
            "[I 2024-12-16 18:33:18,786] Trial 63 finished with value: 96.19 and parameters: {'n_estimators': 243, 'max_depth': 48, 'min_samples_split': 9, 'min_samples_leaf': 9, 'bootstrap': True, 'max_features': 6}. Best is trial 27 with value: 76.18.\n",
            "[I 2024-12-16 18:33:21,527] Trial 64 finished with value: 87.07 and parameters: {'n_estimators': 262, 'max_depth': 48, 'min_samples_split': 9, 'min_samples_leaf': 7, 'bootstrap': False, 'max_features': 6}. Best is trial 27 with value: 76.18.\n",
            "[I 2024-12-16 18:33:22,307] Trial 65 finished with value: 109.39 and parameters: {'n_estimators': 254, 'max_depth': 42, 'min_samples_split': 9, 'min_samples_leaf': 7, 'bootstrap': False, 'max_features': 6}. Best is trial 27 with value: 76.18.\n",
            "[I 2024-12-16 18:33:23,871] Trial 66 finished with value: 95.9 and parameters: {'n_estimators': 228, 'max_depth': 50, 'min_samples_split': 10, 'min_samples_leaf': 6, 'bootstrap': False, 'max_features': 3}. Best is trial 27 with value: 76.18.\n",
            "[I 2024-12-16 18:33:24,134] Trial 67 finished with value: 122.86 and parameters: {'n_estimators': 174, 'max_depth': 46, 'min_samples_split': 8, 'min_samples_leaf': 8, 'bootstrap': False, 'max_features': 3}. Best is trial 27 with value: 76.18.\n",
            "[I 2024-12-16 18:33:27,583] Trial 69 finished with value: 88.82 and parameters: {'n_estimators': 184, 'max_depth': 41, 'min_samples_split': 7, 'min_samples_leaf': 10, 'bootstrap': True, 'max_features': 7}. Best is trial 27 with value: 76.18.\n",
            "[I 2024-12-16 18:33:27,740] Trial 68 finished with value: 91.16 and parameters: {'n_estimators': 175, 'max_depth': 46, 'min_samples_split': 7, 'min_samples_leaf': 8, 'bootstrap': False, 'max_features': 7}. Best is trial 27 with value: 76.18.\n",
            "[I 2024-12-16 18:33:29,977] Trial 70 finished with value: 91.21 and parameters: {'n_estimators': 117, 'max_depth': 20, 'min_samples_split': 8, 'min_samples_leaf': 2, 'bootstrap': False, 'max_features': 5}. Best is trial 27 with value: 76.18.\n",
            "[I 2024-12-16 18:33:32,301] Trial 71 finished with value: 94.28 and parameters: {'n_estimators': 273, 'max_depth': 20, 'min_samples_split': 8, 'min_samples_leaf': 2, 'bootstrap': False, 'max_features': 5}. Best is trial 27 with value: 76.18.\n",
            "[I 2024-12-16 18:33:33,729] Trial 72 finished with value: 104.66 and parameters: {'n_estimators': 275, 'max_depth': 33, 'min_samples_split': 7, 'min_samples_leaf': 4, 'bootstrap': False, 'max_features': 5}. Best is trial 27 with value: 76.18.\n",
            "[I 2024-12-16 18:33:34,696] Trial 73 finished with value: 105.2 and parameters: {'n_estimators': 161, 'max_depth': 37, 'min_samples_split': 7, 'min_samples_leaf': 3, 'bootstrap': False, 'max_features': 5}. Best is trial 27 with value: 76.18.\n",
            "[I 2024-12-16 18:33:35,928] Trial 74 finished with value: 102.29 and parameters: {'n_estimators': 170, 'max_depth': 37, 'min_samples_split': 5, 'min_samples_leaf': 4, 'bootstrap': False, 'max_features': 4}. Best is trial 27 with value: 76.18.\n",
            "[I 2024-12-16 18:33:36,909] Trial 75 finished with value: 101.44 and parameters: {'n_estimators': 173, 'max_depth': 44, 'min_samples_split': 10, 'min_samples_leaf': 3, 'bootstrap': False, 'max_features': 4}. Best is trial 27 with value: 76.18.\n",
            "[I 2024-12-16 18:33:38,395] Trial 76 finished with value: 82.44 and parameters: {'n_estimators': 156, 'max_depth': 44, 'min_samples_split': 10, 'min_samples_leaf': 3, 'bootstrap': False, 'max_features': 6}. Best is trial 27 with value: 76.18.\n",
            "[I 2024-12-16 18:33:40,269] Trial 77 finished with value: 83.96 and parameters: {'n_estimators': 183, 'max_depth': 49, 'min_samples_split': 6, 'min_samples_leaf': 5, 'bootstrap': False, 'max_features': 6}. Best is trial 27 with value: 76.18.\n",
            "[I 2024-12-16 18:33:41,564] Trial 78 finished with value: 105.9 and parameters: {'n_estimators': 130, 'max_depth': 49, 'min_samples_split': 10, 'min_samples_leaf': 5, 'bootstrap': False, 'max_features': 6}. Best is trial 27 with value: 76.18.\n",
            "[I 2024-12-16 18:33:44,563] Trial 80 finished with value: 114.33 and parameters: {'n_estimators': 154, 'max_depth': 47, 'min_samples_split': 6, 'min_samples_leaf': 3, 'bootstrap': False, 'max_features': 6}. Best is trial 27 with value: 76.18.\n",
            "[I 2024-12-16 18:33:44,755] Trial 79 finished with value: 106.63 and parameters: {'n_estimators': 200, 'max_depth': 49, 'min_samples_split': 4, 'min_samples_leaf': 3, 'bootstrap': False, 'max_features': 6}. Best is trial 27 with value: 76.18.\n",
            "[I 2024-12-16 18:33:45,910] Trial 81 finished with value: 95.94 and parameters: {'n_estimators': 99, 'max_depth': 41, 'min_samples_split': 4, 'min_samples_leaf': 9, 'bootstrap': True, 'max_features': 6}. Best is trial 27 with value: 76.18.\n",
            "[I 2024-12-16 18:33:46,962] Trial 82 finished with value: 94.37 and parameters: {'n_estimators': 142, 'max_depth': 46, 'min_samples_split': 10, 'min_samples_leaf': 6, 'bootstrap': False, 'max_features': 6}. Best is trial 27 with value: 76.18.\n",
            "[I 2024-12-16 18:33:48,539] Trial 83 finished with value: 107.91 and parameters: {'n_estimators': 184, 'max_depth': 46, 'min_samples_split': 10, 'min_samples_leaf': 6, 'bootstrap': False, 'max_features': 6}. Best is trial 27 with value: 76.18.\n",
            "[I 2024-12-16 18:33:49,727] Trial 84 finished with value: 99.51 and parameters: {'n_estimators': 184, 'max_depth': 50, 'min_samples_split': 9, 'min_samples_leaf': 5, 'bootstrap': False, 'max_features': 6}. Best is trial 27 with value: 76.18.\n",
            "[I 2024-12-16 18:33:51,382] Trial 85 finished with value: 93.01 and parameters: {'n_estimators': 207, 'max_depth': 50, 'min_samples_split': 9, 'min_samples_leaf': 8, 'bootstrap': False, 'max_features': 6}. Best is trial 27 with value: 76.18.\n",
            "[I 2024-12-16 18:33:52,580] Trial 86 finished with value: 92.54 and parameters: {'n_estimators': 207, 'max_depth': 44, 'min_samples_split': 9, 'min_samples_leaf': 7, 'bootstrap': False, 'max_features': 6}. Best is trial 27 with value: 76.18.\n",
            "[I 2024-12-16 18:33:56,418] Trial 88 finished with value: 91.46 and parameters: {'n_estimators': 160, 'max_depth': 48, 'min_samples_split': 6, 'min_samples_leaf': 9, 'bootstrap': False, 'max_features': 6}. Best is trial 27 with value: 76.18.\n",
            "[I 2024-12-16 18:33:57,348] Trial 87 finished with value: 95.15 and parameters: {'n_estimators': 289, 'max_depth': 48, 'min_samples_split': 10, 'min_samples_leaf': 7, 'bootstrap': False, 'max_features': 6}. Best is trial 27 with value: 76.18.\n",
            "[I 2024-12-16 18:33:59,926] Trial 90 finished with value: 92.95 and parameters: {'n_estimators': 194, 'max_depth': 6, 'min_samples_split': 10, 'min_samples_leaf': 10, 'bootstrap': True, 'max_features': 7}. Best is trial 27 with value: 76.18.\n",
            "[I 2024-12-16 18:34:00,733] Trial 89 finished with value: 96.81 and parameters: {'n_estimators': 293, 'max_depth': 42, 'min_samples_split': 10, 'min_samples_leaf': 10, 'bootstrap': False, 'max_features': 7}. Best is trial 27 with value: 76.18.\n",
            "[I 2024-12-16 18:34:02,556] Trial 91 finished with value: 81.37 and parameters: {'n_estimators': 219, 'max_depth': 42, 'min_samples_split': 9, 'min_samples_leaf': 6, 'bootstrap': False, 'max_features': 4}. Best is trial 27 with value: 76.18.\n",
            "[I 2024-12-16 18:34:02,917] Trial 92 finished with value: 87.32 and parameters: {'n_estimators': 148, 'max_depth': 39, 'min_samples_split': 6, 'min_samples_leaf': 4, 'bootstrap': False, 'max_features': 5}. Best is trial 27 with value: 76.18.\n",
            "[I 2024-12-16 18:34:05,118] Trial 93 finished with value: 104.46 and parameters: {'n_estimators': 215, 'max_depth': 43, 'min_samples_split': 9, 'min_samples_leaf': 6, 'bootstrap': False, 'max_features': 4}. Best is trial 27 with value: 76.18.\n",
            "[I 2024-12-16 18:34:05,561] Trial 94 finished with value: 95.64 and parameters: {'n_estimators': 216, 'max_depth': 44, 'min_samples_split': 9, 'min_samples_leaf': 5, 'bootstrap': False, 'max_features': 4}. Best is trial 27 with value: 76.18.\n",
            "[I 2024-12-16 18:34:08,547] Trial 95 finished with value: 90.47 and parameters: {'n_estimators': 222, 'max_depth': 45, 'min_samples_split': 9, 'min_samples_leaf': 5, 'bootstrap': False, 'max_features': 4}. Best is trial 27 with value: 76.18.\n",
            "[I 2024-12-16 18:34:09,222] Trial 96 finished with value: 88.84 and parameters: {'n_estimators': 223, 'max_depth': 47, 'min_samples_split': 8, 'min_samples_leaf': 6, 'bootstrap': False, 'max_features': 4}. Best is trial 27 with value: 76.18.\n",
            "[I 2024-12-16 18:34:12,318] Trial 97 finished with value: 101.91 and parameters: {'n_estimators': 227, 'max_depth': 47, 'min_samples_split': 8, 'min_samples_leaf': 6, 'bootstrap': False, 'max_features': 4}. Best is trial 27 with value: 76.18.\n",
            "[I 2024-12-16 18:34:12,657] Trial 98 finished with value: 104.54 and parameters: {'n_estimators': 229, 'max_depth': 24, 'min_samples_split': 8, 'min_samples_leaf': 6, 'bootstrap': True, 'max_features': 4}. Best is trial 27 with value: 76.18.\n",
            "[I 2024-12-16 18:34:14,256] Trial 99 finished with value: 93.22 and parameters: {'n_estimators': 238, 'max_depth': 49, 'min_samples_split': 10, 'min_samples_leaf': 1, 'bootstrap': True, 'max_features': 4}. Best is trial 27 with value: 76.18.\n"
          ]
        }
      ]
    },
    {
      "cell_type": "code",
      "source": [
        "best_rf_params"
      ],
      "metadata": {
        "colab": {
          "base_uri": "https://localhost:8080/"
        },
        "id": "cLChzXoDMIGb",
        "outputId": "b36a5d3d-b106-42fa-bf72-f200e80eecae"
      },
      "execution_count": null,
      "outputs": [
        {
          "output_type": "execute_result",
          "data": {
            "text/plain": [
              "{'n_estimators': 155,\n",
              " 'max_depth': 28,\n",
              " 'min_samples_split': 8,\n",
              " 'min_samples_leaf': 9,\n",
              " 'bootstrap': False,\n",
              " 'max_features': 4}"
            ]
          },
          "metadata": {},
          "execution_count": 124
        }
      ]
    },
    {
      "cell_type": "markdown",
      "source": [
        "# Результаты"
      ],
      "metadata": {
        "id": "hJ-b9qiiDZBI"
      }
    },
    {
      "cell_type": "code",
      "source": [
        "try_model(\n",
        "    RandomForestRegressor,\n",
        "    X, y, **best_rf_params\n",
        ")"
      ],
      "metadata": {
        "colab": {
          "base_uri": "https://localhost:8080/"
        },
        "id": "45cVTogKX5SS",
        "outputId": "1674b7c0-a53b-4101-e5d3-53b709983c34"
      },
      "execution_count": null,
      "outputs": [
        {
          "output_type": "execute_result",
          "data": {
            "text/plain": [
              "98.074"
            ]
          },
          "metadata": {},
          "execution_count": 130
        }
      ]
    },
    {
      "cell_type": "markdown",
      "source": [
        "Метрику удалось улучшиить в среднем, но не значительно. Однако в условиях сильной ограниченности размера выборки это можно считать приемлимым результатом."
      ],
      "metadata": {
        "id": "tIc5YYfeDp0b"
      }
    },
    {
      "cell_type": "markdown",
      "source": [
        "# Feature imporance"
      ],
      "metadata": {
        "id": "GOtP5o0PDkI-"
      }
    },
    {
      "cell_type": "code",
      "source": [
        "feature_imp_array = regressors[\"at_least_one\"].feature_importances_\n",
        "feature_imp = pd.Series({\n",
        "    col: imp for col, imp in zip(X_train.columns, feature_imp_array)\n",
        "})\n",
        "\n",
        "feature_imp.sort_values(ascending=False)"
      ],
      "metadata": {
        "colab": {
          "base_uri": "https://localhost:8080/",
          "height": 303
        },
        "id": "Kcqgs39NZLeP",
        "outputId": "237b11c9-9550-43cb-9392-357525070001"
      },
      "execution_count": null,
      "outputs": [
        {
          "output_type": "execute_result",
          "data": {
            "text/plain": [
              "duration            0.495034\n",
              "cpm                 0.158380\n",
              "audience_size       0.087140\n",
              "middle_hour         0.073053\n",
              "hour_start          0.067366\n",
              "publishers_count    0.065330\n",
              "hour_end            0.053697\n",
              "dtype: float64"
            ],
            "text/html": [
              "<div>\n",
              "<style scoped>\n",
              "    .dataframe tbody tr th:only-of-type {\n",
              "        vertical-align: middle;\n",
              "    }\n",
              "\n",
              "    .dataframe tbody tr th {\n",
              "        vertical-align: top;\n",
              "    }\n",
              "\n",
              "    .dataframe thead th {\n",
              "        text-align: right;\n",
              "    }\n",
              "</style>\n",
              "<table border=\"1\" class=\"dataframe\">\n",
              "  <thead>\n",
              "    <tr style=\"text-align: right;\">\n",
              "      <th></th>\n",
              "      <th>0</th>\n",
              "    </tr>\n",
              "  </thead>\n",
              "  <tbody>\n",
              "    <tr>\n",
              "      <th>duration</th>\n",
              "      <td>0.495034</td>\n",
              "    </tr>\n",
              "    <tr>\n",
              "      <th>cpm</th>\n",
              "      <td>0.158380</td>\n",
              "    </tr>\n",
              "    <tr>\n",
              "      <th>audience_size</th>\n",
              "      <td>0.087140</td>\n",
              "    </tr>\n",
              "    <tr>\n",
              "      <th>middle_hour</th>\n",
              "      <td>0.073053</td>\n",
              "    </tr>\n",
              "    <tr>\n",
              "      <th>hour_start</th>\n",
              "      <td>0.067366</td>\n",
              "    </tr>\n",
              "    <tr>\n",
              "      <th>publishers_count</th>\n",
              "      <td>0.065330</td>\n",
              "    </tr>\n",
              "    <tr>\n",
              "      <th>hour_end</th>\n",
              "      <td>0.053697</td>\n",
              "    </tr>\n",
              "  </tbody>\n",
              "</table>\n",
              "</div><br><label><b>dtype:</b> float64</label>"
            ]
          },
          "metadata": {},
          "execution_count": 131
        }
      ]
    },
    {
      "cell_type": "markdown",
      "source": [
        "1. **Наиболее важный признак**:\n",
        "   - **Duration (длительность)** имеет наивысшую важность. Это может означать, что длительность является ключевым фактором в модели и, вероятно, играет центральную роль в прогнозировании.\n",
        "\n",
        "2. **Средняя важность**:\n",
        "   - **CPM (стоимость за тысячу показов)** и **Audience Size (размер аудитории)** также имеют заметную важность, хотя и значительно ниже, чем у длительности. Это говорит о том, что эти факторы также влияют на модель, но не так сильно, как длительность.\n",
        "\n",
        "3. **Меньшая важность**:\n",
        "   - **Middle Hour (средний час)**, **Hour Start (начальный час)**, **Publishers Count (количество издателей)** и **Hour End (конечный час)** имеют более низкие значения важности. Эти признаки могут иметь некоторую степень влияния на модель, но, судя по их значению, они менее значимы по сравнению с длительностью и CPM.\n",
        "\n",
        "Важно отметить, что важность признаков не обязательно указывает на причинно-следственную связь. Высокая важность не всегда означает, что признак является причиной изменения целевой переменной; это может быть связано с корреляцией с другими признаками.\n",
        "\n",
        "Учитывая, что **duration** является самым важным признаком, стоит обратить внимание на его точность и качество данных. Возможно, стоит провести дополнительный анализ, чтобы понять, как именно он влияет на целевую переменную.\n",
        "\n",
        "Признаки с низкой важностью могут быть рассмотрены для исключения из модели, если они не добавляют значительной информации, что может помочь упростить модель и улучшить ее интерпретируемость, но учитывая малое количество признаков, это имеет смысл только при добавлении других более информативных признаков."
      ],
      "metadata": {
        "id": "xiXKEnNVE9ep"
      }
    }
  ]
}