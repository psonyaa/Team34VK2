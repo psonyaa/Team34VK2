{
  "nbformat": 4,
  "nbformat_minor": 0,
  "metadata": {
    "colab": {
      "provenance": []
    },
    "kernelspec": {
      "name": "python3",
      "display_name": "Python 3"
    },
    "language_info": {
      "name": "python"
    }
  },
  "cells": [
    {
      "cell_type": "code",
      "source": [
        "!pip install catboost optuna"
      ],
      "metadata": {
        "colab": {
          "base_uri": "https://localhost:8080/"
        },
        "id": "ktinYAU1XZbE",
        "outputId": "0285214e-1146-4a95-9b2a-53eb4a88c880"
      },
      "execution_count": 130,
      "outputs": [
        {
          "output_type": "stream",
          "name": "stdout",
          "text": [
            "Requirement already satisfied: catboost in /usr/local/lib/python3.10/dist-packages (1.2.7)\n",
            "Requirement already satisfied: optuna in /usr/local/lib/python3.10/dist-packages (4.1.0)\n",
            "Requirement already satisfied: graphviz in /usr/local/lib/python3.10/dist-packages (from catboost) (0.20.3)\n",
            "Requirement already satisfied: matplotlib in /usr/local/lib/python3.10/dist-packages (from catboost) (3.8.0)\n",
            "Requirement already satisfied: numpy<2.0,>=1.16.0 in /usr/local/lib/python3.10/dist-packages (from catboost) (1.26.4)\n",
            "Requirement already satisfied: pandas>=0.24 in /usr/local/lib/python3.10/dist-packages (from catboost) (2.2.2)\n",
            "Requirement already satisfied: scipy in /usr/local/lib/python3.10/dist-packages (from catboost) (1.13.1)\n",
            "Requirement already satisfied: plotly in /usr/local/lib/python3.10/dist-packages (from catboost) (5.24.1)\n",
            "Requirement already satisfied: six in /usr/local/lib/python3.10/dist-packages (from catboost) (1.17.0)\n",
            "Requirement already satisfied: alembic>=1.5.0 in /usr/local/lib/python3.10/dist-packages (from optuna) (1.14.0)\n",
            "Requirement already satisfied: colorlog in /usr/local/lib/python3.10/dist-packages (from optuna) (6.9.0)\n",
            "Requirement already satisfied: packaging>=20.0 in /usr/local/lib/python3.10/dist-packages (from optuna) (24.2)\n",
            "Requirement already satisfied: sqlalchemy>=1.4.2 in /usr/local/lib/python3.10/dist-packages (from optuna) (2.0.36)\n",
            "Requirement already satisfied: tqdm in /usr/local/lib/python3.10/dist-packages (from optuna) (4.66.6)\n",
            "Requirement already satisfied: PyYAML in /usr/local/lib/python3.10/dist-packages (from optuna) (6.0.2)\n",
            "Requirement already satisfied: Mako in /usr/local/lib/python3.10/dist-packages (from alembic>=1.5.0->optuna) (1.3.8)\n",
            "Requirement already satisfied: typing-extensions>=4 in /usr/local/lib/python3.10/dist-packages (from alembic>=1.5.0->optuna) (4.12.2)\n",
            "Requirement already satisfied: python-dateutil>=2.8.2 in /usr/local/lib/python3.10/dist-packages (from pandas>=0.24->catboost) (2.8.2)\n",
            "Requirement already satisfied: pytz>=2020.1 in /usr/local/lib/python3.10/dist-packages (from pandas>=0.24->catboost) (2024.2)\n",
            "Requirement already satisfied: tzdata>=2022.7 in /usr/local/lib/python3.10/dist-packages (from pandas>=0.24->catboost) (2024.2)\n",
            "Requirement already satisfied: greenlet!=0.4.17 in /usr/local/lib/python3.10/dist-packages (from sqlalchemy>=1.4.2->optuna) (3.1.1)\n",
            "Requirement already satisfied: contourpy>=1.0.1 in /usr/local/lib/python3.10/dist-packages (from matplotlib->catboost) (1.3.1)\n",
            "Requirement already satisfied: cycler>=0.10 in /usr/local/lib/python3.10/dist-packages (from matplotlib->catboost) (0.12.1)\n",
            "Requirement already satisfied: fonttools>=4.22.0 in /usr/local/lib/python3.10/dist-packages (from matplotlib->catboost) (4.55.2)\n",
            "Requirement already satisfied: kiwisolver>=1.0.1 in /usr/local/lib/python3.10/dist-packages (from matplotlib->catboost) (1.4.7)\n",
            "Requirement already satisfied: pillow>=6.2.0 in /usr/local/lib/python3.10/dist-packages (from matplotlib->catboost) (11.0.0)\n",
            "Requirement already satisfied: pyparsing>=2.3.1 in /usr/local/lib/python3.10/dist-packages (from matplotlib->catboost) (3.2.0)\n",
            "Requirement already satisfied: tenacity>=6.2.0 in /usr/local/lib/python3.10/dist-packages (from plotly->catboost) (9.0.0)\n",
            "Requirement already satisfied: MarkupSafe>=0.9.2 in /usr/local/lib/python3.10/dist-packages (from Mako->alembic>=1.5.0->optuna) (3.0.2)\n"
          ]
        }
      ]
    },
    {
      "cell_type": "code",
      "execution_count": 284,
      "metadata": {
        "id": "4nuBUmiYUyjZ"
      },
      "outputs": [],
      "source": [
        "import pandas as pd\n",
        "import numpy as np\n",
        "from tqdm import tqdm\n",
        "import optuna\n",
        "\n",
        "from sklearn.model_selection import train_test_split, cross_val_score\n",
        "from sklearn.pipeline import Pipeline\n",
        "from sklearn.preprocessing import StandardScaler\n",
        "from sklearn.base import BaseEstimator\n",
        "\n",
        "# Clssical ML Regression Models\n",
        "from sklearn.dummy import DummyRegressor\n",
        "from sklearn.linear_model import (\n",
        "    LinearRegression,\n",
        "    Lasso,\n",
        "    Ridge,\n",
        "    ElasticNet,\n",
        "    SGDRegressor,\n",
        ")\n",
        "from sklearn.svm import SVR\n",
        "from sklearn.tree import DecisionTreeRegressor\n",
        "from sklearn.ensemble import (\n",
        "    BaggingRegressor,\n",
        "    RandomForestRegressor,\n",
        "    AdaBoostRegressor,\n",
        "    GradientBoostingRegressor\n",
        ")\n",
        "from xgboost import XGBRegressor\n",
        "from catboost import CatBoostRegressor\n",
        "\n",
        "# Deep Model\n",
        "from tensorflow.keras.models import Sequential\n",
        "from tensorflow.keras.layers import (\n",
        "    Dense,\n",
        "    Dropout,\n",
        "    BatchNormalization\n",
        ")\n",
        "from tensorflow.keras.optimizers import Adam\n",
        "\n",
        "import warnings\n",
        "warnings.filterwarnings(\"ignore\")"
      ]
    },
    {
      "cell_type": "code",
      "source": [
        "X = pd.read_csv(\"X.csv\", index_col=0)\n",
        "X.info()"
      ],
      "metadata": {
        "colab": {
          "base_uri": "https://localhost:8080/"
        },
        "id": "KjrY6X_uVNTW",
        "outputId": "8c625927-3e31-4302-ca6f-a16d8e5773ad"
      },
      "execution_count": 285,
      "outputs": [
        {
          "output_type": "stream",
          "name": "stdout",
          "text": [
            "<class 'pandas.core.frame.DataFrame'>\n",
            "Index: 1008 entries, 0 to 1007\n",
            "Data columns (total 7 columns):\n",
            " #   Column            Non-Null Count  Dtype  \n",
            "---  ------            --------------  -----  \n",
            " 0   cpm               1008 non-null   float64\n",
            " 1   hour_start        1008 non-null   int64  \n",
            " 2   hour_end          1008 non-null   int64  \n",
            " 3   audience_size     1008 non-null   int64  \n",
            " 4   duration          1008 non-null   int64  \n",
            " 5   publishers_count  1008 non-null   int64  \n",
            " 6   middle_hour       1008 non-null   int64  \n",
            "dtypes: float64(1), int64(6)\n",
            "memory usage: 63.0 KB\n"
          ]
        }
      ]
    },
    {
      "cell_type": "code",
      "source": [
        "X.head()"
      ],
      "metadata": {
        "colab": {
          "base_uri": "https://localhost:8080/",
          "height": 226
        },
        "id": "LCAsoAoyVhE-",
        "outputId": "f49e45c4-316c-4f07-839c-fa005a0384bf"
      },
      "execution_count": 286,
      "outputs": [
        {
          "output_type": "execute_result",
          "data": {
            "text/plain": [
              "     cpm  hour_start  hour_end  audience_size  duration  publishers_count  \\\n",
              "0  220.0        1058      1153           1906        95                 2   \n",
              "1  312.0        1295      1301           1380         6                 2   \n",
              "2   70.0        1229      1249            888        20                 6   \n",
              "3  240.0        1295      1377            440        82                 2   \n",
              "4  262.0         752       990           1476       238                 4   \n",
              "\n",
              "   middle_hour  \n",
              "0         1106  \n",
              "1         1298  \n",
              "2         1239  \n",
              "3         1336  \n",
              "4          871  "
            ],
            "text/html": [
              "\n",
              "  <div id=\"df-05a646ae-0cd5-4481-8329-6dd54b8e48d1\" class=\"colab-df-container\">\n",
              "    <div>\n",
              "<style scoped>\n",
              "    .dataframe tbody tr th:only-of-type {\n",
              "        vertical-align: middle;\n",
              "    }\n",
              "\n",
              "    .dataframe tbody tr th {\n",
              "        vertical-align: top;\n",
              "    }\n",
              "\n",
              "    .dataframe thead th {\n",
              "        text-align: right;\n",
              "    }\n",
              "</style>\n",
              "<table border=\"1\" class=\"dataframe\">\n",
              "  <thead>\n",
              "    <tr style=\"text-align: right;\">\n",
              "      <th></th>\n",
              "      <th>cpm</th>\n",
              "      <th>hour_start</th>\n",
              "      <th>hour_end</th>\n",
              "      <th>audience_size</th>\n",
              "      <th>duration</th>\n",
              "      <th>publishers_count</th>\n",
              "      <th>middle_hour</th>\n",
              "    </tr>\n",
              "  </thead>\n",
              "  <tbody>\n",
              "    <tr>\n",
              "      <th>0</th>\n",
              "      <td>220.0</td>\n",
              "      <td>1058</td>\n",
              "      <td>1153</td>\n",
              "      <td>1906</td>\n",
              "      <td>95</td>\n",
              "      <td>2</td>\n",
              "      <td>1106</td>\n",
              "    </tr>\n",
              "    <tr>\n",
              "      <th>1</th>\n",
              "      <td>312.0</td>\n",
              "      <td>1295</td>\n",
              "      <td>1301</td>\n",
              "      <td>1380</td>\n",
              "      <td>6</td>\n",
              "      <td>2</td>\n",
              "      <td>1298</td>\n",
              "    </tr>\n",
              "    <tr>\n",
              "      <th>2</th>\n",
              "      <td>70.0</td>\n",
              "      <td>1229</td>\n",
              "      <td>1249</td>\n",
              "      <td>888</td>\n",
              "      <td>20</td>\n",
              "      <td>6</td>\n",
              "      <td>1239</td>\n",
              "    </tr>\n",
              "    <tr>\n",
              "      <th>3</th>\n",
              "      <td>240.0</td>\n",
              "      <td>1295</td>\n",
              "      <td>1377</td>\n",
              "      <td>440</td>\n",
              "      <td>82</td>\n",
              "      <td>2</td>\n",
              "      <td>1336</td>\n",
              "    </tr>\n",
              "    <tr>\n",
              "      <th>4</th>\n",
              "      <td>262.0</td>\n",
              "      <td>752</td>\n",
              "      <td>990</td>\n",
              "      <td>1476</td>\n",
              "      <td>238</td>\n",
              "      <td>4</td>\n",
              "      <td>871</td>\n",
              "    </tr>\n",
              "  </tbody>\n",
              "</table>\n",
              "</div>\n",
              "    <div class=\"colab-df-buttons\">\n",
              "\n",
              "  <div class=\"colab-df-container\">\n",
              "    <button class=\"colab-df-convert\" onclick=\"convertToInteractive('df-05a646ae-0cd5-4481-8329-6dd54b8e48d1')\"\n",
              "            title=\"Convert this dataframe to an interactive table.\"\n",
              "            style=\"display:none;\">\n",
              "\n",
              "  <svg xmlns=\"http://www.w3.org/2000/svg\" height=\"24px\" viewBox=\"0 -960 960 960\">\n",
              "    <path d=\"M120-120v-720h720v720H120Zm60-500h600v-160H180v160Zm220 220h160v-160H400v160Zm0 220h160v-160H400v160ZM180-400h160v-160H180v160Zm440 0h160v-160H620v160ZM180-180h160v-160H180v160Zm440 0h160v-160H620v160Z\"/>\n",
              "  </svg>\n",
              "    </button>\n",
              "\n",
              "  <style>\n",
              "    .colab-df-container {\n",
              "      display:flex;\n",
              "      gap: 12px;\n",
              "    }\n",
              "\n",
              "    .colab-df-convert {\n",
              "      background-color: #E8F0FE;\n",
              "      border: none;\n",
              "      border-radius: 50%;\n",
              "      cursor: pointer;\n",
              "      display: none;\n",
              "      fill: #1967D2;\n",
              "      height: 32px;\n",
              "      padding: 0 0 0 0;\n",
              "      width: 32px;\n",
              "    }\n",
              "\n",
              "    .colab-df-convert:hover {\n",
              "      background-color: #E2EBFA;\n",
              "      box-shadow: 0px 1px 2px rgba(60, 64, 67, 0.3), 0px 1px 3px 1px rgba(60, 64, 67, 0.15);\n",
              "      fill: #174EA6;\n",
              "    }\n",
              "\n",
              "    .colab-df-buttons div {\n",
              "      margin-bottom: 4px;\n",
              "    }\n",
              "\n",
              "    [theme=dark] .colab-df-convert {\n",
              "      background-color: #3B4455;\n",
              "      fill: #D2E3FC;\n",
              "    }\n",
              "\n",
              "    [theme=dark] .colab-df-convert:hover {\n",
              "      background-color: #434B5C;\n",
              "      box-shadow: 0px 1px 3px 1px rgba(0, 0, 0, 0.15);\n",
              "      filter: drop-shadow(0px 1px 2px rgba(0, 0, 0, 0.3));\n",
              "      fill: #FFFFFF;\n",
              "    }\n",
              "  </style>\n",
              "\n",
              "    <script>\n",
              "      const buttonEl =\n",
              "        document.querySelector('#df-05a646ae-0cd5-4481-8329-6dd54b8e48d1 button.colab-df-convert');\n",
              "      buttonEl.style.display =\n",
              "        google.colab.kernel.accessAllowed ? 'block' : 'none';\n",
              "\n",
              "      async function convertToInteractive(key) {\n",
              "        const element = document.querySelector('#df-05a646ae-0cd5-4481-8329-6dd54b8e48d1');\n",
              "        const dataTable =\n",
              "          await google.colab.kernel.invokeFunction('convertToInteractive',\n",
              "                                                    [key], {});\n",
              "        if (!dataTable) return;\n",
              "\n",
              "        const docLinkHtml = 'Like what you see? Visit the ' +\n",
              "          '<a target=\"_blank\" href=https://colab.research.google.com/notebooks/data_table.ipynb>data table notebook</a>'\n",
              "          + ' to learn more about interactive tables.';\n",
              "        element.innerHTML = '';\n",
              "        dataTable['output_type'] = 'display_data';\n",
              "        await google.colab.output.renderOutput(dataTable, element);\n",
              "        const docLink = document.createElement('div');\n",
              "        docLink.innerHTML = docLinkHtml;\n",
              "        element.appendChild(docLink);\n",
              "      }\n",
              "    </script>\n",
              "  </div>\n",
              "\n",
              "\n",
              "<div id=\"df-1c91cf2b-70fe-4d1c-bb5c-28824999cb76\">\n",
              "  <button class=\"colab-df-quickchart\" onclick=\"quickchart('df-1c91cf2b-70fe-4d1c-bb5c-28824999cb76')\"\n",
              "            title=\"Suggest charts\"\n",
              "            style=\"display:none;\">\n",
              "\n",
              "<svg xmlns=\"http://www.w3.org/2000/svg\" height=\"24px\"viewBox=\"0 0 24 24\"\n",
              "     width=\"24px\">\n",
              "    <g>\n",
              "        <path d=\"M19 3H5c-1.1 0-2 .9-2 2v14c0 1.1.9 2 2 2h14c1.1 0 2-.9 2-2V5c0-1.1-.9-2-2-2zM9 17H7v-7h2v7zm4 0h-2V7h2v10zm4 0h-2v-4h2v4z\"/>\n",
              "    </g>\n",
              "</svg>\n",
              "  </button>\n",
              "\n",
              "<style>\n",
              "  .colab-df-quickchart {\n",
              "      --bg-color: #E8F0FE;\n",
              "      --fill-color: #1967D2;\n",
              "      --hover-bg-color: #E2EBFA;\n",
              "      --hover-fill-color: #174EA6;\n",
              "      --disabled-fill-color: #AAA;\n",
              "      --disabled-bg-color: #DDD;\n",
              "  }\n",
              "\n",
              "  [theme=dark] .colab-df-quickchart {\n",
              "      --bg-color: #3B4455;\n",
              "      --fill-color: #D2E3FC;\n",
              "      --hover-bg-color: #434B5C;\n",
              "      --hover-fill-color: #FFFFFF;\n",
              "      --disabled-bg-color: #3B4455;\n",
              "      --disabled-fill-color: #666;\n",
              "  }\n",
              "\n",
              "  .colab-df-quickchart {\n",
              "    background-color: var(--bg-color);\n",
              "    border: none;\n",
              "    border-radius: 50%;\n",
              "    cursor: pointer;\n",
              "    display: none;\n",
              "    fill: var(--fill-color);\n",
              "    height: 32px;\n",
              "    padding: 0;\n",
              "    width: 32px;\n",
              "  }\n",
              "\n",
              "  .colab-df-quickchart:hover {\n",
              "    background-color: var(--hover-bg-color);\n",
              "    box-shadow: 0 1px 2px rgba(60, 64, 67, 0.3), 0 1px 3px 1px rgba(60, 64, 67, 0.15);\n",
              "    fill: var(--button-hover-fill-color);\n",
              "  }\n",
              "\n",
              "  .colab-df-quickchart-complete:disabled,\n",
              "  .colab-df-quickchart-complete:disabled:hover {\n",
              "    background-color: var(--disabled-bg-color);\n",
              "    fill: var(--disabled-fill-color);\n",
              "    box-shadow: none;\n",
              "  }\n",
              "\n",
              "  .colab-df-spinner {\n",
              "    border: 2px solid var(--fill-color);\n",
              "    border-color: transparent;\n",
              "    border-bottom-color: var(--fill-color);\n",
              "    animation:\n",
              "      spin 1s steps(1) infinite;\n",
              "  }\n",
              "\n",
              "  @keyframes spin {\n",
              "    0% {\n",
              "      border-color: transparent;\n",
              "      border-bottom-color: var(--fill-color);\n",
              "      border-left-color: var(--fill-color);\n",
              "    }\n",
              "    20% {\n",
              "      border-color: transparent;\n",
              "      border-left-color: var(--fill-color);\n",
              "      border-top-color: var(--fill-color);\n",
              "    }\n",
              "    30% {\n",
              "      border-color: transparent;\n",
              "      border-left-color: var(--fill-color);\n",
              "      border-top-color: var(--fill-color);\n",
              "      border-right-color: var(--fill-color);\n",
              "    }\n",
              "    40% {\n",
              "      border-color: transparent;\n",
              "      border-right-color: var(--fill-color);\n",
              "      border-top-color: var(--fill-color);\n",
              "    }\n",
              "    60% {\n",
              "      border-color: transparent;\n",
              "      border-right-color: var(--fill-color);\n",
              "    }\n",
              "    80% {\n",
              "      border-color: transparent;\n",
              "      border-right-color: var(--fill-color);\n",
              "      border-bottom-color: var(--fill-color);\n",
              "    }\n",
              "    90% {\n",
              "      border-color: transparent;\n",
              "      border-bottom-color: var(--fill-color);\n",
              "    }\n",
              "  }\n",
              "</style>\n",
              "\n",
              "  <script>\n",
              "    async function quickchart(key) {\n",
              "      const quickchartButtonEl =\n",
              "        document.querySelector('#' + key + ' button');\n",
              "      quickchartButtonEl.disabled = true;  // To prevent multiple clicks.\n",
              "      quickchartButtonEl.classList.add('colab-df-spinner');\n",
              "      try {\n",
              "        const charts = await google.colab.kernel.invokeFunction(\n",
              "            'suggestCharts', [key], {});\n",
              "      } catch (error) {\n",
              "        console.error('Error during call to suggestCharts:', error);\n",
              "      }\n",
              "      quickchartButtonEl.classList.remove('colab-df-spinner');\n",
              "      quickchartButtonEl.classList.add('colab-df-quickchart-complete');\n",
              "    }\n",
              "    (() => {\n",
              "      let quickchartButtonEl =\n",
              "        document.querySelector('#df-1c91cf2b-70fe-4d1c-bb5c-28824999cb76 button');\n",
              "      quickchartButtonEl.style.display =\n",
              "        google.colab.kernel.accessAllowed ? 'block' : 'none';\n",
              "    })();\n",
              "  </script>\n",
              "</div>\n",
              "    </div>\n",
              "  </div>\n"
            ],
            "application/vnd.google.colaboratory.intrinsic+json": {
              "type": "dataframe",
              "variable_name": "X",
              "summary": "{\n  \"name\": \"X\",\n  \"rows\": 1008,\n  \"fields\": [\n    {\n      \"column\": \"cpm\",\n      \"properties\": {\n        \"dtype\": \"number\",\n        \"std\": 112.19298356277824,\n        \"min\": 30.0,\n        \"max\": 475.0,\n        \"num_unique_values\": 253,\n        \"samples\": [\n          272.0,\n          250.0,\n          268.0\n        ],\n        \"semantic_type\": \"\",\n        \"description\": \"\"\n      }\n    },\n    {\n      \"column\": \"hour_start\",\n      \"properties\": {\n        \"dtype\": \"number\",\n        \"std\": 192,\n        \"min\": 747,\n        \"max\": 1485,\n        \"num_unique_values\": 538,\n        \"samples\": [\n          876,\n          932,\n          1039\n        ],\n        \"semantic_type\": \"\",\n        \"description\": \"\"\n      }\n    },\n    {\n      \"column\": \"hour_end\",\n      \"properties\": {\n        \"dtype\": \"number\",\n        \"std\": 192,\n        \"min\": 753,\n        \"max\": 1488,\n        \"num_unique_values\": 544,\n        \"samples\": [\n          914,\n          972,\n          944\n        ],\n        \"semantic_type\": \"\",\n        \"description\": \"\"\n      }\n    },\n    {\n      \"column\": \"audience_size\",\n      \"properties\": {\n        \"dtype\": \"number\",\n        \"std\": 613,\n        \"min\": 300,\n        \"max\": 2500,\n        \"num_unique_values\": 205,\n        \"samples\": [\n          1020,\n          972,\n          432\n        ],\n        \"semantic_type\": \"\",\n        \"description\": \"\"\n      }\n    },\n    {\n      \"column\": \"duration\",\n      \"properties\": {\n        \"dtype\": \"number\",\n        \"std\": 126,\n        \"min\": 2,\n        \"max\": 503,\n        \"num_unique_values\": 297,\n        \"samples\": [\n          113,\n          330,\n          12\n        ],\n        \"semantic_type\": \"\",\n        \"description\": \"\"\n      }\n    },\n    {\n      \"column\": \"publishers_count\",\n      \"properties\": {\n        \"dtype\": \"number\",\n        \"std\": 1,\n        \"min\": 1,\n        \"max\": 6,\n        \"num_unique_values\": 6,\n        \"samples\": [\n          2,\n          6,\n          1\n        ],\n        \"semantic_type\": \"\",\n        \"description\": \"\"\n      }\n    },\n    {\n      \"column\": \"middle_hour\",\n      \"properties\": {\n        \"dtype\": \"number\",\n        \"std\": 181,\n        \"min\": 752,\n        \"max\": 1486,\n        \"num_unique_values\": 495,\n        \"samples\": [\n          995,\n          904,\n          770\n        ],\n        \"semantic_type\": \"\",\n        \"description\": \"\"\n      }\n    }\n  ]\n}"
            }
          },
          "metadata": {},
          "execution_count": 286
        }
      ]
    },
    {
      "cell_type": "code",
      "source": [
        "y = pd.read_csv(\"y.csv\", index_col=0)\n",
        "y.info()"
      ],
      "metadata": {
        "colab": {
          "base_uri": "https://localhost:8080/"
        },
        "id": "p-5kmmSbVcGe",
        "outputId": "9465ac84-1be4-41fc-f584-677adfcd0643"
      },
      "execution_count": 287,
      "outputs": [
        {
          "output_type": "stream",
          "name": "stdout",
          "text": [
            "<class 'pandas.core.frame.DataFrame'>\n",
            "Index: 1008 entries, 0 to 1007\n",
            "Data columns (total 3 columns):\n",
            " #   Column          Non-Null Count  Dtype  \n",
            "---  ------          --------------  -----  \n",
            " 0   at_least_one    1008 non-null   float64\n",
            " 1   at_least_two    1008 non-null   float64\n",
            " 2   at_least_three  1008 non-null   float64\n",
            "dtypes: float64(3)\n",
            "memory usage: 31.5 KB\n"
          ]
        }
      ]
    },
    {
      "cell_type": "code",
      "source": [
        "y.head()"
      ],
      "metadata": {
        "colab": {
          "base_uri": "https://localhost:8080/",
          "height": 206
        },
        "id": "6I-pltD1VvBv",
        "outputId": "745493af-5a8d-4b22-f3fc-2326e3e6405c"
      },
      "execution_count": 288,
      "outputs": [
        {
          "output_type": "execute_result",
          "data": {
            "text/plain": [
              "   at_least_one  at_least_two  at_least_three\n",
              "0        0.0430        0.0152          0.0073\n",
              "1        0.0130        0.0000          0.0000\n",
              "2        0.0878        0.0135          0.0000\n",
              "3        0.2295        0.1295          0.0727\n",
              "4        0.3963        0.2785          0.2270"
            ],
            "text/html": [
              "\n",
              "  <div id=\"df-407b5cd0-0a6a-4baa-91ac-46a06250d5b7\" class=\"colab-df-container\">\n",
              "    <div>\n",
              "<style scoped>\n",
              "    .dataframe tbody tr th:only-of-type {\n",
              "        vertical-align: middle;\n",
              "    }\n",
              "\n",
              "    .dataframe tbody tr th {\n",
              "        vertical-align: top;\n",
              "    }\n",
              "\n",
              "    .dataframe thead th {\n",
              "        text-align: right;\n",
              "    }\n",
              "</style>\n",
              "<table border=\"1\" class=\"dataframe\">\n",
              "  <thead>\n",
              "    <tr style=\"text-align: right;\">\n",
              "      <th></th>\n",
              "      <th>at_least_one</th>\n",
              "      <th>at_least_two</th>\n",
              "      <th>at_least_three</th>\n",
              "    </tr>\n",
              "  </thead>\n",
              "  <tbody>\n",
              "    <tr>\n",
              "      <th>0</th>\n",
              "      <td>0.0430</td>\n",
              "      <td>0.0152</td>\n",
              "      <td>0.0073</td>\n",
              "    </tr>\n",
              "    <tr>\n",
              "      <th>1</th>\n",
              "      <td>0.0130</td>\n",
              "      <td>0.0000</td>\n",
              "      <td>0.0000</td>\n",
              "    </tr>\n",
              "    <tr>\n",
              "      <th>2</th>\n",
              "      <td>0.0878</td>\n",
              "      <td>0.0135</td>\n",
              "      <td>0.0000</td>\n",
              "    </tr>\n",
              "    <tr>\n",
              "      <th>3</th>\n",
              "      <td>0.2295</td>\n",
              "      <td>0.1295</td>\n",
              "      <td>0.0727</td>\n",
              "    </tr>\n",
              "    <tr>\n",
              "      <th>4</th>\n",
              "      <td>0.3963</td>\n",
              "      <td>0.2785</td>\n",
              "      <td>0.2270</td>\n",
              "    </tr>\n",
              "  </tbody>\n",
              "</table>\n",
              "</div>\n",
              "    <div class=\"colab-df-buttons\">\n",
              "\n",
              "  <div class=\"colab-df-container\">\n",
              "    <button class=\"colab-df-convert\" onclick=\"convertToInteractive('df-407b5cd0-0a6a-4baa-91ac-46a06250d5b7')\"\n",
              "            title=\"Convert this dataframe to an interactive table.\"\n",
              "            style=\"display:none;\">\n",
              "\n",
              "  <svg xmlns=\"http://www.w3.org/2000/svg\" height=\"24px\" viewBox=\"0 -960 960 960\">\n",
              "    <path d=\"M120-120v-720h720v720H120Zm60-500h600v-160H180v160Zm220 220h160v-160H400v160Zm0 220h160v-160H400v160ZM180-400h160v-160H180v160Zm440 0h160v-160H620v160ZM180-180h160v-160H180v160Zm440 0h160v-160H620v160Z\"/>\n",
              "  </svg>\n",
              "    </button>\n",
              "\n",
              "  <style>\n",
              "    .colab-df-container {\n",
              "      display:flex;\n",
              "      gap: 12px;\n",
              "    }\n",
              "\n",
              "    .colab-df-convert {\n",
              "      background-color: #E8F0FE;\n",
              "      border: none;\n",
              "      border-radius: 50%;\n",
              "      cursor: pointer;\n",
              "      display: none;\n",
              "      fill: #1967D2;\n",
              "      height: 32px;\n",
              "      padding: 0 0 0 0;\n",
              "      width: 32px;\n",
              "    }\n",
              "\n",
              "    .colab-df-convert:hover {\n",
              "      background-color: #E2EBFA;\n",
              "      box-shadow: 0px 1px 2px rgba(60, 64, 67, 0.3), 0px 1px 3px 1px rgba(60, 64, 67, 0.15);\n",
              "      fill: #174EA6;\n",
              "    }\n",
              "\n",
              "    .colab-df-buttons div {\n",
              "      margin-bottom: 4px;\n",
              "    }\n",
              "\n",
              "    [theme=dark] .colab-df-convert {\n",
              "      background-color: #3B4455;\n",
              "      fill: #D2E3FC;\n",
              "    }\n",
              "\n",
              "    [theme=dark] .colab-df-convert:hover {\n",
              "      background-color: #434B5C;\n",
              "      box-shadow: 0px 1px 3px 1px rgba(0, 0, 0, 0.15);\n",
              "      filter: drop-shadow(0px 1px 2px rgba(0, 0, 0, 0.3));\n",
              "      fill: #FFFFFF;\n",
              "    }\n",
              "  </style>\n",
              "\n",
              "    <script>\n",
              "      const buttonEl =\n",
              "        document.querySelector('#df-407b5cd0-0a6a-4baa-91ac-46a06250d5b7 button.colab-df-convert');\n",
              "      buttonEl.style.display =\n",
              "        google.colab.kernel.accessAllowed ? 'block' : 'none';\n",
              "\n",
              "      async function convertToInteractive(key) {\n",
              "        const element = document.querySelector('#df-407b5cd0-0a6a-4baa-91ac-46a06250d5b7');\n",
              "        const dataTable =\n",
              "          await google.colab.kernel.invokeFunction('convertToInteractive',\n",
              "                                                    [key], {});\n",
              "        if (!dataTable) return;\n",
              "\n",
              "        const docLinkHtml = 'Like what you see? Visit the ' +\n",
              "          '<a target=\"_blank\" href=https://colab.research.google.com/notebooks/data_table.ipynb>data table notebook</a>'\n",
              "          + ' to learn more about interactive tables.';\n",
              "        element.innerHTML = '';\n",
              "        dataTable['output_type'] = 'display_data';\n",
              "        await google.colab.output.renderOutput(dataTable, element);\n",
              "        const docLink = document.createElement('div');\n",
              "        docLink.innerHTML = docLinkHtml;\n",
              "        element.appendChild(docLink);\n",
              "      }\n",
              "    </script>\n",
              "  </div>\n",
              "\n",
              "\n",
              "<div id=\"df-97b74bca-b521-4e64-9299-e2d728f4209d\">\n",
              "  <button class=\"colab-df-quickchart\" onclick=\"quickchart('df-97b74bca-b521-4e64-9299-e2d728f4209d')\"\n",
              "            title=\"Suggest charts\"\n",
              "            style=\"display:none;\">\n",
              "\n",
              "<svg xmlns=\"http://www.w3.org/2000/svg\" height=\"24px\"viewBox=\"0 0 24 24\"\n",
              "     width=\"24px\">\n",
              "    <g>\n",
              "        <path d=\"M19 3H5c-1.1 0-2 .9-2 2v14c0 1.1.9 2 2 2h14c1.1 0 2-.9 2-2V5c0-1.1-.9-2-2-2zM9 17H7v-7h2v7zm4 0h-2V7h2v10zm4 0h-2v-4h2v4z\"/>\n",
              "    </g>\n",
              "</svg>\n",
              "  </button>\n",
              "\n",
              "<style>\n",
              "  .colab-df-quickchart {\n",
              "      --bg-color: #E8F0FE;\n",
              "      --fill-color: #1967D2;\n",
              "      --hover-bg-color: #E2EBFA;\n",
              "      --hover-fill-color: #174EA6;\n",
              "      --disabled-fill-color: #AAA;\n",
              "      --disabled-bg-color: #DDD;\n",
              "  }\n",
              "\n",
              "  [theme=dark] .colab-df-quickchart {\n",
              "      --bg-color: #3B4455;\n",
              "      --fill-color: #D2E3FC;\n",
              "      --hover-bg-color: #434B5C;\n",
              "      --hover-fill-color: #FFFFFF;\n",
              "      --disabled-bg-color: #3B4455;\n",
              "      --disabled-fill-color: #666;\n",
              "  }\n",
              "\n",
              "  .colab-df-quickchart {\n",
              "    background-color: var(--bg-color);\n",
              "    border: none;\n",
              "    border-radius: 50%;\n",
              "    cursor: pointer;\n",
              "    display: none;\n",
              "    fill: var(--fill-color);\n",
              "    height: 32px;\n",
              "    padding: 0;\n",
              "    width: 32px;\n",
              "  }\n",
              "\n",
              "  .colab-df-quickchart:hover {\n",
              "    background-color: var(--hover-bg-color);\n",
              "    box-shadow: 0 1px 2px rgba(60, 64, 67, 0.3), 0 1px 3px 1px rgba(60, 64, 67, 0.15);\n",
              "    fill: var(--button-hover-fill-color);\n",
              "  }\n",
              "\n",
              "  .colab-df-quickchart-complete:disabled,\n",
              "  .colab-df-quickchart-complete:disabled:hover {\n",
              "    background-color: var(--disabled-bg-color);\n",
              "    fill: var(--disabled-fill-color);\n",
              "    box-shadow: none;\n",
              "  }\n",
              "\n",
              "  .colab-df-spinner {\n",
              "    border: 2px solid var(--fill-color);\n",
              "    border-color: transparent;\n",
              "    border-bottom-color: var(--fill-color);\n",
              "    animation:\n",
              "      spin 1s steps(1) infinite;\n",
              "  }\n",
              "\n",
              "  @keyframes spin {\n",
              "    0% {\n",
              "      border-color: transparent;\n",
              "      border-bottom-color: var(--fill-color);\n",
              "      border-left-color: var(--fill-color);\n",
              "    }\n",
              "    20% {\n",
              "      border-color: transparent;\n",
              "      border-left-color: var(--fill-color);\n",
              "      border-top-color: var(--fill-color);\n",
              "    }\n",
              "    30% {\n",
              "      border-color: transparent;\n",
              "      border-left-color: var(--fill-color);\n",
              "      border-top-color: var(--fill-color);\n",
              "      border-right-color: var(--fill-color);\n",
              "    }\n",
              "    40% {\n",
              "      border-color: transparent;\n",
              "      border-right-color: var(--fill-color);\n",
              "      border-top-color: var(--fill-color);\n",
              "    }\n",
              "    60% {\n",
              "      border-color: transparent;\n",
              "      border-right-color: var(--fill-color);\n",
              "    }\n",
              "    80% {\n",
              "      border-color: transparent;\n",
              "      border-right-color: var(--fill-color);\n",
              "      border-bottom-color: var(--fill-color);\n",
              "    }\n",
              "    90% {\n",
              "      border-color: transparent;\n",
              "      border-bottom-color: var(--fill-color);\n",
              "    }\n",
              "  }\n",
              "</style>\n",
              "\n",
              "  <script>\n",
              "    async function quickchart(key) {\n",
              "      const quickchartButtonEl =\n",
              "        document.querySelector('#' + key + ' button');\n",
              "      quickchartButtonEl.disabled = true;  // To prevent multiple clicks.\n",
              "      quickchartButtonEl.classList.add('colab-df-spinner');\n",
              "      try {\n",
              "        const charts = await google.colab.kernel.invokeFunction(\n",
              "            'suggestCharts', [key], {});\n",
              "      } catch (error) {\n",
              "        console.error('Error during call to suggestCharts:', error);\n",
              "      }\n",
              "      quickchartButtonEl.classList.remove('colab-df-spinner');\n",
              "      quickchartButtonEl.classList.add('colab-df-quickchart-complete');\n",
              "    }\n",
              "    (() => {\n",
              "      let quickchartButtonEl =\n",
              "        document.querySelector('#df-97b74bca-b521-4e64-9299-e2d728f4209d button');\n",
              "      quickchartButtonEl.style.display =\n",
              "        google.colab.kernel.accessAllowed ? 'block' : 'none';\n",
              "    })();\n",
              "  </script>\n",
              "</div>\n",
              "    </div>\n",
              "  </div>\n"
            ],
            "application/vnd.google.colaboratory.intrinsic+json": {
              "type": "dataframe",
              "variable_name": "y",
              "summary": "{\n  \"name\": \"y\",\n  \"rows\": 1008,\n  \"fields\": [\n    {\n      \"column\": \"at_least_one\",\n      \"properties\": {\n        \"dtype\": \"number\",\n        \"std\": 0.14614643920169684,\n        \"min\": 0.0,\n        \"max\": 0.9307,\n        \"num_unique_values\": 755,\n        \"samples\": [\n          0.0451,\n          0.1394,\n          0.0546\n        ],\n        \"semantic_type\": \"\",\n        \"description\": \"\"\n      }\n    },\n    {\n      \"column\": \"at_least_two\",\n      \"properties\": {\n        \"dtype\": \"number\",\n        \"std\": 0.11781225800493376,\n        \"min\": 0.0,\n        \"max\": 0.9097,\n        \"num_unique_values\": 521,\n        \"samples\": [\n          0.0851,\n          0.0295,\n          0.2917\n        ],\n        \"semantic_type\": \"\",\n        \"description\": \"\"\n      }\n    },\n    {\n      \"column\": \"at_least_three\",\n      \"properties\": {\n        \"dtype\": \"number\",\n        \"std\": 0.09902919035986087,\n        \"min\": 0.0,\n        \"max\": 0.8834,\n        \"num_unique_values\": 424,\n        \"samples\": [\n          0.1163,\n          0.0172,\n          0.004\n        ],\n        \"semantic_type\": \"\",\n        \"description\": \"\"\n      }\n    }\n  ]\n}"
            }
          },
          "metadata": {},
          "execution_count": 288
        }
      ]
    },
    {
      "cell_type": "code",
      "source": [
        "X_train, X_test, y_train, y_test = train_test_split(X, y, test_size=0.2)\n",
        "X_train.shape, X_test.shape, y_train.shape, y_test.shape"
      ],
      "metadata": {
        "colab": {
          "base_uri": "https://localhost:8080/"
        },
        "id": "2ro4uGUqV4hY",
        "outputId": "15380bc6-3349-4ad9-8e69-db74bab7452c"
      },
      "execution_count": 289,
      "outputs": [
        {
          "output_type": "execute_result",
          "data": {
            "text/plain": [
              "((806, 7), (202, 7), (806, 3), (202, 3))"
            ]
          },
          "metadata": {},
          "execution_count": 289
        }
      ]
    },
    {
      "cell_type": "code",
      "source": [
        "scaler = StandardScaler()\n",
        "X_train_scaled = scaler.fit_transform(X_train)\n",
        "X_test_scaled = scaler.transform(X_test)"
      ],
      "metadata": {
        "id": "Vp7t6GW6cxSY"
      },
      "execution_count": 290,
      "outputs": []
    },
    {
      "cell_type": "code",
      "source": [
        "train_data = (X_train_scaled, y_train)\n",
        "test_data = (X_test_scaled, y_test)"
      ],
      "metadata": {
        "id": "VYKua2CfhLv3"
      },
      "execution_count": 291,
      "outputs": []
    },
    {
      "cell_type": "code",
      "source": [
        "EPS = 0.005\n",
        "\n",
        "def log_mape_column_value(responses_column, answers_column, epsilon=EPS):\n",
        "    return np.abs(np.log(\n",
        "        (responses_column + epsilon) / (answers_column + epsilon)\n",
        "    )).mean()\n",
        "\n",
        "def mean_log_accuracy_ratio(answers, responses, epsilon=EPS):\n",
        "    log_accuracy_ratio_mean = np.array(\n",
        "        [\n",
        "            log_mape_column_value(responses.at_least_one, answers.at_least_one, epsilon),\n",
        "            log_mape_column_value(responses.at_least_two, answers.at_least_two, epsilon),\n",
        "            log_mape_column_value(responses.at_least_three, answers.at_least_three, epsilon),\n",
        "        ]\n",
        "    ).mean()\n",
        "\n",
        "    percentage_error = 100 * (np.exp(log_accuracy_ratio_mean) - 1)\n",
        "\n",
        "    return percentage_error.round(decimals=2)"
      ],
      "metadata": {
        "id": "9uGnN0nebVbm"
      },
      "execution_count": 292,
      "outputs": []
    },
    {
      "cell_type": "code",
      "source": [
        "def try_model_on_sample(\n",
        "    model_class: BaseEstimator,\n",
        "    train_data: tuple[pd.DataFrame],\n",
        "    test_data: tuple[pd.DataFrame],\n",
        "    **model_params\n",
        ") -> float:\n",
        "\n",
        "    y_pred = test_data[1].copy()\n",
        "\n",
        "    for i in range(3):\n",
        "        model = model_class(**model_params)\n",
        "        model.fit(train_data[0], train_data[1].iloc[:, i])\n",
        "        pred = model.predict(test_data[0])\n",
        "        y_pred.iloc[:, i] = pred\n",
        "\n",
        "    return mean_log_accuracy_ratio(y_pred, test_data[1])\n",
        "\n",
        "\n",
        "def try_model(\n",
        "    model_class: BaseEstimator,\n",
        "    X: pd.DataFrame,\n",
        "    y: pd.DataFrame,\n",
        "    n_times: int=5,\n",
        "    **model_params\n",
        ") -> float:\n",
        "\n",
        "    results = np.zeros(n_times)\n",
        "\n",
        "    for i in range(n_times):\n",
        "        X_train, X_test, y_train, y_test = train_test_split(\n",
        "            X, y,\n",
        "            test_size=0.2\n",
        "        )\n",
        "\n",
        "        scaler = StandardScaler()\n",
        "        X_train_scaled = scaler.fit_transform(X_train)\n",
        "        X_test_scaled = scaler.transform(X_test)\n",
        "\n",
        "        train_data = (X_train_scaled, y_train)\n",
        "        test_data = (X_test_scaled, y_test)\n",
        "\n",
        "        results[i] = try_model_on_sample(\n",
        "            model_class,\n",
        "            train_data,\n",
        "            test_data,\n",
        "            **model_params\n",
        "        )\n",
        "\n",
        "    return results.mean()\n"
      ],
      "metadata": {
        "id": "QMfdorMPdgPO"
      },
      "execution_count": 293,
      "outputs": []
    },
    {
      "cell_type": "code",
      "source": [
        "model_results = pd.Series()"
      ],
      "metadata": {
        "id": "w2QpgEkir6oO"
      },
      "execution_count": 188,
      "outputs": []
    },
    {
      "cell_type": "markdown",
      "source": [
        "# Случайное предсказание"
      ],
      "metadata": {
        "id": "xBecLsaAcod0"
      }
    },
    {
      "cell_type": "code",
      "source": [
        "dummy_result = try_model(\n",
        "    DummyRegressor, X, y\n",
        ")\n",
        "\n",
        "model_results[\"dummy\"] = dummy_result\n",
        "dummy_result"
      ],
      "metadata": {
        "colab": {
          "base_uri": "https://localhost:8080/"
        },
        "id": "TREuuQUHct2L",
        "outputId": "78760711-42ea-473e-93ce-8580c7262637"
      },
      "execution_count": 189,
      "outputs": [
        {
          "output_type": "execute_result",
          "data": {
            "text/plain": [
              "363.318"
            ]
          },
          "metadata": {},
          "execution_count": 189
        }
      ]
    },
    {
      "cell_type": "markdown",
      "source": [
        "# Линейные модели"
      ],
      "metadata": {
        "id": "QPwNNyuHbIQs"
      }
    },
    {
      "cell_type": "code",
      "source": [
        "linear_regression_result = try_model(\n",
        "    LinearRegression, X, y\n",
        ")\n",
        "\n",
        "model_results[\"linear_regression\"] = linear_regression_result\n",
        "linear_regression_result"
      ],
      "metadata": {
        "colab": {
          "base_uri": "https://localhost:8080/"
        },
        "id": "cH2ahiAJbLg1",
        "outputId": "30ba6c41-b444-4dbf-c021-2ce80c87d3a2"
      },
      "execution_count": 190,
      "outputs": [
        {
          "output_type": "execute_result",
          "data": {
            "text/plain": [
              "186.536"
            ]
          },
          "metadata": {},
          "execution_count": 190
        }
      ]
    },
    {
      "cell_type": "code",
      "source": [
        "lasso_regression_result = try_model(\n",
        "    Lasso, X, y\n",
        ")\n",
        "\n",
        "model_results[\"lasso\"] = lasso_regression_result\n",
        "lasso_regression_result"
      ],
      "metadata": {
        "colab": {
          "base_uri": "https://localhost:8080/"
        },
        "id": "dZd16ky9nAiS",
        "outputId": "584fc992-2e30-485c-b71f-67635c24ab27"
      },
      "execution_count": 191,
      "outputs": [
        {
          "output_type": "execute_result",
          "data": {
            "text/plain": [
              "359.08399999999995"
            ]
          },
          "metadata": {},
          "execution_count": 191
        }
      ]
    },
    {
      "cell_type": "code",
      "source": [
        "ridge_regression_result = try_model(\n",
        "    Ridge, X, y\n",
        ")\n",
        "\n",
        "model_results[\"ridge\"] = ridge_regression_result\n",
        "ridge_regression_result"
      ],
      "metadata": {
        "colab": {
          "base_uri": "https://localhost:8080/"
        },
        "id": "IY-VXpT1nILx",
        "outputId": "954cecc4-65c5-4cde-cf8b-bbaa28622952"
      },
      "execution_count": 192,
      "outputs": [
        {
          "output_type": "execute_result",
          "data": {
            "text/plain": [
              "193.53799999999998"
            ]
          },
          "metadata": {},
          "execution_count": 192
        }
      ]
    },
    {
      "cell_type": "code",
      "source": [
        "elastic_net_regression_result = try_model(\n",
        "    ElasticNet, X, y\n",
        ")\n",
        "\n",
        "model_results[\"elastic_net\"] = elastic_net_regression_result\n",
        "elastic_net_regression_result"
      ],
      "metadata": {
        "colab": {
          "base_uri": "https://localhost:8080/"
        },
        "id": "T2tbLfS6nRke",
        "outputId": "dbe0b827-f394-4c73-8ac0-9d19ab42be12"
      },
      "execution_count": 193,
      "outputs": [
        {
          "output_type": "execute_result",
          "data": {
            "text/plain": [
              "362.266"
            ]
          },
          "metadata": {},
          "execution_count": 193
        }
      ]
    },
    {
      "cell_type": "code",
      "source": [
        "sgd_regression_result = try_model(\n",
        "    SGDRegressor, X, y\n",
        ")\n",
        "\n",
        "model_results[\"sgd\"] = sgd_regression_result\n",
        "sgd_regression_result"
      ],
      "metadata": {
        "colab": {
          "base_uri": "https://localhost:8080/"
        },
        "id": "oNTKdU5onf8b",
        "outputId": "d982e4cf-361a-43d6-e306-4de858649bd2"
      },
      "execution_count": 194,
      "outputs": [
        {
          "output_type": "execute_result",
          "data": {
            "text/plain": [
              "186.13"
            ]
          },
          "metadata": {},
          "execution_count": 194
        }
      ]
    },
    {
      "cell_type": "markdown",
      "source": [
        "# Метод опорных веторов"
      ],
      "metadata": {
        "id": "qwFFm6fknxLb"
      }
    },
    {
      "cell_type": "code",
      "source": [
        "svr_regression_result = try_model(\n",
        "    SVR, X, y\n",
        ")\n",
        "\n",
        "model_results[\"svm\"] = svr_regression_result\n",
        "svr_regression_result"
      ],
      "metadata": {
        "colab": {
          "base_uri": "https://localhost:8080/"
        },
        "id": "cW46IxgFnqV-",
        "outputId": "b4fc8a2f-4b5d-488f-a31a-1ad0a5a73d7d"
      },
      "execution_count": 195,
      "outputs": [
        {
          "output_type": "execute_result",
          "data": {
            "text/plain": [
              "332.83"
            ]
          },
          "metadata": {},
          "execution_count": 195
        }
      ]
    },
    {
      "cell_type": "markdown",
      "source": [
        "# Дерево решений"
      ],
      "metadata": {
        "id": "J22vKRYhoCu3"
      }
    },
    {
      "cell_type": "code",
      "source": [
        "tree_regression_result = try_model(\n",
        "    DecisionTreeRegressor, X, y\n",
        ")\n",
        "\n",
        "model_results[\"tree\"] = tree_regression_result\n",
        "tree_regression_result"
      ],
      "metadata": {
        "colab": {
          "base_uri": "https://localhost:8080/"
        },
        "id": "S59S_WKsoAci",
        "outputId": "1107da94-4b03-4289-a9ff-b1f585749ff2"
      },
      "execution_count": 196,
      "outputs": [
        {
          "output_type": "execute_result",
          "data": {
            "text/plain": [
              "135.55599999999998"
            ]
          },
          "metadata": {},
          "execution_count": 196
        }
      ]
    },
    {
      "cell_type": "markdown",
      "source": [
        "# Ансаблевые беггинговые методы"
      ],
      "metadata": {
        "id": "f435dmfMp9t3"
      }
    },
    {
      "cell_type": "code",
      "source": [
        "bagging_regression_result = try_model(\n",
        "    BaggingRegressor, X, y\n",
        ")\n",
        "\n",
        "model_results[\"bagging\"] = bagging_regression_result\n",
        "bagging_regression_result"
      ],
      "metadata": {
        "colab": {
          "base_uri": "https://localhost:8080/"
        },
        "id": "cMfcQAYwoQ9c",
        "outputId": "00f49809-19b1-49dc-d98a-a33668ddd7dc"
      },
      "execution_count": 294,
      "outputs": [
        {
          "output_type": "execute_result",
          "data": {
            "text/plain": [
              "105.404"
            ]
          },
          "metadata": {},
          "execution_count": 294
        }
      ]
    },
    {
      "cell_type": "code",
      "source": [
        "random_forest_regression_result = try_model(\n",
        "    RandomForestRegressor, X, y\n",
        ")\n",
        "\n",
        "model_results[\"random_forest\"] = random_forest_regression_result\n",
        "random_forest_regression_result"
      ],
      "metadata": {
        "colab": {
          "base_uri": "https://localhost:8080/"
        },
        "id": "y1sSKX27qTPI",
        "outputId": "fd6b7bd6-a338-4174-b4cf-225fb453d85e"
      },
      "execution_count": 295,
      "outputs": [
        {
          "output_type": "execute_result",
          "data": {
            "text/plain": [
              "95.476"
            ]
          },
          "metadata": {},
          "execution_count": 295
        }
      ]
    },
    {
      "cell_type": "markdown",
      "source": [
        "# Ансаблевые бустинговые методы"
      ],
      "metadata": {
        "id": "PQ8cyQGGqqEp"
      }
    },
    {
      "cell_type": "code",
      "source": [
        "ada_boost_regression_result = try_model(\n",
        "    AdaBoostRegressor, X, y\n",
        ")\n",
        "\n",
        "model_results[\"ada_boost\"] = ada_boost_regression_result\n",
        "ada_boost_regression_result"
      ],
      "metadata": {
        "colab": {
          "base_uri": "https://localhost:8080/"
        },
        "id": "t4g6EoNGqiwq",
        "outputId": "8ff96c7d-8527-4369-a5d9-4a631c299d51"
      },
      "execution_count": 199,
      "outputs": [
        {
          "output_type": "execute_result",
          "data": {
            "text/plain": [
              "327.892"
            ]
          },
          "metadata": {},
          "execution_count": 199
        }
      ]
    },
    {
      "cell_type": "code",
      "source": [
        "gradient_boost_regression_result = try_model(\n",
        "    GradientBoostingRegressor, X, y\n",
        ")\n",
        "\n",
        "model_results[\"gradient_boost\"] = gradient_boost_regression_result\n",
        "gradient_boost_regression_result"
      ],
      "metadata": {
        "colab": {
          "base_uri": "https://localhost:8080/"
        },
        "id": "iLsaE6mGrBZf",
        "outputId": "4704e735-b73d-4efd-9b9f-4fd2f7328409"
      },
      "execution_count": 200,
      "outputs": [
        {
          "output_type": "execute_result",
          "data": {
            "text/plain": [
              "140.032"
            ]
          },
          "metadata": {},
          "execution_count": 200
        }
      ]
    },
    {
      "cell_type": "code",
      "source": [
        "xgb_regression_result = try_model(\n",
        "    XGBRegressor, X, y\n",
        ")\n",
        "\n",
        "model_results[\"xgb\"] = xgb_regression_result\n",
        "xgb_regression_result"
      ],
      "metadata": {
        "colab": {
          "base_uri": "https://localhost:8080/"
        },
        "id": "sn5cglDprTvB",
        "outputId": "f7e833b1-514d-48ae-c281-5cf46705324f"
      },
      "execution_count": 201,
      "outputs": [
        {
          "output_type": "execute_result",
          "data": {
            "text/plain": [
              "131.51999999999998"
            ]
          },
          "metadata": {},
          "execution_count": 201
        }
      ]
    },
    {
      "cell_type": "code",
      "source": [
        "cat_boost_regression_result = try_model(\n",
        "    CatBoostRegressor, X, y, silent=True\n",
        ")\n",
        "\n",
        "model_results[\"cat_boost\"] = cat_boost_regression_result\n",
        "cat_boost_regression_result"
      ],
      "metadata": {
        "colab": {
          "base_uri": "https://localhost:8080/"
        },
        "id": "vNCCO-7jrkHm",
        "outputId": "9885b48e-2fd2-4b9d-bb73-5d047728c696"
      },
      "execution_count": 202,
      "outputs": [
        {
          "output_type": "execute_result",
          "data": {
            "text/plain": [
              "138.722"
            ]
          },
          "metadata": {},
          "execution_count": 202
        }
      ]
    },
    {
      "cell_type": "code",
      "source": [
        "# model_results.columns = [\"mean_log_accuracy_ratio\"]\n",
        "model_results.sort_values()"
      ],
      "metadata": {
        "colab": {
          "base_uri": "https://localhost:8080/",
          "height": 523
        },
        "id": "Xd3RJE2JtkdD",
        "outputId": "5a8ec5eb-851e-4be2-9649-6359e482f007"
      },
      "execution_count": 203,
      "outputs": [
        {
          "output_type": "execute_result",
          "data": {
            "text/plain": [
              "random_forest        100.752\n",
              "bagging              101.004\n",
              "xgb                  131.520\n",
              "tree                 135.556\n",
              "cat_boost            138.722\n",
              "gradient_boost       140.032\n",
              "sgd                  186.130\n",
              "linear_regression    186.536\n",
              "ridge                193.538\n",
              "ada_boost            327.892\n",
              "svm                  332.830\n",
              "lasso                359.084\n",
              "elastic_net          362.266\n",
              "dummy                363.318\n",
              "dtype: float64"
            ],
            "text/html": [
              "<div>\n",
              "<style scoped>\n",
              "    .dataframe tbody tr th:only-of-type {\n",
              "        vertical-align: middle;\n",
              "    }\n",
              "\n",
              "    .dataframe tbody tr th {\n",
              "        vertical-align: top;\n",
              "    }\n",
              "\n",
              "    .dataframe thead th {\n",
              "        text-align: right;\n",
              "    }\n",
              "</style>\n",
              "<table border=\"1\" class=\"dataframe\">\n",
              "  <thead>\n",
              "    <tr style=\"text-align: right;\">\n",
              "      <th></th>\n",
              "      <th>0</th>\n",
              "    </tr>\n",
              "  </thead>\n",
              "  <tbody>\n",
              "    <tr>\n",
              "      <th>random_forest</th>\n",
              "      <td>100.752</td>\n",
              "    </tr>\n",
              "    <tr>\n",
              "      <th>bagging</th>\n",
              "      <td>101.004</td>\n",
              "    </tr>\n",
              "    <tr>\n",
              "      <th>xgb</th>\n",
              "      <td>131.520</td>\n",
              "    </tr>\n",
              "    <tr>\n",
              "      <th>tree</th>\n",
              "      <td>135.556</td>\n",
              "    </tr>\n",
              "    <tr>\n",
              "      <th>cat_boost</th>\n",
              "      <td>138.722</td>\n",
              "    </tr>\n",
              "    <tr>\n",
              "      <th>gradient_boost</th>\n",
              "      <td>140.032</td>\n",
              "    </tr>\n",
              "    <tr>\n",
              "      <th>sgd</th>\n",
              "      <td>186.130</td>\n",
              "    </tr>\n",
              "    <tr>\n",
              "      <th>linear_regression</th>\n",
              "      <td>186.536</td>\n",
              "    </tr>\n",
              "    <tr>\n",
              "      <th>ridge</th>\n",
              "      <td>193.538</td>\n",
              "    </tr>\n",
              "    <tr>\n",
              "      <th>ada_boost</th>\n",
              "      <td>327.892</td>\n",
              "    </tr>\n",
              "    <tr>\n",
              "      <th>svm</th>\n",
              "      <td>332.830</td>\n",
              "    </tr>\n",
              "    <tr>\n",
              "      <th>lasso</th>\n",
              "      <td>359.084</td>\n",
              "    </tr>\n",
              "    <tr>\n",
              "      <th>elastic_net</th>\n",
              "      <td>362.266</td>\n",
              "    </tr>\n",
              "    <tr>\n",
              "      <th>dummy</th>\n",
              "      <td>363.318</td>\n",
              "    </tr>\n",
              "  </tbody>\n",
              "</table>\n",
              "</div><br><label><b>dtype:</b> float64</label>"
            ]
          },
          "metadata": {},
          "execution_count": 203
        }
      ]
    },
    {
      "cell_type": "code",
      "source": [
        "def custom_loss(\n",
        "    y_true: np.ndarray,\n",
        "    y_pred: np.ndarray\n",
        ") -> float:\n",
        "\n",
        "    E = y_true - y_pred\n",
        "    E[E < 0] = E[E < 0] * -2\n",
        "    return E.sum()\n",
        "\n",
        "def optimize_rf_hyperparameters(X_train, y_train):\n",
        "\n",
        "    def objective(trial):\n",
        "\n",
        "        # Определяем гиперпараметры для оптимизации\n",
        "        n_estimators = trial.suggest_int('n_estimators', 10, 100)\n",
        "        max_depth = trial.suggest_int('max_depth', 1, 50)\n",
        "        min_samples_split = trial.suggest_int('min_samples_split', 2, 10)\n",
        "        min_samples_leaf = trial.suggest_int('min_samples_leaf', 1, 10)\n",
        "        bootstrap = trial.suggest_categorical('bootstrap', [True, False])\n",
        "        max_features = trial.suggest_int('max_features', 2, 7)\n",
        "\n",
        "        # Создаем модель Random Forest с заданными гиперпараметрами\n",
        "        model = RandomForestRegressor(\n",
        "            n_estimators=n_estimators,\n",
        "            max_depth=max_depth,\n",
        "            min_samples_split=min_samples_split,\n",
        "            min_samples_leaf=min_samples_leaf,\n",
        "            bootstrap=bootstrap,\n",
        "            max_features=max_features\n",
        "        )\n",
        "\n",
        "        model.fit(X_train, y_train)\n",
        "        y_pred = model.predict(X_train)\n",
        "\n",
        "        return log_mape_column_value(y_train, y_pred)\n",
        "\n",
        "    # Создаем объект исследования\n",
        "    study = optuna.create_study(direction='minimize')  # Максимизируем оценку\n",
        "    study.optimize(objective, n_trials=50, n_jobs=-1)  # Оптимизация на 100 испытаниях\n",
        "\n",
        "    # Возвращаем наилучшие гиперпараметры\n",
        "    return study.best_params\n",
        "\n",
        "\n",
        "def optimize_all_targets(\n",
        "    X_train: pd.DataFrame,\n",
        "    y_train: pd.DataFrame,\n",
        "    optimize_func\n",
        ") -> dict[dict]:\n",
        "\n",
        "    best_params = {}\n",
        "\n",
        "    for target in tqdm(y_train.columns):\n",
        "        best_params[target] = optimize_func(\n",
        "            X_train, y_train[target]\n",
        "        )\n",
        "\n",
        "    return best_params"
      ],
      "metadata": {
        "id": "pOazbT0J140R"
      },
      "execution_count": 273,
      "outputs": []
    },
    {
      "cell_type": "code",
      "source": [
        "def optimize_rf_hyperparameters(\n",
        "    X_train, y_train,\n",
        "    X_val, y_val\n",
        ") -> dict:\n",
        "\n",
        "    def objective(trial):\n",
        "\n",
        "        # Определяем гиперпараметры для оптимизации\n",
        "        n_estimators = trial.suggest_int('n_estimators', 10, 300)\n",
        "        max_depth = trial.suggest_int('max_depth', 1, 50)\n",
        "        min_samples_split = trial.suggest_int('min_samples_split', 2, 10)\n",
        "        min_samples_leaf = trial.suggest_int('min_samples_leaf', 1, 10)\n",
        "        bootstrap = trial.suggest_categorical('bootstrap', [True, False])\n",
        "        max_features = trial.suggest_int('max_features', 2, 7)\n",
        "\n",
        "        y_pred = y_val.copy()\n",
        "\n",
        "        for target in y_train.columns:\n",
        "            # Создаем модель Random Forest с заданными гиперпараметрами\n",
        "            model = RandomForestRegressor(\n",
        "                n_estimators=n_estimators,\n",
        "                max_depth=max_depth,\n",
        "                min_samples_split=min_samples_split,\n",
        "                min_samples_leaf=min_samples_leaf,\n",
        "                bootstrap=bootstrap,\n",
        "                max_features=max_features\n",
        "            )\n",
        "\n",
        "            model.fit(X_train, y_train[target])\n",
        "            y_pred[target] = model.predict(X_val)\n",
        "\n",
        "        return mean_log_accuracy_ratio(y_val, y_pred)\n",
        "\n",
        "    # Создаем объект исследования\n",
        "    study = optuna.create_study(direction='minimize')  # Максимизируем оценку\n",
        "    study.optimize(objective, n_trials=100, n_jobs=-1)  # Оптимизация на 100 испытаниях\n",
        "\n",
        "    # Возвращаем наилучшие гиперпараметры\n",
        "    return study.best_params"
      ],
      "metadata": {
        "id": "sJ0Dmsj8T2Hj"
      },
      "execution_count": 328,
      "outputs": []
    },
    {
      "cell_type": "code",
      "source": [
        "best_rf_params = optimize_rf_hyperparameters(\n",
        "    X_train_scaled, y_train, X_test_scaled, y_test\n",
        ")"
      ],
      "metadata": {
        "colab": {
          "base_uri": "https://localhost:8080/"
        },
        "id": "keRdh4GnDppz",
        "outputId": "323c6559-9836-47e1-edab-b39630affe40"
      },
      "execution_count": 329,
      "outputs": [
        {
          "output_type": "stream",
          "name": "stderr",
          "text": [
            "[I 2024-12-13 18:50:15,242] A new study created in memory with name: no-name-5fe1caf8-9c95-4e67-88c2-b561e4d1e4c2\n",
            "[I 2024-12-13 18:50:16,179] Trial 0 finished with value: 95.37 and parameters: {'n_estimators': 79, 'max_depth': 4, 'min_samples_split': 4, 'min_samples_leaf': 6, 'bootstrap': True, 'max_features': 6}. Best is trial 0 with value: 95.37.\n",
            "[I 2024-12-13 18:50:16,236] Trial 1 finished with value: 102.27 and parameters: {'n_estimators': 81, 'max_depth': 5, 'min_samples_split': 2, 'min_samples_leaf': 9, 'bootstrap': False, 'max_features': 4}. Best is trial 0 with value: 95.37.\n",
            "[I 2024-12-13 18:50:17,977] Trial 2 finished with value: 85.48 and parameters: {'n_estimators': 95, 'max_depth': 8, 'min_samples_split': 2, 'min_samples_leaf': 1, 'bootstrap': True, 'max_features': 7}. Best is trial 2 with value: 85.48.\n",
            "[I 2024-12-13 18:50:18,575] Trial 4 finished with value: 88.87 and parameters: {'n_estimators': 31, 'max_depth': 9, 'min_samples_split': 6, 'min_samples_leaf': 1, 'bootstrap': False, 'max_features': 6}. Best is trial 2 with value: 85.48.\n",
            "[I 2024-12-13 18:50:20,445] Trial 3 finished with value: 86.47 and parameters: {'n_estimators': 263, 'max_depth': 8, 'min_samples_split': 10, 'min_samples_leaf': 8, 'bootstrap': False, 'max_features': 6}. Best is trial 2 with value: 85.48.\n",
            "[I 2024-12-13 18:50:20,564] Trial 5 finished with value: 119.63 and parameters: {'n_estimators': 229, 'max_depth': 47, 'min_samples_split': 8, 'min_samples_leaf': 10, 'bootstrap': False, 'max_features': 2}. Best is trial 2 with value: 85.48.\n",
            "[I 2024-12-13 18:50:20,668] Trial 7 finished with value: 186.96 and parameters: {'n_estimators': 10, 'max_depth': 2, 'min_samples_split': 2, 'min_samples_leaf': 4, 'bootstrap': True, 'max_features': 4}. Best is trial 2 with value: 85.48.\n",
            "[I 2024-12-13 18:50:26,424] Trial 6 finished with value: 87.84 and parameters: {'n_estimators': 234, 'max_depth': 29, 'min_samples_split': 6, 'min_samples_leaf': 6, 'bootstrap': False, 'max_features': 6}. Best is trial 2 with value: 85.48.\n",
            "[I 2024-12-13 18:50:26,855] Trial 9 finished with value: 113.07 and parameters: {'n_estimators': 47, 'max_depth': 50, 'min_samples_split': 3, 'min_samples_leaf': 8, 'bootstrap': False, 'max_features': 2}. Best is trial 2 with value: 85.48.\n",
            "[I 2024-12-13 18:50:27,000] Trial 8 finished with value: 85.52 and parameters: {'n_estimators': 226, 'max_depth': 15, 'min_samples_split': 4, 'min_samples_leaf': 2, 'bootstrap': True, 'max_features': 7}. Best is trial 2 with value: 85.48.\n",
            "[I 2024-12-13 18:50:27,597] Trial 10 finished with value: 148.32 and parameters: {'n_estimators': 88, 'max_depth': 2, 'min_samples_split': 10, 'min_samples_leaf': 4, 'bootstrap': False, 'max_features': 6}. Best is trial 2 with value: 85.48.\n",
            "[I 2024-12-13 18:50:29,669] Trial 11 finished with value: 84.58 and parameters: {'n_estimators': 149, 'max_depth': 23, 'min_samples_split': 8, 'min_samples_leaf': 3, 'bootstrap': True, 'max_features': 7}. Best is trial 11 with value: 84.58.\n",
            "[I 2024-12-13 18:50:31,290] Trial 12 finished with value: 86.0 and parameters: {'n_estimators': 173, 'max_depth': 20, 'min_samples_split': 4, 'min_samples_leaf': 1, 'bootstrap': True, 'max_features': 7}. Best is trial 11 with value: 84.58.\n",
            "[I 2024-12-13 18:50:32,447] Trial 13 finished with value: 85.18 and parameters: {'n_estimators': 155, 'max_depth': 23, 'min_samples_split': 8, 'min_samples_leaf': 3, 'bootstrap': True, 'max_features': 7}. Best is trial 11 with value: 84.58.\n",
            "[I 2024-12-13 18:50:33,475] Trial 14 finished with value: 87.28 and parameters: {'n_estimators': 137, 'max_depth': 32, 'min_samples_split': 8, 'min_samples_leaf': 3, 'bootstrap': True, 'max_features': 5}. Best is trial 11 with value: 84.58.\n",
            "[I 2024-12-13 18:50:34,914] Trial 15 finished with value: 88.29 and parameters: {'n_estimators': 164, 'max_depth': 32, 'min_samples_split': 8, 'min_samples_leaf': 3, 'bootstrap': True, 'max_features': 5}. Best is trial 11 with value: 84.58.\n",
            "[I 2024-12-13 18:50:35,931] Trial 16 finished with value: 86.85 and parameters: {'n_estimators': 165, 'max_depth': 36, 'min_samples_split': 8, 'min_samples_leaf': 4, 'bootstrap': True, 'max_features': 5}. Best is trial 11 with value: 84.58.\n",
            "[I 2024-12-13 18:50:37,065] Trial 17 finished with value: 98.81 and parameters: {'n_estimators': 143, 'max_depth': 22, 'min_samples_split': 7, 'min_samples_leaf': 5, 'bootstrap': True, 'max_features': 3}. Best is trial 11 with value: 84.58.\n",
            "[I 2024-12-13 18:50:38,516] Trial 18 finished with value: 98.33 and parameters: {'n_estimators': 132, 'max_depth': 22, 'min_samples_split': 7, 'min_samples_leaf': 5, 'bootstrap': True, 'max_features': 3}. Best is trial 11 with value: 84.58.\n",
            "[I 2024-12-13 18:50:41,997] Trial 19 finished with value: 84.57 and parameters: {'n_estimators': 188, 'max_depth': 39, 'min_samples_split': 9, 'min_samples_leaf': 3, 'bootstrap': True, 'max_features': 7}. Best is trial 19 with value: 84.57.\n",
            "[I 2024-12-13 18:50:43,056] Trial 20 finished with value: 83.96 and parameters: {'n_estimators': 204, 'max_depth': 15, 'min_samples_split': 9, 'min_samples_leaf': 3, 'bootstrap': True, 'max_features': 7}. Best is trial 20 with value: 83.96.\n",
            "[I 2024-12-13 18:50:45,690] Trial 21 finished with value: 84.91 and parameters: {'n_estimators': 204, 'max_depth': 41, 'min_samples_split': 9, 'min_samples_leaf': 2, 'bootstrap': True, 'max_features': 7}. Best is trial 20 with value: 83.96.\n",
            "[I 2024-12-13 18:50:46,724] Trial 22 finished with value: 85.05 and parameters: {'n_estimators': 203, 'max_depth': 41, 'min_samples_split': 9, 'min_samples_leaf': 2, 'bootstrap': True, 'max_features': 7}. Best is trial 20 with value: 83.96.\n",
            "[I 2024-12-13 18:50:51,576] Trial 23 finished with value: 84.19 and parameters: {'n_estimators': 286, 'max_depth': 14, 'min_samples_split': 9, 'min_samples_leaf': 2, 'bootstrap': True, 'max_features': 7}. Best is trial 20 with value: 83.96.\n",
            "[I 2024-12-13 18:50:52,929] Trial 24 finished with value: 85.31 and parameters: {'n_estimators': 297, 'max_depth': 17, 'min_samples_split': 9, 'min_samples_leaf': 3, 'bootstrap': True, 'max_features': 6}. Best is trial 20 with value: 83.96.\n",
            "[I 2024-12-13 18:50:58,011] Trial 25 finished with value: 85.31 and parameters: {'n_estimators': 295, 'max_depth': 14, 'min_samples_split': 9, 'min_samples_leaf': 2, 'bootstrap': True, 'max_features': 6}. Best is trial 20 with value: 83.96.\n",
            "[I 2024-12-13 18:50:59,454] Trial 26 finished with value: 84.56 and parameters: {'n_estimators': 295, 'max_depth': 13, 'min_samples_split': 10, 'min_samples_leaf': 2, 'bootstrap': True, 'max_features': 7}. Best is trial 20 with value: 83.96.\n",
            "[I 2024-12-13 18:51:02,720] Trial 27 finished with value: 84.71 and parameters: {'n_estimators': 263, 'max_depth': 13, 'min_samples_split': 10, 'min_samples_leaf': 5, 'bootstrap': True, 'max_features': 7}. Best is trial 20 with value: 83.96.\n",
            "[I 2024-12-13 18:51:03,726] Trial 28 finished with value: 87.02 and parameters: {'n_estimators': 268, 'max_depth': 12, 'min_samples_split': 10, 'min_samples_leaf': 1, 'bootstrap': True, 'max_features': 5}. Best is trial 20 with value: 83.96.\n",
            "[I 2024-12-13 18:51:08,452] Trial 29 finished with value: 86.88 and parameters: {'n_estimators': 272, 'max_depth': 11, 'min_samples_split': 10, 'min_samples_leaf': 1, 'bootstrap': True, 'max_features': 5}. Best is trial 20 with value: 83.96.\n",
            "[I 2024-12-13 18:51:09,678] Trial 30 finished with value: 85.22 and parameters: {'n_estimators': 275, 'max_depth': 18, 'min_samples_split': 5, 'min_samples_leaf': 7, 'bootstrap': True, 'max_features': 6}. Best is trial 20 with value: 83.96.\n",
            "[I 2024-12-13 18:51:12,556] Trial 31 finished with value: 85.74 and parameters: {'n_estimators': 241, 'max_depth': 18, 'min_samples_split': 5, 'min_samples_leaf': 7, 'bootstrap': True, 'max_features': 6}. Best is trial 20 with value: 83.96.\n",
            "[I 2024-12-13 18:51:14,200] Trial 32 finished with value: 84.25 and parameters: {'n_estimators': 189, 'max_depth': 26, 'min_samples_split': 9, 'min_samples_leaf': 2, 'bootstrap': True, 'max_features': 7}. Best is trial 20 with value: 83.96.\n",
            "[I 2024-12-13 18:51:20,836] Trial 33 finished with value: 84.39 and parameters: {'n_estimators': 199, 'max_depth': 29, 'min_samples_split': 9, 'min_samples_leaf': 2, 'bootstrap': True, 'max_features': 7}. Best is trial 20 with value: 83.96.\n",
            "[I 2024-12-13 18:51:24,292] Trial 34 finished with value: 84.22 and parameters: {'n_estimators': 248, 'max_depth': 27, 'min_samples_split': 7, 'min_samples_leaf': 2, 'bootstrap': True, 'max_features': 7}. Best is trial 20 with value: 83.96.\n",
            "[I 2024-12-13 18:51:25,972] Trial 35 finished with value: 84.74 and parameters: {'n_estimators': 204, 'max_depth': 30, 'min_samples_split': 7, 'min_samples_leaf': 4, 'bootstrap': True, 'max_features': 7}. Best is trial 20 with value: 83.96.\n",
            "[I 2024-12-13 18:51:29,280] Trial 37 finished with value: 91.9 and parameters: {'n_estimators': 116, 'max_depth': 26, 'min_samples_split': 7, 'min_samples_leaf': 1, 'bootstrap': False, 'max_features': 6}. Best is trial 20 with value: 83.96.\n",
            "[I 2024-12-13 18:51:29,609] Trial 36 finished with value: 84.71 and parameters: {'n_estimators': 252, 'max_depth': 27, 'min_samples_split': 7, 'min_samples_leaf': 4, 'bootstrap': True, 'max_features': 7}. Best is trial 20 with value: 83.96.\n",
            "[I 2024-12-13 18:51:38,347] Trial 39 finished with value: 87.08 and parameters: {'n_estimators': 218, 'max_depth': 6, 'min_samples_split': 6, 'min_samples_leaf': 2, 'bootstrap': False, 'max_features': 6}. Best is trial 20 with value: 83.96.\n",
            "[I 2024-12-13 18:51:38,438] Trial 38 finished with value: 85.12 and parameters: {'n_estimators': 245, 'max_depth': 6, 'min_samples_split': 6, 'min_samples_leaf': 2, 'bootstrap': True, 'max_features': 6}. Best is trial 20 with value: 83.96.\n",
            "[I 2024-12-13 18:51:42,482] Trial 40 finished with value: 92.08 and parameters: {'n_estimators': 182, 'max_depth': 9, 'min_samples_split': 9, 'min_samples_leaf': 1, 'bootstrap': True, 'max_features': 4}. Best is trial 20 with value: 83.96.\n",
            "[I 2024-12-13 18:51:42,927] Trial 41 finished with value: 99.94 and parameters: {'n_estimators': 219, 'max_depth': 34, 'min_samples_split': 9, 'min_samples_leaf': 1, 'bootstrap': True, 'max_features': 3}. Best is trial 20 with value: 83.96.\n",
            "[I 2024-12-13 18:51:46,311] Trial 43 finished with value: 84.91 and parameters: {'n_estimators': 191, 'max_depth': 29, 'min_samples_split': 8, 'min_samples_leaf': 2, 'bootstrap': True, 'max_features': 7}. Best is trial 20 with value: 83.96.\n",
            "[I 2024-12-13 18:51:46,488] Trial 42 finished with value: 84.21 and parameters: {'n_estimators': 220, 'max_depth': 28, 'min_samples_split': 9, 'min_samples_leaf': 2, 'bootstrap': True, 'max_features': 7}. Best is trial 20 with value: 83.96.\n",
            "[I 2024-12-13 18:51:52,285] Trial 44 finished with value: 85.06 and parameters: {'n_estimators': 254, 'max_depth': 25, 'min_samples_split': 9, 'min_samples_leaf': 10, 'bootstrap': True, 'max_features': 7}. Best is trial 20 with value: 83.96.\n",
            "[I 2024-12-13 18:51:55,533] Trial 45 finished with value: 104.57 and parameters: {'n_estimators': 253, 'max_depth': 25, 'min_samples_split': 10, 'min_samples_leaf': 3, 'bootstrap': False, 'max_features': 7}. Best is trial 20 with value: 83.96.\n",
            "[I 2024-12-13 18:51:59,950] Trial 47 finished with value: 85.31 and parameters: {'n_estimators': 233, 'max_depth': 20, 'min_samples_split': 8, 'min_samples_leaf': 3, 'bootstrap': True, 'max_features': 6}. Best is trial 20 with value: 83.96.\n",
            "[I 2024-12-13 18:52:00,405] Trial 46 finished with value: 104.52 and parameters: {'n_estimators': 280, 'max_depth': 20, 'min_samples_split': 10, 'min_samples_leaf': 3, 'bootstrap': False, 'max_features': 7}. Best is trial 20 with value: 83.96.\n",
            "[I 2024-12-13 18:52:04,386] Trial 49 finished with value: 84.43 and parameters: {'n_estimators': 216, 'max_depth': 16, 'min_samples_split': 8, 'min_samples_leaf': 4, 'bootstrap': True, 'max_features': 7}. Best is trial 20 with value: 83.96.\n",
            "[I 2024-12-13 18:52:07,643] Trial 48 finished with value: 105.55 and parameters: {'n_estimators': 282, 'max_depth': 27, 'min_samples_split': 8, 'min_samples_leaf': 4, 'bootstrap': False, 'max_features': 7}. Best is trial 20 with value: 83.96.\n",
            "[I 2024-12-13 18:52:08,854] Trial 51 finished with value: 85.73 and parameters: {'n_estimators': 61, 'max_depth': 34, 'min_samples_split': 9, 'min_samples_leaf': 1, 'bootstrap': True, 'max_features': 6}. Best is trial 20 with value: 83.96.\n",
            "[I 2024-12-13 18:52:11,198] Trial 50 finished with value: 84.6 and parameters: {'n_estimators': 284, 'max_depth': 27, 'min_samples_split': 5, 'min_samples_leaf': 1, 'bootstrap': True, 'max_features': 6}. Best is trial 20 with value: 83.96.\n",
            "[I 2024-12-13 18:52:12,037] Trial 52 finished with value: 84.33 and parameters: {'n_estimators': 177, 'max_depth': 29, 'min_samples_split': 9, 'min_samples_leaf': 2, 'bootstrap': True, 'max_features': 7}. Best is trial 20 with value: 83.96.\n",
            "[I 2024-12-13 18:52:14,432] Trial 53 finished with value: 84.86 and parameters: {'n_estimators': 177, 'max_depth': 31, 'min_samples_split': 9, 'min_samples_leaf': 2, 'bootstrap': True, 'max_features': 7}. Best is trial 20 with value: 83.96.\n",
            "[I 2024-12-13 18:52:15,090] Trial 54 finished with value: 83.72 and parameters: {'n_estimators': 169, 'max_depth': 24, 'min_samples_split': 10, 'min_samples_leaf': 2, 'bootstrap': True, 'max_features': 7}. Best is trial 54 with value: 83.72.\n",
            "[I 2024-12-13 18:52:17,340] Trial 55 finished with value: 84.52 and parameters: {'n_estimators': 164, 'max_depth': 24, 'min_samples_split': 10, 'min_samples_leaf': 2, 'bootstrap': True, 'max_features': 7}. Best is trial 54 with value: 83.72.\n",
            "[I 2024-12-13 18:52:19,965] Trial 56 finished with value: 84.44 and parameters: {'n_estimators': 227, 'max_depth': 24, 'min_samples_split': 10, 'min_samples_leaf': 3, 'bootstrap': True, 'max_features': 7}. Best is trial 54 with value: 83.72.\n",
            "[I 2024-12-13 18:52:22,764] Trial 57 finished with value: 85.4 and parameters: {'n_estimators': 226, 'max_depth': 34, 'min_samples_split': 10, 'min_samples_leaf': 9, 'bootstrap': True, 'max_features': 7}. Best is trial 54 with value: 83.72.\n",
            "[I 2024-12-13 18:52:23,438] Trial 58 finished with value: 115.03 and parameters: {'n_estimators': 213, 'max_depth': 20, 'min_samples_split': 3, 'min_samples_leaf': 3, 'bootstrap': True, 'max_features': 2}. Best is trial 54 with value: 83.72.\n",
            "[I 2024-12-13 18:52:24,934] Trial 59 finished with value: 113.97 and parameters: {'n_estimators': 195, 'max_depth': 22, 'min_samples_split': 3, 'min_samples_leaf': 3, 'bootstrap': True, 'max_features': 2}. Best is trial 54 with value: 83.72.\n",
            "[I 2024-12-13 18:52:25,769] Trial 60 finished with value: 85.07 and parameters: {'n_estimators': 115, 'max_depth': 37, 'min_samples_split': 8, 'min_samples_leaf': 1, 'bootstrap': True, 'max_features': 7}. Best is trial 54 with value: 83.72.\n",
            "[I 2024-12-13 18:52:27,680] Trial 61 finished with value: 84.36 and parameters: {'n_estimators': 147, 'max_depth': 10, 'min_samples_split': 8, 'min_samples_leaf': 2, 'bootstrap': True, 'max_features': 7}. Best is trial 54 with value: 83.72.\n",
            "[I 2024-12-13 18:52:29,085] Trial 62 finished with value: 84.48 and parameters: {'n_estimators': 179, 'max_depth': 28, 'min_samples_split': 9, 'min_samples_leaf': 2, 'bootstrap': True, 'max_features': 7}. Best is trial 54 with value: 83.72.\n",
            "[I 2024-12-13 18:52:30,833] Trial 63 finished with value: 83.86 and parameters: {'n_estimators': 174, 'max_depth': 31, 'min_samples_split': 9, 'min_samples_leaf': 2, 'bootstrap': True, 'max_features': 7}. Best is trial 54 with value: 83.72.\n",
            "[I 2024-12-13 18:52:31,992] Trial 64 finished with value: 84.82 and parameters: {'n_estimators': 160, 'max_depth': 30, 'min_samples_split': 9, 'min_samples_leaf': 2, 'bootstrap': True, 'max_features': 7}. Best is trial 54 with value: 83.72.\n",
            "[I 2024-12-13 18:52:35,067] Trial 65 finished with value: 84.18 and parameters: {'n_estimators': 162, 'max_depth': 32, 'min_samples_split': 9, 'min_samples_leaf': 2, 'bootstrap': True, 'max_features': 7}. Best is trial 54 with value: 83.72.\n",
            "[I 2024-12-13 18:52:37,758] Trial 67 finished with value: 86.08 and parameters: {'n_estimators': 122, 'max_depth': 32, 'min_samples_split': 10, 'min_samples_leaf': 1, 'bootstrap': True, 'max_features': 6}. Best is trial 54 with value: 83.72.\n",
            "[I 2024-12-13 18:52:38,007] Trial 66 finished with value: 85.17 and parameters: {'n_estimators': 240, 'max_depth': 15, 'min_samples_split': 10, 'min_samples_leaf': 1, 'bootstrap': True, 'max_features': 6}. Best is trial 54 with value: 83.72.\n",
            "[I 2024-12-13 18:52:40,457] Trial 68 finished with value: 83.82 and parameters: {'n_estimators': 154, 'max_depth': 37, 'min_samples_split': 9, 'min_samples_leaf': 3, 'bootstrap': True, 'max_features': 7}. Best is trial 54 with value: 83.72.\n",
            "[I 2024-12-13 18:52:40,641] Trial 69 finished with value: 85.19 and parameters: {'n_estimators': 153, 'max_depth': 37, 'min_samples_split': 9, 'min_samples_leaf': 3, 'bootstrap': True, 'max_features': 7}. Best is trial 54 with value: 83.72.\n",
            "[I 2024-12-13 18:52:43,410] Trial 70 finished with value: 90.16 and parameters: {'n_estimators': 155, 'max_depth': 38, 'min_samples_split': 9, 'min_samples_leaf': 3, 'bootstrap': True, 'max_features': 4}. Best is trial 54 with value: 83.72.\n",
            "[I 2024-12-13 18:52:43,698] Trial 71 finished with value: 84.52 and parameters: {'n_estimators': 137, 'max_depth': 42, 'min_samples_split': 10, 'min_samples_leaf': 6, 'bootstrap': True, 'max_features': 7}. Best is trial 54 with value: 83.72.\n",
            "[I 2024-12-13 18:52:45,895] Trial 72 finished with value: 84.46 and parameters: {'n_estimators': 132, 'max_depth': 42, 'min_samples_split': 8, 'min_samples_leaf': 2, 'bootstrap': True, 'max_features': 7}. Best is trial 54 with value: 83.72.\n",
            "[I 2024-12-13 18:52:47,033] Trial 73 finished with value: 84.34 and parameters: {'n_estimators': 167, 'max_depth': 34, 'min_samples_split': 8, 'min_samples_leaf': 2, 'bootstrap': True, 'max_features': 7}. Best is trial 54 with value: 83.72.\n",
            "[I 2024-12-13 18:52:50,951] Trial 74 finished with value: 84.78 and parameters: {'n_estimators': 169, 'max_depth': 33, 'min_samples_split': 7, 'min_samples_leaf': 2, 'bootstrap': True, 'max_features': 7}. Best is trial 54 with value: 83.72.\n",
            "[I 2024-12-13 18:52:52,710] Trial 75 finished with value: 84.91 and parameters: {'n_estimators': 208, 'max_depth': 46, 'min_samples_split': 9, 'min_samples_leaf': 3, 'bootstrap': True, 'max_features': 7}. Best is trial 54 with value: 83.72.\n",
            "[I 2024-12-13 18:52:56,420] Trial 76 finished with value: 85.7 and parameters: {'n_estimators': 210, 'max_depth': 35, 'min_samples_split': 9, 'min_samples_leaf': 3, 'bootstrap': True, 'max_features': 6}. Best is trial 54 with value: 83.72.\n",
            "[I 2024-12-13 18:52:57,698] Trial 77 finished with value: 84.95 and parameters: {'n_estimators': 200, 'max_depth': 36, 'min_samples_split': 9, 'min_samples_leaf': 3, 'bootstrap': True, 'max_features': 6}. Best is trial 54 with value: 83.72.\n",
            "[I 2024-12-13 18:53:00,271] Trial 78 finished with value: 102.9 and parameters: {'n_estimators': 185, 'max_depth': 31, 'min_samples_split': 10, 'min_samples_leaf': 4, 'bootstrap': False, 'max_features': 7}. Best is trial 54 with value: 83.72.\n",
            "[I 2024-12-13 18:53:01,991] Trial 79 finished with value: 102.85 and parameters: {'n_estimators': 184, 'max_depth': 31, 'min_samples_split': 10, 'min_samples_leaf': 4, 'bootstrap': False, 'max_features': 7}. Best is trial 54 with value: 83.72.\n",
            "[I 2024-12-13 18:53:04,887] Trial 80 finished with value: 97.35 and parameters: {'n_estimators': 261, 'max_depth': 3, 'min_samples_split': 7, 'min_samples_leaf': 2, 'bootstrap': True, 'max_features': 7}. Best is trial 54 with value: 83.72.\n",
            "[I 2024-12-13 18:53:08,055] Trial 81 finished with value: 84.43 and parameters: {'n_estimators': 264, 'max_depth': 40, 'min_samples_split': 8, 'min_samples_leaf': 2, 'bootstrap': True, 'max_features': 7}. Best is trial 54 with value: 83.72.\n",
            "[I 2024-12-13 18:53:08,453] Trial 82 finished with value: 85.11 and parameters: {'n_estimators': 192, 'max_depth': 26, 'min_samples_split': 9, 'min_samples_leaf': 1, 'bootstrap': True, 'max_features': 7}. Best is trial 54 with value: 83.72.\n",
            "[I 2024-12-13 18:53:11,466] Trial 84 finished with value: 84.73 and parameters: {'n_estimators': 173, 'max_depth': 24, 'min_samples_split': 9, 'min_samples_leaf': 2, 'bootstrap': True, 'max_features': 7}. Best is trial 54 with value: 83.72.\n",
            "[I 2024-12-13 18:53:11,570] Trial 83 finished with value: 83.94 and parameters: {'n_estimators': 194, 'max_depth': 26, 'min_samples_split': 9, 'min_samples_leaf': 2, 'bootstrap': True, 'max_features': 7}. Best is trial 54 with value: 83.72.\n",
            "[I 2024-12-13 18:53:11,779] Trial 85 finished with value: 105.42 and parameters: {'n_estimators': 13, 'max_depth': 19, 'min_samples_split': 9, 'min_samples_leaf': 2, 'bootstrap': True, 'max_features': 3}. Best is trial 54 with value: 83.72.\n",
            "[I 2024-12-13 18:53:14,217] Trial 87 finished with value: 84.83 and parameters: {'n_estimators': 141, 'max_depth': 28, 'min_samples_split': 8, 'min_samples_leaf': 5, 'bootstrap': True, 'max_features': 7}. Best is trial 54 with value: 83.72.\n",
            "[I 2024-12-13 18:53:14,252] Trial 86 finished with value: 84.43 and parameters: {'n_estimators': 144, 'max_depth': 21, 'min_samples_split': 9, 'min_samples_leaf': 2, 'bootstrap': True, 'max_features': 7}. Best is trial 54 with value: 83.72.\n",
            "[I 2024-12-13 18:53:19,417] Trial 89 finished with value: 85.28 and parameters: {'n_estimators': 160, 'max_depth': 12, 'min_samples_split': 6, 'min_samples_leaf': 1, 'bootstrap': True, 'max_features': 7}. Best is trial 54 with value: 83.72.\n",
            "[I 2024-12-13 18:53:21,608] Trial 88 finished with value: 85.11 and parameters: {'n_estimators': 290, 'max_depth': 13, 'min_samples_split': 9, 'min_samples_leaf': 1, 'bootstrap': True, 'max_features': 7}. Best is trial 54 with value: 83.72.\n",
            "[I 2024-12-13 18:53:23,444] Trial 90 finished with value: 84.76 and parameters: {'n_estimators': 236, 'max_depth': 28, 'min_samples_split': 10, 'min_samples_leaf': 1, 'bootstrap': True, 'max_features': 6}. Best is trial 54 with value: 83.72.\n",
            "[I 2024-12-13 18:53:24,840] Trial 91 finished with value: 85.15 and parameters: {'n_estimators': 196, 'max_depth': 28, 'min_samples_split': 10, 'min_samples_leaf': 3, 'bootstrap': True, 'max_features': 6}. Best is trial 54 with value: 83.72.\n",
            "[I 2024-12-13 18:53:27,064] Trial 92 finished with value: 84.97 and parameters: {'n_estimators': 196, 'max_depth': 23, 'min_samples_split': 9, 'min_samples_leaf': 2, 'bootstrap': True, 'max_features': 7}. Best is trial 54 with value: 83.72.\n",
            "[I 2024-12-13 18:53:28,858] Trial 93 finished with value: 84.86 and parameters: {'n_estimators': 223, 'max_depth': 26, 'min_samples_split': 9, 'min_samples_leaf': 2, 'bootstrap': True, 'max_features': 7}. Best is trial 54 with value: 83.72.\n",
            "[I 2024-12-13 18:53:31,580] Trial 94 finished with value: 84.03 and parameters: {'n_estimators': 186, 'max_depth': 26, 'min_samples_split': 9, 'min_samples_leaf': 2, 'bootstrap': True, 'max_features': 7}. Best is trial 54 with value: 83.72.\n",
            "[I 2024-12-13 18:53:33,898] Trial 95 finished with value: 84.61 and parameters: {'n_estimators': 171, 'max_depth': 30, 'min_samples_split': 8, 'min_samples_leaf': 3, 'bootstrap': True, 'max_features': 7}. Best is trial 54 with value: 83.72.\n",
            "[I 2024-12-13 18:53:35,477] Trial 96 finished with value: 84.76 and parameters: {'n_estimators': 171, 'max_depth': 30, 'min_samples_split': 8, 'min_samples_leaf': 3, 'bootstrap': True, 'max_features': 7}. Best is trial 54 with value: 83.72.\n",
            "[I 2024-12-13 18:53:36,820] Trial 97 finished with value: 84.38 and parameters: {'n_estimators': 161, 'max_depth': 17, 'min_samples_split': 9, 'min_samples_leaf': 2, 'bootstrap': True, 'max_features': 7}. Best is trial 54 with value: 83.72.\n",
            "[I 2024-12-13 18:53:39,610] Trial 98 finished with value: 85.12 and parameters: {'n_estimators': 207, 'max_depth': 32, 'min_samples_split': 2, 'min_samples_leaf': 2, 'bootstrap': True, 'max_features': 7}. Best is trial 54 with value: 83.72.\n",
            "[I 2024-12-13 18:53:39,892] Trial 99 finished with value: 84.24 and parameters: {'n_estimators': 205, 'max_depth': 32, 'min_samples_split': 9, 'min_samples_leaf': 7, 'bootstrap': True, 'max_features': 7}. Best is trial 54 with value: 83.72.\n"
          ]
        }
      ]
    },
    {
      "cell_type": "code",
      "source": [
        "best_rf_params"
      ],
      "metadata": {
        "colab": {
          "base_uri": "https://localhost:8080/"
        },
        "id": "cLChzXoDMIGb",
        "outputId": "96c44894-1217-4e2b-afa6-646211d63b77"
      },
      "execution_count": 330,
      "outputs": [
        {
          "output_type": "execute_result",
          "data": {
            "text/plain": [
              "{'n_estimators': 169,\n",
              " 'max_depth': 24,\n",
              " 'min_samples_split': 10,\n",
              " 'min_samples_leaf': 2,\n",
              " 'bootstrap': True,\n",
              " 'max_features': 7}"
            ]
          },
          "metadata": {},
          "execution_count": 330
        }
      ]
    },
    {
      "cell_type": "code",
      "source": [
        "try_model(\n",
        "    RandomForestRegressor, X, y, **best_rf_params\n",
        ")"
      ],
      "metadata": {
        "colab": {
          "base_uri": "https://localhost:8080/"
        },
        "id": "45cVTogKX5SS",
        "outputId": "ac321a01-db63-4b5e-f110-42460964429f"
      },
      "execution_count": 331,
      "outputs": [
        {
          "output_type": "execute_result",
          "data": {
            "text/plain": [
              "96.38399999999999"
            ]
          },
          "metadata": {},
          "execution_count": 331
        }
      ]
    },
    {
      "cell_type": "code",
      "source": [
        "def fit_regressors(\n",
        "    X_train, y_train,\n",
        "    regressor_class: BaseEstimator,\n",
        "    params_for_all: dict[dict]\n",
        ") -> tuple[BaseEstimator]:\n",
        "\n",
        "    trained_regressors = {}\n",
        "\n",
        "    for name, params in tqdm(params_for_all.items()):\n",
        "        regressor = regressor_class(**params)\n",
        "        regressor.fit(X_train, y_train[name])\n",
        "        trained_regressors[name] = regressor\n",
        "\n",
        "    return trained_regressors"
      ],
      "metadata": {
        "id": "kdEksP_cM0Co"
      },
      "execution_count": 332,
      "outputs": []
    },
    {
      "cell_type": "code",
      "source": [
        "class InfPipeline:\n",
        "    def __init__(self, scaler, regressors):\n",
        "        \"\"\"\n",
        "        Инициализация пайплайна.\n",
        "\n",
        "        :param scaler: Обученный StandardScaler\n",
        "        :param regressors: Список обученных регрессоров\n",
        "        \"\"\"\n",
        "        self.scaler = scaler\n",
        "        self.regressors = regressors\n",
        "\n",
        "    def predict(self, X):\n",
        "        \"\"\"\n",
        "        Метод для предсказания на основе входных данных X.\n",
        "\n",
        "        :param X: Входные данные\n",
        "        :return: DataFrame с предсказаниями\n",
        "        \"\"\"\n",
        "        # Стандартизация данных\n",
        "        X_scaled = self.scaler.transform(X)\n",
        "\n",
        "        # Получение предсказаний от каждого регрессора\n",
        "        predictions = {\n",
        "            name: regressor.predict(X_scaled)\n",
        "            for name, regressor in self.regressors.items()\n",
        "        }\n",
        "\n",
        "        # Создание DataFrame с предсказаниями\n",
        "        predictions_df = pd.DataFrame(predictions)\n",
        "        # predictions_df.columns = [f'prediction_{i+1}' for i in range(len(self.regressors))]\n",
        "\n",
        "        return predictions_df"
      ],
      "metadata": {
        "id": "anSXL8_xPDG4"
      },
      "execution_count": 322,
      "outputs": []
    }
  ]
}